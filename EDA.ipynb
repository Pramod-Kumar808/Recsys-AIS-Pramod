{
 "metadata": {
  "language_info": {
   "codemirror_mode": {
    "name": "ipython",
    "version": 3
   },
   "file_extension": ".py",
   "mimetype": "text/x-python",
   "name": "python",
   "nbconvert_exporter": "python",
   "pygments_lexer": "ipython3",
   "version": "3.8.3"
  },
  "orig_nbformat": 4,
  "kernelspec": {
   "name": "python3",
   "display_name": "Python 3.8.3 64-bit ('base': conda)"
  },
  "interpreter": {
   "hash": "ce673ca8065cc1741bb1d48cd628c1692f891aff8e30fd27ef9150d57bd8bb8b"
  }
 },
 "nbformat": 4,
 "nbformat_minor": 2,
 "cells": [
  {
   "source": [
    "# Data Loading"
   ],
   "cell_type": "markdown",
   "metadata": {}
  },
  {
   "cell_type": "code",
   "execution_count": 1,
   "metadata": {},
   "outputs": [],
   "source": [
    "import pandas as pd\n",
    "import matplotlib.pyplot as plt\n",
    "import plotly.express as px"
   ]
  },
  {
   "cell_type": "code",
   "execution_count": 2,
   "metadata": {},
   "outputs": [
    {
     "output_type": "execute_result",
     "data": {
      "text/plain": [
       "   userId  movieId  rating   timestamp\n",
       "0       1       31     2.5  1260759144\n",
       "1       1     1029     3.0  1260759179\n",
       "2       1     1061     3.0  1260759182\n",
       "3       1     1129     2.0  1260759185\n",
       "4       1     1172     4.0  1260759205"
      ],
      "text/html": "<div>\n<style scoped>\n    .dataframe tbody tr th:only-of-type {\n        vertical-align: middle;\n    }\n\n    .dataframe tbody tr th {\n        vertical-align: top;\n    }\n\n    .dataframe thead th {\n        text-align: right;\n    }\n</style>\n<table border=\"1\" class=\"dataframe\">\n  <thead>\n    <tr style=\"text-align: right;\">\n      <th></th>\n      <th>userId</th>\n      <th>movieId</th>\n      <th>rating</th>\n      <th>timestamp</th>\n    </tr>\n  </thead>\n  <tbody>\n    <tr>\n      <th>0</th>\n      <td>1</td>\n      <td>31</td>\n      <td>2.5</td>\n      <td>1260759144</td>\n    </tr>\n    <tr>\n      <th>1</th>\n      <td>1</td>\n      <td>1029</td>\n      <td>3.0</td>\n      <td>1260759179</td>\n    </tr>\n    <tr>\n      <th>2</th>\n      <td>1</td>\n      <td>1061</td>\n      <td>3.0</td>\n      <td>1260759182</td>\n    </tr>\n    <tr>\n      <th>3</th>\n      <td>1</td>\n      <td>1129</td>\n      <td>2.0</td>\n      <td>1260759185</td>\n    </tr>\n    <tr>\n      <th>4</th>\n      <td>1</td>\n      <td>1172</td>\n      <td>4.0</td>\n      <td>1260759205</td>\n    </tr>\n  </tbody>\n</table>\n</div>"
     },
     "metadata": {},
     "execution_count": 2
    }
   ],
   "source": [
    "ratings = pd.read_csv(\"The movies dataset/ratings_small.csv\")\n",
    "ratings.head()"
   ]
  },
  {
   "cell_type": "code",
   "execution_count": 3,
   "metadata": {},
   "outputs": [
    {
     "output_type": "execute_result",
     "data": {
      "text/plain": [
       "(100004, 4)"
      ]
     },
     "metadata": {},
     "execution_count": 3
    }
   ],
   "source": [
    "ratings.shape"
   ]
  },
  {
   "cell_type": "code",
   "execution_count": 4,
   "metadata": {},
   "outputs": [
    {
     "output_type": "execute_result",
     "data": {
      "text/plain": [
       "   userId  movieId  rating   timestamp\n",
       "0       1       31     2.5  1260759144\n",
       "1       1     1029     3.0  1260759179\n",
       "2       1     1061     3.0  1260759182\n",
       "3       1     1129     2.0  1260759185\n",
       "4       1     1172     4.0  1260759205"
      ],
      "text/html": "<div>\n<style scoped>\n    .dataframe tbody tr th:only-of-type {\n        vertical-align: middle;\n    }\n\n    .dataframe tbody tr th {\n        vertical-align: top;\n    }\n\n    .dataframe thead th {\n        text-align: right;\n    }\n</style>\n<table border=\"1\" class=\"dataframe\">\n  <thead>\n    <tr style=\"text-align: right;\">\n      <th></th>\n      <th>userId</th>\n      <th>movieId</th>\n      <th>rating</th>\n      <th>timestamp</th>\n    </tr>\n  </thead>\n  <tbody>\n    <tr>\n      <th>0</th>\n      <td>1</td>\n      <td>31</td>\n      <td>2.5</td>\n      <td>1260759144</td>\n    </tr>\n    <tr>\n      <th>1</th>\n      <td>1</td>\n      <td>1029</td>\n      <td>3.0</td>\n      <td>1260759179</td>\n    </tr>\n    <tr>\n      <th>2</th>\n      <td>1</td>\n      <td>1061</td>\n      <td>3.0</td>\n      <td>1260759182</td>\n    </tr>\n    <tr>\n      <th>3</th>\n      <td>1</td>\n      <td>1129</td>\n      <td>2.0</td>\n      <td>1260759185</td>\n    </tr>\n    <tr>\n      <th>4</th>\n      <td>1</td>\n      <td>1172</td>\n      <td>4.0</td>\n      <td>1260759205</td>\n    </tr>\n  </tbody>\n</table>\n</div>"
     },
     "metadata": {},
     "execution_count": 4
    }
   ],
   "source": [
    "ratings.head()"
   ]
  },
  {
   "cell_type": "code",
   "execution_count": 5,
   "metadata": {},
   "outputs": [
    {
     "output_type": "stream",
     "name": "stdout",
     "text": [
      "<class 'pandas.core.frame.DataFrame'>\nRangeIndex: 100004 entries, 0 to 100003\nData columns (total 4 columns):\n #   Column     Non-Null Count   Dtype  \n---  ------     --------------   -----  \n 0   userId     100004 non-null  int64  \n 1   movieId    100004 non-null  int64  \n 2   rating     100004 non-null  float64\n 3   timestamp  100004 non-null  int64  \ndtypes: float64(1), int64(3)\nmemory usage: 3.1 MB\n"
     ]
    }
   ],
   "source": [
    "ratings.info()"
   ]
  },
  {
   "cell_type": "code",
   "execution_count": 6,
   "metadata": {},
   "outputs": [
    {
     "output_type": "execute_result",
     "data": {
      "text/plain": [
       "              userId        movieId         rating     timestamp\n",
       "count  100004.000000  100004.000000  100004.000000  1.000040e+05\n",
       "mean      347.011310   12548.664363       3.543608  1.129639e+09\n",
       "std       195.163838   26369.198969       1.058064  1.916858e+08\n",
       "min         1.000000       1.000000       0.500000  7.896520e+08\n",
       "25%       182.000000    1028.000000       3.000000  9.658478e+08\n",
       "50%       367.000000    2406.500000       4.000000  1.110422e+09\n",
       "75%       520.000000    5418.000000       4.000000  1.296192e+09\n",
       "max       671.000000  163949.000000       5.000000  1.476641e+09"
      ],
      "text/html": "<div>\n<style scoped>\n    .dataframe tbody tr th:only-of-type {\n        vertical-align: middle;\n    }\n\n    .dataframe tbody tr th {\n        vertical-align: top;\n    }\n\n    .dataframe thead th {\n        text-align: right;\n    }\n</style>\n<table border=\"1\" class=\"dataframe\">\n  <thead>\n    <tr style=\"text-align: right;\">\n      <th></th>\n      <th>userId</th>\n      <th>movieId</th>\n      <th>rating</th>\n      <th>timestamp</th>\n    </tr>\n  </thead>\n  <tbody>\n    <tr>\n      <th>count</th>\n      <td>100004.000000</td>\n      <td>100004.000000</td>\n      <td>100004.000000</td>\n      <td>1.000040e+05</td>\n    </tr>\n    <tr>\n      <th>mean</th>\n      <td>347.011310</td>\n      <td>12548.664363</td>\n      <td>3.543608</td>\n      <td>1.129639e+09</td>\n    </tr>\n    <tr>\n      <th>std</th>\n      <td>195.163838</td>\n      <td>26369.198969</td>\n      <td>1.058064</td>\n      <td>1.916858e+08</td>\n    </tr>\n    <tr>\n      <th>min</th>\n      <td>1.000000</td>\n      <td>1.000000</td>\n      <td>0.500000</td>\n      <td>7.896520e+08</td>\n    </tr>\n    <tr>\n      <th>25%</th>\n      <td>182.000000</td>\n      <td>1028.000000</td>\n      <td>3.000000</td>\n      <td>9.658478e+08</td>\n    </tr>\n    <tr>\n      <th>50%</th>\n      <td>367.000000</td>\n      <td>2406.500000</td>\n      <td>4.000000</td>\n      <td>1.110422e+09</td>\n    </tr>\n    <tr>\n      <th>75%</th>\n      <td>520.000000</td>\n      <td>5418.000000</td>\n      <td>4.000000</td>\n      <td>1.296192e+09</td>\n    </tr>\n    <tr>\n      <th>max</th>\n      <td>671.000000</td>\n      <td>163949.000000</td>\n      <td>5.000000</td>\n      <td>1.476641e+09</td>\n    </tr>\n  </tbody>\n</table>\n</div>"
     },
     "metadata": {},
     "execution_count": 6
    }
   ],
   "source": [
    "ratings.describe()"
   ]
  },
  {
   "cell_type": "code",
   "execution_count": 7,
   "metadata": {},
   "outputs": [
    {
     "output_type": "execute_result",
     "data": {
      "text/plain": [
       "356      341\n",
       "296      324\n",
       "318      311\n",
       "593      304\n",
       "260      291\n",
       "        ... \n",
       "95473      1\n",
       "60674      1\n",
       "27922      1\n",
       "1311       1\n",
       "2047       1\n",
       "Name: movieId, Length: 9066, dtype: int64"
      ]
     },
     "metadata": {},
     "execution_count": 7
    }
   ],
   "source": [
    "ratings['movieId'].value_counts()"
   ]
  },
  {
   "cell_type": "code",
   "execution_count": 8,
   "metadata": {},
   "outputs": [
    {
     "output_type": "stream",
     "name": "stdout",
     "text": [
      "547    2391\n564    1868\n624    1735\n15     1700\n73     1610\n       ... \n444      20\n438      20\n583      20\n249      20\n399      20\nName: userId, Length: 671, dtype: int64\n"
     ]
    }
   ],
   "source": [
    "user_distrib = ratings['userId'].value_counts()\n",
    "print(user_distrib)"
   ]
  },
  {
   "cell_type": "code",
   "execution_count": 9,
   "metadata": {},
   "outputs": [
    {
     "output_type": "execute_result",
     "data": {
      "text/plain": [
       "userId       0\n",
       "movieId      0\n",
       "rating       0\n",
       "timestamp    0\n",
       "dtype: int64"
      ]
     },
     "metadata": {},
     "execution_count": 9
    }
   ],
   "source": [
    "ratings.isnull().sum()"
   ]
  },
  {
   "cell_type": "code",
   "execution_count": 10,
   "metadata": {},
   "outputs": [
    {
     "output_type": "stream",
     "name": "stdout",
     "text": [
      "4.0    28750\n3.0    20064\n5.0    15095\n3.5    10538\n4.5     7723\n2.0     7271\n2.5     4449\n1.0     3326\n1.5     1687\n0.5     1101\nName: rating, dtype: int64\n"
     ]
    }
   ],
   "source": [
    "ratings_distrib = ratings['rating'].value_counts()\n",
    "print(ratings_distrib)"
   ]
  },
  {
   "cell_type": "code",
   "execution_count": 11,
   "metadata": {},
   "outputs": [
    {
     "output_type": "display_data",
     "data": {
      "application/vnd.plotly.v1+json": {
       "config": {
        "plotlyServerURL": "https://plot.ly"
       },
       "data": [
        {
         "alignmentgroup": "True",
         "hovertemplate": "index=%{x}<br>rating=%{y}<extra></extra>",
         "legendgroup": "",
         "marker": {
          "color": "#636efa",
          "pattern": {
           "shape": ""
          }
         },
         "name": "",
         "offsetgroup": "",
         "orientation": "v",
         "showlegend": false,
         "textposition": "auto",
         "type": "bar",
         "x": [
          4,
          3,
          5,
          3.5,
          4.5,
          2,
          2.5,
          1,
          1.5,
          0.5
         ],
         "xaxis": "x",
         "y": [
          28750,
          20064,
          15095,
          10538,
          7723,
          7271,
          4449,
          3326,
          1687,
          1101
         ],
         "yaxis": "y"
        }
       ],
       "layout": {
        "barmode": "relative",
        "legend": {
         "tracegroupgap": 0
        },
        "margin": {
         "t": 60
        },
        "template": {
         "data": {
          "bar": [
           {
            "error_x": {
             "color": "#2a3f5f"
            },
            "error_y": {
             "color": "#2a3f5f"
            },
            "marker": {
             "line": {
              "color": "#E5ECF6",
              "width": 0.5
             },
             "pattern": {
              "fillmode": "overlay",
              "size": 10,
              "solidity": 0.2
             }
            },
            "type": "bar"
           }
          ],
          "barpolar": [
           {
            "marker": {
             "line": {
              "color": "#E5ECF6",
              "width": 0.5
             },
             "pattern": {
              "fillmode": "overlay",
              "size": 10,
              "solidity": 0.2
             }
            },
            "type": "barpolar"
           }
          ],
          "carpet": [
           {
            "aaxis": {
             "endlinecolor": "#2a3f5f",
             "gridcolor": "white",
             "linecolor": "white",
             "minorgridcolor": "white",
             "startlinecolor": "#2a3f5f"
            },
            "baxis": {
             "endlinecolor": "#2a3f5f",
             "gridcolor": "white",
             "linecolor": "white",
             "minorgridcolor": "white",
             "startlinecolor": "#2a3f5f"
            },
            "type": "carpet"
           }
          ],
          "choropleth": [
           {
            "colorbar": {
             "outlinewidth": 0,
             "ticks": ""
            },
            "type": "choropleth"
           }
          ],
          "contour": [
           {
            "colorbar": {
             "outlinewidth": 0,
             "ticks": ""
            },
            "colorscale": [
             [
              0,
              "#0d0887"
             ],
             [
              0.1111111111111111,
              "#46039f"
             ],
             [
              0.2222222222222222,
              "#7201a8"
             ],
             [
              0.3333333333333333,
              "#9c179e"
             ],
             [
              0.4444444444444444,
              "#bd3786"
             ],
             [
              0.5555555555555556,
              "#d8576b"
             ],
             [
              0.6666666666666666,
              "#ed7953"
             ],
             [
              0.7777777777777778,
              "#fb9f3a"
             ],
             [
              0.8888888888888888,
              "#fdca26"
             ],
             [
              1,
              "#f0f921"
             ]
            ],
            "type": "contour"
           }
          ],
          "contourcarpet": [
           {
            "colorbar": {
             "outlinewidth": 0,
             "ticks": ""
            },
            "type": "contourcarpet"
           }
          ],
          "heatmap": [
           {
            "colorbar": {
             "outlinewidth": 0,
             "ticks": ""
            },
            "colorscale": [
             [
              0,
              "#0d0887"
             ],
             [
              0.1111111111111111,
              "#46039f"
             ],
             [
              0.2222222222222222,
              "#7201a8"
             ],
             [
              0.3333333333333333,
              "#9c179e"
             ],
             [
              0.4444444444444444,
              "#bd3786"
             ],
             [
              0.5555555555555556,
              "#d8576b"
             ],
             [
              0.6666666666666666,
              "#ed7953"
             ],
             [
              0.7777777777777778,
              "#fb9f3a"
             ],
             [
              0.8888888888888888,
              "#fdca26"
             ],
             [
              1,
              "#f0f921"
             ]
            ],
            "type": "heatmap"
           }
          ],
          "heatmapgl": [
           {
            "colorbar": {
             "outlinewidth": 0,
             "ticks": ""
            },
            "colorscale": [
             [
              0,
              "#0d0887"
             ],
             [
              0.1111111111111111,
              "#46039f"
             ],
             [
              0.2222222222222222,
              "#7201a8"
             ],
             [
              0.3333333333333333,
              "#9c179e"
             ],
             [
              0.4444444444444444,
              "#bd3786"
             ],
             [
              0.5555555555555556,
              "#d8576b"
             ],
             [
              0.6666666666666666,
              "#ed7953"
             ],
             [
              0.7777777777777778,
              "#fb9f3a"
             ],
             [
              0.8888888888888888,
              "#fdca26"
             ],
             [
              1,
              "#f0f921"
             ]
            ],
            "type": "heatmapgl"
           }
          ],
          "histogram": [
           {
            "marker": {
             "pattern": {
              "fillmode": "overlay",
              "size": 10,
              "solidity": 0.2
             }
            },
            "type": "histogram"
           }
          ],
          "histogram2d": [
           {
            "colorbar": {
             "outlinewidth": 0,
             "ticks": ""
            },
            "colorscale": [
             [
              0,
              "#0d0887"
             ],
             [
              0.1111111111111111,
              "#46039f"
             ],
             [
              0.2222222222222222,
              "#7201a8"
             ],
             [
              0.3333333333333333,
              "#9c179e"
             ],
             [
              0.4444444444444444,
              "#bd3786"
             ],
             [
              0.5555555555555556,
              "#d8576b"
             ],
             [
              0.6666666666666666,
              "#ed7953"
             ],
             [
              0.7777777777777778,
              "#fb9f3a"
             ],
             [
              0.8888888888888888,
              "#fdca26"
             ],
             [
              1,
              "#f0f921"
             ]
            ],
            "type": "histogram2d"
           }
          ],
          "histogram2dcontour": [
           {
            "colorbar": {
             "outlinewidth": 0,
             "ticks": ""
            },
            "colorscale": [
             [
              0,
              "#0d0887"
             ],
             [
              0.1111111111111111,
              "#46039f"
             ],
             [
              0.2222222222222222,
              "#7201a8"
             ],
             [
              0.3333333333333333,
              "#9c179e"
             ],
             [
              0.4444444444444444,
              "#bd3786"
             ],
             [
              0.5555555555555556,
              "#d8576b"
             ],
             [
              0.6666666666666666,
              "#ed7953"
             ],
             [
              0.7777777777777778,
              "#fb9f3a"
             ],
             [
              0.8888888888888888,
              "#fdca26"
             ],
             [
              1,
              "#f0f921"
             ]
            ],
            "type": "histogram2dcontour"
           }
          ],
          "mesh3d": [
           {
            "colorbar": {
             "outlinewidth": 0,
             "ticks": ""
            },
            "type": "mesh3d"
           }
          ],
          "parcoords": [
           {
            "line": {
             "colorbar": {
              "outlinewidth": 0,
              "ticks": ""
             }
            },
            "type": "parcoords"
           }
          ],
          "pie": [
           {
            "automargin": true,
            "type": "pie"
           }
          ],
          "scatter": [
           {
            "marker": {
             "colorbar": {
              "outlinewidth": 0,
              "ticks": ""
             }
            },
            "type": "scatter"
           }
          ],
          "scatter3d": [
           {
            "line": {
             "colorbar": {
              "outlinewidth": 0,
              "ticks": ""
             }
            },
            "marker": {
             "colorbar": {
              "outlinewidth": 0,
              "ticks": ""
             }
            },
            "type": "scatter3d"
           }
          ],
          "scattercarpet": [
           {
            "marker": {
             "colorbar": {
              "outlinewidth": 0,
              "ticks": ""
             }
            },
            "type": "scattercarpet"
           }
          ],
          "scattergeo": [
           {
            "marker": {
             "colorbar": {
              "outlinewidth": 0,
              "ticks": ""
             }
            },
            "type": "scattergeo"
           }
          ],
          "scattergl": [
           {
            "marker": {
             "colorbar": {
              "outlinewidth": 0,
              "ticks": ""
             }
            },
            "type": "scattergl"
           }
          ],
          "scattermapbox": [
           {
            "marker": {
             "colorbar": {
              "outlinewidth": 0,
              "ticks": ""
             }
            },
            "type": "scattermapbox"
           }
          ],
          "scatterpolar": [
           {
            "marker": {
             "colorbar": {
              "outlinewidth": 0,
              "ticks": ""
             }
            },
            "type": "scatterpolar"
           }
          ],
          "scatterpolargl": [
           {
            "marker": {
             "colorbar": {
              "outlinewidth": 0,
              "ticks": ""
             }
            },
            "type": "scatterpolargl"
           }
          ],
          "scatterternary": [
           {
            "marker": {
             "colorbar": {
              "outlinewidth": 0,
              "ticks": ""
             }
            },
            "type": "scatterternary"
           }
          ],
          "surface": [
           {
            "colorbar": {
             "outlinewidth": 0,
             "ticks": ""
            },
            "colorscale": [
             [
              0,
              "#0d0887"
             ],
             [
              0.1111111111111111,
              "#46039f"
             ],
             [
              0.2222222222222222,
              "#7201a8"
             ],
             [
              0.3333333333333333,
              "#9c179e"
             ],
             [
              0.4444444444444444,
              "#bd3786"
             ],
             [
              0.5555555555555556,
              "#d8576b"
             ],
             [
              0.6666666666666666,
              "#ed7953"
             ],
             [
              0.7777777777777778,
              "#fb9f3a"
             ],
             [
              0.8888888888888888,
              "#fdca26"
             ],
             [
              1,
              "#f0f921"
             ]
            ],
            "type": "surface"
           }
          ],
          "table": [
           {
            "cells": {
             "fill": {
              "color": "#EBF0F8"
             },
             "line": {
              "color": "white"
             }
            },
            "header": {
             "fill": {
              "color": "#C8D4E3"
             },
             "line": {
              "color": "white"
             }
            },
            "type": "table"
           }
          ]
         },
         "layout": {
          "annotationdefaults": {
           "arrowcolor": "#2a3f5f",
           "arrowhead": 0,
           "arrowwidth": 1
          },
          "autotypenumbers": "strict",
          "coloraxis": {
           "colorbar": {
            "outlinewidth": 0,
            "ticks": ""
           }
          },
          "colorscale": {
           "diverging": [
            [
             0,
             "#8e0152"
            ],
            [
             0.1,
             "#c51b7d"
            ],
            [
             0.2,
             "#de77ae"
            ],
            [
             0.3,
             "#f1b6da"
            ],
            [
             0.4,
             "#fde0ef"
            ],
            [
             0.5,
             "#f7f7f7"
            ],
            [
             0.6,
             "#e6f5d0"
            ],
            [
             0.7,
             "#b8e186"
            ],
            [
             0.8,
             "#7fbc41"
            ],
            [
             0.9,
             "#4d9221"
            ],
            [
             1,
             "#276419"
            ]
           ],
           "sequential": [
            [
             0,
             "#0d0887"
            ],
            [
             0.1111111111111111,
             "#46039f"
            ],
            [
             0.2222222222222222,
             "#7201a8"
            ],
            [
             0.3333333333333333,
             "#9c179e"
            ],
            [
             0.4444444444444444,
             "#bd3786"
            ],
            [
             0.5555555555555556,
             "#d8576b"
            ],
            [
             0.6666666666666666,
             "#ed7953"
            ],
            [
             0.7777777777777778,
             "#fb9f3a"
            ],
            [
             0.8888888888888888,
             "#fdca26"
            ],
            [
             1,
             "#f0f921"
            ]
           ],
           "sequentialminus": [
            [
             0,
             "#0d0887"
            ],
            [
             0.1111111111111111,
             "#46039f"
            ],
            [
             0.2222222222222222,
             "#7201a8"
            ],
            [
             0.3333333333333333,
             "#9c179e"
            ],
            [
             0.4444444444444444,
             "#bd3786"
            ],
            [
             0.5555555555555556,
             "#d8576b"
            ],
            [
             0.6666666666666666,
             "#ed7953"
            ],
            [
             0.7777777777777778,
             "#fb9f3a"
            ],
            [
             0.8888888888888888,
             "#fdca26"
            ],
            [
             1,
             "#f0f921"
            ]
           ]
          },
          "colorway": [
           "#636efa",
           "#EF553B",
           "#00cc96",
           "#ab63fa",
           "#FFA15A",
           "#19d3f3",
           "#FF6692",
           "#B6E880",
           "#FF97FF",
           "#FECB52"
          ],
          "font": {
           "color": "#2a3f5f"
          },
          "geo": {
           "bgcolor": "white",
           "lakecolor": "white",
           "landcolor": "#E5ECF6",
           "showlakes": true,
           "showland": true,
           "subunitcolor": "white"
          },
          "hoverlabel": {
           "align": "left"
          },
          "hovermode": "closest",
          "mapbox": {
           "style": "light"
          },
          "paper_bgcolor": "white",
          "plot_bgcolor": "#E5ECF6",
          "polar": {
           "angularaxis": {
            "gridcolor": "white",
            "linecolor": "white",
            "ticks": ""
           },
           "bgcolor": "#E5ECF6",
           "radialaxis": {
            "gridcolor": "white",
            "linecolor": "white",
            "ticks": ""
           }
          },
          "scene": {
           "xaxis": {
            "backgroundcolor": "#E5ECF6",
            "gridcolor": "white",
            "gridwidth": 2,
            "linecolor": "white",
            "showbackground": true,
            "ticks": "",
            "zerolinecolor": "white"
           },
           "yaxis": {
            "backgroundcolor": "#E5ECF6",
            "gridcolor": "white",
            "gridwidth": 2,
            "linecolor": "white",
            "showbackground": true,
            "ticks": "",
            "zerolinecolor": "white"
           },
           "zaxis": {
            "backgroundcolor": "#E5ECF6",
            "gridcolor": "white",
            "gridwidth": 2,
            "linecolor": "white",
            "showbackground": true,
            "ticks": "",
            "zerolinecolor": "white"
           }
          },
          "shapedefaults": {
           "line": {
            "color": "#2a3f5f"
           }
          },
          "ternary": {
           "aaxis": {
            "gridcolor": "white",
            "linecolor": "white",
            "ticks": ""
           },
           "baxis": {
            "gridcolor": "white",
            "linecolor": "white",
            "ticks": ""
           },
           "bgcolor": "#E5ECF6",
           "caxis": {
            "gridcolor": "white",
            "linecolor": "white",
            "ticks": ""
           }
          },
          "title": {
           "x": 0.05
          },
          "xaxis": {
           "automargin": true,
           "gridcolor": "white",
           "linecolor": "white",
           "ticks": "",
           "title": {
            "standoff": 15
           },
           "zerolinecolor": "white",
           "zerolinewidth": 2
          },
          "yaxis": {
           "automargin": true,
           "gridcolor": "white",
           "linecolor": "white",
           "ticks": "",
           "title": {
            "standoff": 15
           },
           "zerolinecolor": "white",
           "zerolinewidth": 2
          }
         }
        },
        "xaxis": {
         "anchor": "y",
         "domain": [
          0,
          1
         ],
         "title": {
          "text": "index"
         }
        },
        "yaxis": {
         "anchor": "x",
         "domain": [
          0,
          1
         ],
         "title": {
          "text": "rating"
         }
        }
       }
      }
     },
     "metadata": {}
    }
   ],
   "source": [
    "px.bar(ratings_distrib, x=ratings_distrib.index, y=\"rating\")"
   ]
  },
  {
   "cell_type": "code",
   "execution_count": 12,
   "metadata": {},
   "outputs": [
    {
     "output_type": "execute_result",
     "data": {
      "text/plain": [
       "        movieId count  average rating\n",
       "userId                               \n",
       "547              2391        3.366792\n",
       "564              1868        3.552463\n",
       "624              1735        2.894236\n",
       "15               1700        2.621765\n",
       "73               1610        3.374224"
      ],
      "text/html": "<div>\n<style scoped>\n    .dataframe tbody tr th:only-of-type {\n        vertical-align: middle;\n    }\n\n    .dataframe tbody tr th {\n        vertical-align: top;\n    }\n\n    .dataframe thead th {\n        text-align: right;\n    }\n</style>\n<table border=\"1\" class=\"dataframe\">\n  <thead>\n    <tr style=\"text-align: right;\">\n      <th></th>\n      <th>movieId count</th>\n      <th>average rating</th>\n    </tr>\n    <tr>\n      <th>userId</th>\n      <th></th>\n      <th></th>\n    </tr>\n  </thead>\n  <tbody>\n    <tr>\n      <th>547</th>\n      <td>2391</td>\n      <td>3.366792</td>\n    </tr>\n    <tr>\n      <th>564</th>\n      <td>1868</td>\n      <td>3.552463</td>\n    </tr>\n    <tr>\n      <th>624</th>\n      <td>1735</td>\n      <td>2.894236</td>\n    </tr>\n    <tr>\n      <th>15</th>\n      <td>1700</td>\n      <td>2.621765</td>\n    </tr>\n    <tr>\n      <th>73</th>\n      <td>1610</td>\n      <td>3.374224</td>\n    </tr>\n  </tbody>\n</table>\n</div>"
     },
     "metadata": {},
     "execution_count": 12
    }
   ],
   "source": [
    "ratings_per_user = ratings.groupby('userId').agg({'movieId': 'count', 'rating': 'mean'})\n",
    "ratings_per_user = ratings_per_user.rename(columns={'movieId': 'movieId count', 'rating': 'average rating'}).sort_values(\"movieId count\", ascending=False)\n",
    "ratings_per_user.head()"
   ]
  },
  {
   "cell_type": "code",
   "execution_count": 13,
   "metadata": {},
   "outputs": [
    {
     "output_type": "display_data",
     "data": {
      "application/vnd.plotly.v1+json": {
       "config": {
        "plotlyServerURL": "https://plot.ly"
       },
       "data": [
        {
         "alignmentgroup": "True",
         "hovertemplate": "userId=%{x}<br>movieId count=%{y}<extra></extra>",
         "legendgroup": "",
         "marker": {
          "color": "#636efa",
          "pattern": {
           "shape": ""
          }
         },
         "name": "",
         "offsetgroup": "",
         "orientation": "v",
         "showlegend": false,
         "textposition": "auto",
         "type": "bar",
         "x": [
          547,
          564,
          624,
          15,
          73,
          452,
          468,
          380,
          311,
          30,
          294,
          509,
          580,
          213,
          212,
          472,
          388,
          23,
          457,
          518,
          461,
          232,
          102,
          262,
          475,
          306,
          119,
          654,
          358,
          529,
          575,
          105,
          56,
          353,
          664,
          48,
          587,
          596,
          165,
          195,
          384,
          463,
          605,
          481,
          665,
          607,
          19,
          285,
          199,
          150,
          405,
          268,
          242,
          505,
          615,
          480,
          514,
          130,
          299,
          17,
          423,
          574,
          111,
          346,
          157,
          187,
          407,
          128,
          402,
          77,
          382,
          598,
          134,
          355,
          537,
          243,
          430,
          534,
          313,
          585,
          95,
          608,
          561,
          427,
          239,
          220,
          247,
          312,
          460,
          577,
          387,
          292,
          431,
          544,
          652,
          78,
          439,
          176,
          648,
          88,
          426,
          287,
          200,
          562,
          522,
          500,
          295,
          149,
          240,
          270,
          442,
          177,
          236,
          303,
          408,
          22,
          412,
          373,
          152,
          367,
          466,
          471,
          558,
          345,
          214,
          125,
          57,
          205,
          394,
          253,
          185,
          4,
          501,
          597,
          275,
          363,
          553,
          41,
          433,
          94,
          627,
          584,
          434,
          599,
          72,
          86,
          283,
          118,
          99,
          34,
          342,
          265,
          133,
          344,
          189,
          620,
          26,
          328,
          646,
          418,
          350,
          428,
          61,
          595,
          533,
          21,
          510,
          83,
          371,
          519,
          81,
          93,
          563,
          235,
          250,
          520,
          390,
          487,
          324,
          91,
          626,
          647,
          516,
          159,
          378,
          255,
          75,
          659,
          254,
          396,
          316,
          609,
          641,
          417,
          486,
          525,
          297,
          582,
          548,
          33,
          120,
          219,
          550,
          527,
          592,
          148,
          531,
          182,
          178,
          559,
          602,
          656,
          97,
          570,
          309,
          528,
          282,
          523,
          496,
          175,
          245,
          92,
          68,
          201,
          386,
          110,
          450,
          441,
          251,
          362,
          483,
          168,
          8,
          84,
          671,
          234,
          263,
          603,
          304,
          169,
          391,
          502,
          38,
          493,
          381,
          43,
          536,
          416,
          85,
          572,
          497,
          655,
          339,
          217,
          36,
          623,
          257,
          67,
          370,
          5,
          188,
          560,
          160,
          385,
          196,
          614,
          248,
          479,
          49,
          20,
          420,
          63,
          621,
          330,
          132,
          103,
          230,
          660,
          273,
          545,
          238,
          161,
          649,
          590,
          7,
          224,
          222,
          628,
          291,
          447,
          453,
          124,
          551,
          569,
          422,
          352,
          70,
          164,
          216,
          610,
          281,
          414,
          333,
          69,
          163,
          138,
          121,
          137,
          293,
          59,
          530,
          494,
          143,
          96,
          104,
          458,
          2,
          473,
          202,
          321,
          555,
          288,
          198,
          298,
          594,
          617,
          244,
          492,
          478,
          146,
          58,
          406,
          401,
          307,
          271,
          98,
          379,
          593,
          365,
          361,
          42,
          31,
          470,
          139,
          52,
          667,
          625,
          290,
          456,
          612,
          193,
          89,
          557,
          546,
          524,
          126,
          554,
          151,
          467,
          327,
          491,
          542,
          197,
          535,
          39,
          432,
          383,
          436,
          308,
          142,
          12,
          190,
          606,
          228,
          658,
          397,
          318,
          571,
          482,
          376,
          277,
          400,
          320,
          662,
          279,
          586,
          338,
          241,
          166,
          639,
          79,
          425,
          101,
          211,
          315,
          60,
          117,
          192,
          215,
          488,
          278,
          613,
          398,
          13,
          348,
          62,
          284,
          588,
          354,
          451,
          3,
          653,
          389,
          462,
          409,
          532,
          18,
          155,
          153,
          393,
          369,
          261,
          194,
          90,
          28,
          136,
          419,
          66,
          640,
          521,
          74,
          581,
          208,
          508,
          171,
          32,
          421,
          53,
          476,
          10,
          50,
          543,
          359,
          140,
          207,
          601,
          156,
          9,
          184,
          106,
          54,
          237,
          300,
          131,
          503,
          6,
          589,
          286,
          322,
          619,
          40,
          343,
          517,
          186,
          218,
          260,
          115,
          267,
          183,
          474,
          144,
          351,
          173,
          440,
          616,
          443,
          666,
          122,
          266,
          465,
          340,
          632,
          644,
          46,
          274,
          272,
          206,
          82,
          507,
          179,
          552,
          11,
          360,
          252,
          147,
          573,
          576,
          404,
          47,
          145,
          55,
          669,
          568,
          203,
          80,
          233,
          364,
          226,
          223,
          642,
          611,
          302,
          600,
          334,
          515,
          314,
          629,
          578,
          366,
          567,
          123,
          264,
          661,
          229,
          374,
          499,
          372,
          332,
          210,
          633,
          258,
          231,
          37,
          107,
          670,
          618,
          631,
          622,
          336,
          108,
          511,
          51,
          87,
          204,
          141,
          455,
          162,
          464,
          636,
          645,
          591,
          357,
          424,
          191,
          541,
          650,
          305,
          16,
          225,
          259,
          410,
          256,
          411,
          113,
          526,
          565,
          326,
          454,
          512,
          181,
          65,
          429,
          129,
          415,
          663,
          154,
          539,
          25,
          246,
          227,
          170,
          116,
          269,
          637,
          538,
          100,
          331,
          44,
          495,
          556,
          114,
          375,
          446,
          377,
          392,
          504,
          167,
          172,
          180,
          449,
          437,
          643,
          403,
          489,
          323,
          301,
          630,
          71,
          335,
          435,
          395,
          109,
          27,
          349,
          634,
          347,
          135,
          341,
          490,
          513,
          459,
          566,
          635,
          549,
          329,
          29,
          413,
          317,
          280,
          112,
          127,
          477,
          158,
          174,
          24,
          579,
          368,
          356,
          45,
          64,
          469,
          276,
          506,
          657,
          651,
          35,
          76,
          668,
          14,
          540,
          638,
          583,
          498,
          485,
          484,
          448,
          445,
          444,
          438,
          399,
          337,
          209,
          325,
          319,
          604,
          310,
          296,
          289,
          249,
          221,
          1
         ],
         "xaxis": "x",
         "y": [
          2391,
          1868,
          1735,
          1700,
          1610,
          1340,
          1291,
          1063,
          1019,
          1011,
          947,
          923,
          922,
          910,
          876,
          830,
          792,
          726,
          713,
          707,
          696,
          682,
          678,
          676,
          655,
          645,
          641,
          626,
          617,
          604,
          547,
          525,
          522,
          521,
          519,
          513,
          504,
          487,
          487,
          485,
          485,
          483,
          437,
          436,
          434,
          427,
          423,
          422,
          422,
          413,
          412,
          400,
          399,
          395,
          385,
          378,
          376,
          375,
          367,
          363,
          347,
          342,
          341,
          329,
          326,
          324,
          323,
          323,
          319,
          315,
          314,
          312,
          311,
          308,
          307,
          307,
          305,
          303,
          302,
          300,
          299,
          296,
          296,
          294,
          291,
          289,
          285,
          284,
          284,
          279,
          279,
          278,
          268,
          268,
          267,
          263,
          260,
          256,
          256,
          255,
          254,
          254,
          253,
          253,
          250,
          249,
          236,
          231,
          230,
          229,
          225,
          224,
          224,
          223,
          222,
          220,
          219,
          219,
          218,
          217,
          216,
          216,
          215,
          214,
          214,
          210,
          209,
          206,
          205,
          205,
          204,
          204,
          203,
          202,
          202,
          201,
          201,
          199,
          198,
          196,
          194,
          193,
          192,
          192,
          191,
          190,
          189,
          189,
          188,
          187,
          187,
          183,
          178,
          177,
          176,
          172,
          172,
          170,
          169,
          168,
          168,
          166,
          166,
          163,
          163,
          162,
          161,
          161,
          161,
          160,
          160,
          159,
          158,
          155,
          155,
          154,
          153,
          152,
          151,
          150,
          150,
          150,
          149,
          148,
          147,
          145,
          145,
          142,
          141,
          141,
          140,
          140,
          140,
          139,
          138,
          138,
          138,
          138,
          138,
          138,
          138,
          138,
          135,
          135,
          133,
          132,
          132,
          131,
          130,
          129,
          129,
          128,
          128,
          128,
          128,
          127,
          127,
          126,
          126,
          125,
          125,
          123,
          123,
          122,
          121,
          120,
          120,
          120,
          119,
          119,
          119,
          116,
          116,
          116,
          115,
          115,
          114,
          114,
          113,
          113,
          113,
          113,
          111,
          110,
          110,
          110,
          109,
          107,
          107,
          106,
          105,
          105,
          105,
          104,
          104,
          103,
          103,
          103,
          100,
          100,
          100,
          100,
          100,
          99,
          99,
          99,
          99,
          99,
          99,
          98,
          98,
          97,
          95,
          95,
          94,
          94,
          94,
          92,
          92,
          92,
          91,
          90,
          90,
          89,
          88,
          88,
          88,
          87,
          87,
          87,
          86,
          85,
          85,
          85,
          85,
          84,
          83,
          82,
          82,
          82,
          82,
          81,
          81,
          81,
          81,
          81,
          80,
          80,
          79,
          78,
          78,
          78,
          77,
          76,
          76,
          76,
          76,
          76,
          76,
          75,
          75,
          75,
          75,
          75,
          75,
          75,
          74,
          74,
          74,
          73,
          73,
          73,
          72,
          72,
          72,
          71,
          71,
          70,
          70,
          70,
          70,
          69,
          69,
          68,
          68,
          68,
          67,
          67,
          67,
          66,
          66,
          66,
          66,
          65,
          64,
          64,
          64,
          64,
          64,
          63,
          63,
          63,
          63,
          63,
          62,
          62,
          62,
          62,
          61,
          61,
          61,
          60,
          60,
          60,
          60,
          59,
          59,
          59,
          59,
          59,
          58,
          58,
          58,
          58,
          57,
          57,
          57,
          56,
          56,
          55,
          55,
          55,
          55,
          55,
          55,
          55,
          55,
          55,
          54,
          54,
          53,
          53,
          53,
          53,
          53,
          53,
          52,
          52,
          52,
          52,
          51,
          51,
          51,
          51,
          51,
          51,
          51,
          51,
          51,
          51,
          51,
          50,
          50,
          50,
          50,
          50,
          50,
          49,
          49,
          49,
          49,
          49,
          48,
          48,
          48,
          48,
          47,
          46,
          46,
          46,
          46,
          46,
          46,
          46,
          46,
          46,
          45,
          45,
          45,
          45,
          44,
          44,
          44,
          44,
          44,
          44,
          43,
          43,
          43,
          43,
          43,
          42,
          42,
          42,
          42,
          41,
          41,
          41,
          41,
          41,
          41,
          40,
          40,
          40,
          40,
          40,
          40,
          40,
          39,
          39,
          39,
          39,
          39,
          39,
          39,
          39,
          39,
          39,
          38,
          38,
          38,
          38,
          38,
          38,
          38,
          38,
          38,
          38,
          38,
          38,
          38,
          37,
          37,
          37,
          37,
          36,
          36,
          36,
          36,
          36,
          35,
          35,
          35,
          34,
          34,
          34,
          34,
          34,
          34,
          34,
          33,
          33,
          33,
          33,
          33,
          33,
          33,
          32,
          32,
          32,
          32,
          32,
          32,
          32,
          31,
          31,
          31,
          31,
          31,
          31,
          31,
          31,
          31,
          31,
          31,
          31,
          30,
          30,
          30,
          30,
          30,
          30,
          30,
          29,
          29,
          29,
          29,
          29,
          28,
          28,
          28,
          27,
          27,
          27,
          27,
          27,
          27,
          27,
          27,
          27,
          27,
          27,
          26,
          26,
          26,
          26,
          26,
          26,
          26,
          26,
          26,
          25,
          25,
          25,
          25,
          25,
          25,
          25,
          25,
          25,
          25,
          25,
          25,
          25,
          25,
          24,
          24,
          24,
          24,
          24,
          24,
          24,
          24,
          24,
          23,
          23,
          23,
          23,
          23,
          23,
          23,
          23,
          23,
          23,
          22,
          22,
          22,
          22,
          22,
          22,
          22,
          22,
          22,
          22,
          22,
          22,
          22,
          22,
          22,
          21,
          21,
          21,
          21,
          21,
          21,
          21,
          21,
          21,
          21,
          21,
          21,
          21,
          21,
          20,
          20,
          20,
          20,
          20,
          20,
          20,
          20,
          20,
          20,
          20,
          20,
          20,
          20,
          20,
          20,
          20,
          20,
          20,
          20,
          20,
          20,
          20,
          20,
          20,
          20,
          20,
          20
         ],
         "yaxis": "y"
        }
       ],
       "layout": {
        "barmode": "relative",
        "legend": {
         "tracegroupgap": 0
        },
        "margin": {
         "t": 60
        },
        "template": {
         "data": {
          "bar": [
           {
            "error_x": {
             "color": "#2a3f5f"
            },
            "error_y": {
             "color": "#2a3f5f"
            },
            "marker": {
             "line": {
              "color": "#E5ECF6",
              "width": 0.5
             },
             "pattern": {
              "fillmode": "overlay",
              "size": 10,
              "solidity": 0.2
             }
            },
            "type": "bar"
           }
          ],
          "barpolar": [
           {
            "marker": {
             "line": {
              "color": "#E5ECF6",
              "width": 0.5
             },
             "pattern": {
              "fillmode": "overlay",
              "size": 10,
              "solidity": 0.2
             }
            },
            "type": "barpolar"
           }
          ],
          "carpet": [
           {
            "aaxis": {
             "endlinecolor": "#2a3f5f",
             "gridcolor": "white",
             "linecolor": "white",
             "minorgridcolor": "white",
             "startlinecolor": "#2a3f5f"
            },
            "baxis": {
             "endlinecolor": "#2a3f5f",
             "gridcolor": "white",
             "linecolor": "white",
             "minorgridcolor": "white",
             "startlinecolor": "#2a3f5f"
            },
            "type": "carpet"
           }
          ],
          "choropleth": [
           {
            "colorbar": {
             "outlinewidth": 0,
             "ticks": ""
            },
            "type": "choropleth"
           }
          ],
          "contour": [
           {
            "colorbar": {
             "outlinewidth": 0,
             "ticks": ""
            },
            "colorscale": [
             [
              0,
              "#0d0887"
             ],
             [
              0.1111111111111111,
              "#46039f"
             ],
             [
              0.2222222222222222,
              "#7201a8"
             ],
             [
              0.3333333333333333,
              "#9c179e"
             ],
             [
              0.4444444444444444,
              "#bd3786"
             ],
             [
              0.5555555555555556,
              "#d8576b"
             ],
             [
              0.6666666666666666,
              "#ed7953"
             ],
             [
              0.7777777777777778,
              "#fb9f3a"
             ],
             [
              0.8888888888888888,
              "#fdca26"
             ],
             [
              1,
              "#f0f921"
             ]
            ],
            "type": "contour"
           }
          ],
          "contourcarpet": [
           {
            "colorbar": {
             "outlinewidth": 0,
             "ticks": ""
            },
            "type": "contourcarpet"
           }
          ],
          "heatmap": [
           {
            "colorbar": {
             "outlinewidth": 0,
             "ticks": ""
            },
            "colorscale": [
             [
              0,
              "#0d0887"
             ],
             [
              0.1111111111111111,
              "#46039f"
             ],
             [
              0.2222222222222222,
              "#7201a8"
             ],
             [
              0.3333333333333333,
              "#9c179e"
             ],
             [
              0.4444444444444444,
              "#bd3786"
             ],
             [
              0.5555555555555556,
              "#d8576b"
             ],
             [
              0.6666666666666666,
              "#ed7953"
             ],
             [
              0.7777777777777778,
              "#fb9f3a"
             ],
             [
              0.8888888888888888,
              "#fdca26"
             ],
             [
              1,
              "#f0f921"
             ]
            ],
            "type": "heatmap"
           }
          ],
          "heatmapgl": [
           {
            "colorbar": {
             "outlinewidth": 0,
             "ticks": ""
            },
            "colorscale": [
             [
              0,
              "#0d0887"
             ],
             [
              0.1111111111111111,
              "#46039f"
             ],
             [
              0.2222222222222222,
              "#7201a8"
             ],
             [
              0.3333333333333333,
              "#9c179e"
             ],
             [
              0.4444444444444444,
              "#bd3786"
             ],
             [
              0.5555555555555556,
              "#d8576b"
             ],
             [
              0.6666666666666666,
              "#ed7953"
             ],
             [
              0.7777777777777778,
              "#fb9f3a"
             ],
             [
              0.8888888888888888,
              "#fdca26"
             ],
             [
              1,
              "#f0f921"
             ]
            ],
            "type": "heatmapgl"
           }
          ],
          "histogram": [
           {
            "marker": {
             "pattern": {
              "fillmode": "overlay",
              "size": 10,
              "solidity": 0.2
             }
            },
            "type": "histogram"
           }
          ],
          "histogram2d": [
           {
            "colorbar": {
             "outlinewidth": 0,
             "ticks": ""
            },
            "colorscale": [
             [
              0,
              "#0d0887"
             ],
             [
              0.1111111111111111,
              "#46039f"
             ],
             [
              0.2222222222222222,
              "#7201a8"
             ],
             [
              0.3333333333333333,
              "#9c179e"
             ],
             [
              0.4444444444444444,
              "#bd3786"
             ],
             [
              0.5555555555555556,
              "#d8576b"
             ],
             [
              0.6666666666666666,
              "#ed7953"
             ],
             [
              0.7777777777777778,
              "#fb9f3a"
             ],
             [
              0.8888888888888888,
              "#fdca26"
             ],
             [
              1,
              "#f0f921"
             ]
            ],
            "type": "histogram2d"
           }
          ],
          "histogram2dcontour": [
           {
            "colorbar": {
             "outlinewidth": 0,
             "ticks": ""
            },
            "colorscale": [
             [
              0,
              "#0d0887"
             ],
             [
              0.1111111111111111,
              "#46039f"
             ],
             [
              0.2222222222222222,
              "#7201a8"
             ],
             [
              0.3333333333333333,
              "#9c179e"
             ],
             [
              0.4444444444444444,
              "#bd3786"
             ],
             [
              0.5555555555555556,
              "#d8576b"
             ],
             [
              0.6666666666666666,
              "#ed7953"
             ],
             [
              0.7777777777777778,
              "#fb9f3a"
             ],
             [
              0.8888888888888888,
              "#fdca26"
             ],
             [
              1,
              "#f0f921"
             ]
            ],
            "type": "histogram2dcontour"
           }
          ],
          "mesh3d": [
           {
            "colorbar": {
             "outlinewidth": 0,
             "ticks": ""
            },
            "type": "mesh3d"
           }
          ],
          "parcoords": [
           {
            "line": {
             "colorbar": {
              "outlinewidth": 0,
              "ticks": ""
             }
            },
            "type": "parcoords"
           }
          ],
          "pie": [
           {
            "automargin": true,
            "type": "pie"
           }
          ],
          "scatter": [
           {
            "marker": {
             "colorbar": {
              "outlinewidth": 0,
              "ticks": ""
             }
            },
            "type": "scatter"
           }
          ],
          "scatter3d": [
           {
            "line": {
             "colorbar": {
              "outlinewidth": 0,
              "ticks": ""
             }
            },
            "marker": {
             "colorbar": {
              "outlinewidth": 0,
              "ticks": ""
             }
            },
            "type": "scatter3d"
           }
          ],
          "scattercarpet": [
           {
            "marker": {
             "colorbar": {
              "outlinewidth": 0,
              "ticks": ""
             }
            },
            "type": "scattercarpet"
           }
          ],
          "scattergeo": [
           {
            "marker": {
             "colorbar": {
              "outlinewidth": 0,
              "ticks": ""
             }
            },
            "type": "scattergeo"
           }
          ],
          "scattergl": [
           {
            "marker": {
             "colorbar": {
              "outlinewidth": 0,
              "ticks": ""
             }
            },
            "type": "scattergl"
           }
          ],
          "scattermapbox": [
           {
            "marker": {
             "colorbar": {
              "outlinewidth": 0,
              "ticks": ""
             }
            },
            "type": "scattermapbox"
           }
          ],
          "scatterpolar": [
           {
            "marker": {
             "colorbar": {
              "outlinewidth": 0,
              "ticks": ""
             }
            },
            "type": "scatterpolar"
           }
          ],
          "scatterpolargl": [
           {
            "marker": {
             "colorbar": {
              "outlinewidth": 0,
              "ticks": ""
             }
            },
            "type": "scatterpolargl"
           }
          ],
          "scatterternary": [
           {
            "marker": {
             "colorbar": {
              "outlinewidth": 0,
              "ticks": ""
             }
            },
            "type": "scatterternary"
           }
          ],
          "surface": [
           {
            "colorbar": {
             "outlinewidth": 0,
             "ticks": ""
            },
            "colorscale": [
             [
              0,
              "#0d0887"
             ],
             [
              0.1111111111111111,
              "#46039f"
             ],
             [
              0.2222222222222222,
              "#7201a8"
             ],
             [
              0.3333333333333333,
              "#9c179e"
             ],
             [
              0.4444444444444444,
              "#bd3786"
             ],
             [
              0.5555555555555556,
              "#d8576b"
             ],
             [
              0.6666666666666666,
              "#ed7953"
             ],
             [
              0.7777777777777778,
              "#fb9f3a"
             ],
             [
              0.8888888888888888,
              "#fdca26"
             ],
             [
              1,
              "#f0f921"
             ]
            ],
            "type": "surface"
           }
          ],
          "table": [
           {
            "cells": {
             "fill": {
              "color": "#EBF0F8"
             },
             "line": {
              "color": "white"
             }
            },
            "header": {
             "fill": {
              "color": "#C8D4E3"
             },
             "line": {
              "color": "white"
             }
            },
            "type": "table"
           }
          ]
         },
         "layout": {
          "annotationdefaults": {
           "arrowcolor": "#2a3f5f",
           "arrowhead": 0,
           "arrowwidth": 1
          },
          "autotypenumbers": "strict",
          "coloraxis": {
           "colorbar": {
            "outlinewidth": 0,
            "ticks": ""
           }
          },
          "colorscale": {
           "diverging": [
            [
             0,
             "#8e0152"
            ],
            [
             0.1,
             "#c51b7d"
            ],
            [
             0.2,
             "#de77ae"
            ],
            [
             0.3,
             "#f1b6da"
            ],
            [
             0.4,
             "#fde0ef"
            ],
            [
             0.5,
             "#f7f7f7"
            ],
            [
             0.6,
             "#e6f5d0"
            ],
            [
             0.7,
             "#b8e186"
            ],
            [
             0.8,
             "#7fbc41"
            ],
            [
             0.9,
             "#4d9221"
            ],
            [
             1,
             "#276419"
            ]
           ],
           "sequential": [
            [
             0,
             "#0d0887"
            ],
            [
             0.1111111111111111,
             "#46039f"
            ],
            [
             0.2222222222222222,
             "#7201a8"
            ],
            [
             0.3333333333333333,
             "#9c179e"
            ],
            [
             0.4444444444444444,
             "#bd3786"
            ],
            [
             0.5555555555555556,
             "#d8576b"
            ],
            [
             0.6666666666666666,
             "#ed7953"
            ],
            [
             0.7777777777777778,
             "#fb9f3a"
            ],
            [
             0.8888888888888888,
             "#fdca26"
            ],
            [
             1,
             "#f0f921"
            ]
           ],
           "sequentialminus": [
            [
             0,
             "#0d0887"
            ],
            [
             0.1111111111111111,
             "#46039f"
            ],
            [
             0.2222222222222222,
             "#7201a8"
            ],
            [
             0.3333333333333333,
             "#9c179e"
            ],
            [
             0.4444444444444444,
             "#bd3786"
            ],
            [
             0.5555555555555556,
             "#d8576b"
            ],
            [
             0.6666666666666666,
             "#ed7953"
            ],
            [
             0.7777777777777778,
             "#fb9f3a"
            ],
            [
             0.8888888888888888,
             "#fdca26"
            ],
            [
             1,
             "#f0f921"
            ]
           ]
          },
          "colorway": [
           "#636efa",
           "#EF553B",
           "#00cc96",
           "#ab63fa",
           "#FFA15A",
           "#19d3f3",
           "#FF6692",
           "#B6E880",
           "#FF97FF",
           "#FECB52"
          ],
          "font": {
           "color": "#2a3f5f"
          },
          "geo": {
           "bgcolor": "white",
           "lakecolor": "white",
           "landcolor": "#E5ECF6",
           "showlakes": true,
           "showland": true,
           "subunitcolor": "white"
          },
          "hoverlabel": {
           "align": "left"
          },
          "hovermode": "closest",
          "mapbox": {
           "style": "light"
          },
          "paper_bgcolor": "white",
          "plot_bgcolor": "#E5ECF6",
          "polar": {
           "angularaxis": {
            "gridcolor": "white",
            "linecolor": "white",
            "ticks": ""
           },
           "bgcolor": "#E5ECF6",
           "radialaxis": {
            "gridcolor": "white",
            "linecolor": "white",
            "ticks": ""
           }
          },
          "scene": {
           "xaxis": {
            "backgroundcolor": "#E5ECF6",
            "gridcolor": "white",
            "gridwidth": 2,
            "linecolor": "white",
            "showbackground": true,
            "ticks": "",
            "zerolinecolor": "white"
           },
           "yaxis": {
            "backgroundcolor": "#E5ECF6",
            "gridcolor": "white",
            "gridwidth": 2,
            "linecolor": "white",
            "showbackground": true,
            "ticks": "",
            "zerolinecolor": "white"
           },
           "zaxis": {
            "backgroundcolor": "#E5ECF6",
            "gridcolor": "white",
            "gridwidth": 2,
            "linecolor": "white",
            "showbackground": true,
            "ticks": "",
            "zerolinecolor": "white"
           }
          },
          "shapedefaults": {
           "line": {
            "color": "#2a3f5f"
           }
          },
          "ternary": {
           "aaxis": {
            "gridcolor": "white",
            "linecolor": "white",
            "ticks": ""
           },
           "baxis": {
            "gridcolor": "white",
            "linecolor": "white",
            "ticks": ""
           },
           "bgcolor": "#E5ECF6",
           "caxis": {
            "gridcolor": "white",
            "linecolor": "white",
            "ticks": ""
           }
          },
          "title": {
           "x": 0.05
          },
          "xaxis": {
           "automargin": true,
           "gridcolor": "white",
           "linecolor": "white",
           "ticks": "",
           "title": {
            "standoff": 15
           },
           "zerolinecolor": "white",
           "zerolinewidth": 2
          },
          "yaxis": {
           "automargin": true,
           "gridcolor": "white",
           "linecolor": "white",
           "ticks": "",
           "title": {
            "standoff": 15
           },
           "zerolinecolor": "white",
           "zerolinewidth": 2
          }
         }
        },
        "xaxis": {
         "anchor": "y",
         "domain": [
          0,
          1
         ],
         "title": {
          "text": "userId"
         }
        },
        "yaxis": {
         "anchor": "x",
         "domain": [
          0,
          1
         ],
         "title": {
          "text": "movieId count"
         }
        }
       }
      }
     },
     "metadata": {}
    }
   ],
   "source": [
    "px.bar(ratings_per_user, x=ratings_per_user.index, y='movieId count')"
   ]
  },
  {
   "cell_type": "code",
   "execution_count": 14,
   "metadata": {},
   "outputs": [
    {
     "output_type": "display_data",
     "data": {
      "application/vnd.plotly.v1+json": {
       "config": {
        "plotlyServerURL": "https://plot.ly"
       },
       "data": [
        {
         "alignmentgroup": "True",
         "bingroup": "x",
         "hovertemplate": "average rating=%{x}<br>count=%{y}<extra></extra>",
         "legendgroup": "",
         "marker": {
          "color": "#636efa",
          "pattern": {
           "shape": ""
          }
         },
         "name": "",
         "offsetgroup": "",
         "orientation": "v",
         "showlegend": false,
         "type": "histogram",
         "x": [
          3.3667921371810956,
          3.5524625267665955,
          2.894236311239193,
          2.6217647058823528,
          3.374223602484472,
          3.189179104477612,
          2.9659178931061194,
          3.3664158043273753,
          3.006378802747792,
          3.765084075173096,
          3.584477296726505,
          3.366738894907909,
          3.272776572668113,
          2.6604395604395603,
          3.1090182648401825,
          3.7873493975903614,
          3.6464646464646466,
          3.6329201101928374,
          2.502805049088359,
          3.572842998585573,
          2.839080459770115,
          3.967741935483871,
          3.9749262536873156,
          2.6131656804733727,
          2.761832061068702,
          3.406201550387597,
          3.500780031201248,
          4.068690095846645,
          3.1831442463533226,
          3.5298013245033113,
          3.3948811700182815,
          3.362857142857143,
          3.6149425287356323,
          2.595009596928983,
          3.796724470134875,
          3.5146198830409356,
          4.046626984126984,
          3.6262833675564683,
          2.847022587268994,
          2.948453608247423,
          3.2329896907216495,
          3.358178053830228,
          3.0503432494279177,
          4.137614678899083,
          3.2857142857142856,
          3.6533957845433256,
          3.534278959810875,
          3.1635071090047395,
          3.6492890995260665,
          3.1138014527845037,
          3.6553398058252426,
          3.625,
          4.466165413533835,
          3.2721518987341773,
          3.602597402597403,
          3.998677248677249,
          3.5319148936170213,
          3.2906666666666666,
          4.160762942779291,
          3.743801652892562,
          3.6296829971181555,
          3.5116959064327484,
          3.5117302052785924,
          3.4498480243161094,
          3.4003067484662575,
          3.677469135802469,
          4.156346749226006,
          3.8606811145510838,
          3.6677115987460813,
          3.3190476190476192,
          3.090764331210191,
          3.4358974358974357,
          4.008038585209003,
          3.61525974025974,
          3.996742671009772,
          3.3941368078175898,
          3.9508196721311477,
          3.6402640264026402,
          3.5264900662251657,
          4.25,
          3.8963210702341136,
          3.949324324324324,
          3.597972972972973,
          3.891156462585034,
          3.7079037800687287,
          3.5536332179930796,
          3.5157894736842104,
          3.3028169014084505,
          3.714788732394366,
          4.345878136200717,
          4.211469534050179,
          3.9532374100719423,
          4.143656716417911,
          4.472014925373134,
          4.2209737827715355,
          4.298479087452471,
          3.0730769230769233,
          2.935546875,
          3.62890625,
          3.3784313725490196,
          3.3366141732283463,
          4.531496062992126,
          3.2470355731225298,
          4.017786561264822,
          3.166,
          2.9819277108433737,
          3.944915254237288,
          3.4761904761904763,
          3.9326086956521737,
          3.7248908296943233,
          4.224444444444444,
          3.96875,
          4.015625,
          3.6390134529147984,
          3.644144144144144,
          3.275,
          2.904109589041096,
          3.5525114155251143,
          3.4243119266055047,
          3.347926267281106,
          3.7962962962962963,
          3.634259259259259,
          4.339534883720931,
          3.7453271028037385,
          4.018691588785047,
          4.023809523809524,
          3.9569377990430623,
          3.4101941747572817,
          2.7853658536585364,
          3.6609756097560977,
          3.607843137254902,
          4.348039215686274,
          3.9334975369458127,
          4.014851485148514,
          4.452970297029703,
          3.711442786069652,
          4,
          3.8668341708542715,
          3.8333333333333335,
          3.4056122448979593,
          3.1469072164948453,
          3.756476683937824,
          3.6875,
          3.9947916666666665,
          3.243455497382199,
          3.594736842105263,
          3.7037037037037037,
          4,
          3.4308510638297873,
          3.935828877005348,
          4.176470588235294,
          3.9672131147540983,
          2.3679775280898876,
          3.632768361581921,
          2.6818181818181817,
          2.9563953488372094,
          3.4680232558139537,
          3.3970588235294117,
          4.1301775147929,
          3.5833333333333335,
          3.8333333333333335,
          3.7379518072289155,
          3.2740963855421685,
          3.938650306748466,
          3.3496932515337425,
          3.506172839506173,
          3.248447204968944,
          3.9316770186335406,
          3.8074534161490683,
          4.403125,
          3.946875,
          3.79874213836478,
          3.901898734177215,
          4.22258064516129,
          4.264516129032258,
          3.3733766233766236,
          3.2483660130718954,
          3.7697368421052633,
          3.5,
          4.173333333333333,
          3.5,
          4.273333333333333,
          3.4630872483221475,
          3.5675675675675675,
          3.238095238095238,
          3.6448275862068966,
          3.279310344827586,
          3.387323943661972,
          3.482269503546099,
          3.24822695035461,
          3.617857142857143,
          1.9857142857142858,
          3.9,
          3.787769784172662,
          3.6268115942028984,
          3.6594202898550723,
          3.608695652173913,
          3.61231884057971,
          3.3768115942028984,
          3.2753623188405796,
          3.4855072463768115,
          3.7282608695652173,
          3.585185185185185,
          3.174074074074074,
          3.8796992481203008,
          4.007575757575758,
          2.977272727272727,
          3.816793893129771,
          3.5153846153846153,
          4.4186046511627906,
          3.635658914728682,
          4.5234375,
          3.015625,
          3.66015625,
          4.296875,
          3.3976377952755907,
          3.6181102362204722,
          4.035714285714286,
          3.9126984126984126,
          3.744,
          3.952,
          3.154471544715447,
          3.6260162601626016,
          4.131147540983607,
          2.8677685950413223,
          4.158333333333333,
          4.316666666666666,
          3.85,
          4.34453781512605,
          3.7983193277310923,
          3.5798319327731094,
          3.2586206896551726,
          3.8663793103448274,
          3.7155172413793105,
          3.917391304347826,
          3.8,
          3.254385964912281,
          3.8684210526315788,
          3.8672566371681416,
          4.110619469026549,
          3.725663716814159,
          3.9557522123893807,
          4.292792792792793,
          3.518181818181818,
          3.227272727272727,
          3,
          3.871559633027523,
          3.205607476635514,
          3.1869158878504673,
          3.6792452830188678,
          3.7904761904761903,
          4.085714285714285,
          3.8190476190476192,
          4.211538461538462,
          3.6153846153846154,
          4.067961165048544,
          3.6067961165048543,
          3.7572815533980584,
          3.97,
          3.91,
          3.58,
          3.91,
          3.94,
          3.494949494949495,
          3.6666666666666665,
          3.676767676767677,
          4.292929292929293,
          4.0606060606060606,
          3.4646464646464645,
          3.2908163265306123,
          3.806122448979592,
          3.7577319587628866,
          3.9263157894736844,
          3.463157894736842,
          4.281914893617022,
          3.393617021276596,
          4.473404255319149,
          4.168478260869565,
          4.309782608695652,
          3.902173913043478,
          3.5714285714285716,
          3.588888888888889,
          3.511111111111111,
          3.4831460674157304,
          3.465909090909091,
          4.181818181818182,
          4.125,
          3.103448275862069,
          4.2298850574712645,
          3.0229885057471266,
          3.5697674418604652,
          3.7588235294117647,
          3.4,
          4.105882352941176,
          3.976470588235294,
          3.8452380952380953,
          4.204819277108434,
          3.7134146341463414,
          4.384146341463414,
          3.5609756097560976,
          3.975609756097561,
          2.6419753086419755,
          4.2592592592592595,
          4.135802469135802,
          3.191358024691358,
          3.191358024691358,
          4.0375,
          3.7375,
          3.4683544303797467,
          3.0833333333333335,
          3.8076923076923075,
          4.012820512820513,
          3.7012987012987013,
          4.1381578947368425,
          4.052631578947368,
          3.6578947368421053,
          3.486842105263158,
          4.315789473684211,
          3.6973684210526314,
          3.7066666666666666,
          3.1733333333333333,
          3.8133333333333335,
          3.7666666666666666,
          4.8,
          4.1066666666666665,
          3.12,
          3.6621621621621623,
          3.5675675675675675,
          4.3108108108108105,
          3.5547945205479454,
          3.410958904109589,
          4.178082191780822,
          4.416666666666667,
          4.263888888888889,
          3.7569444444444446,
          4.330985915492958,
          3.683098591549296,
          3.942857142857143,
          4.121428571428571,
          3.6,
          4.014285714285714,
          4.166666666666667,
          3.282608695652174,
          3.610294117647059,
          3.6911764705882355,
          3.6470588235294117,
          4.156716417910448,
          4.388059701492537,
          3.8358208955223883,
          3.477272727272727,
          4.242424242424242,
          4.590909090909091,
          2.7045454545454546,
          4.415384615384616,
          3.796875,
          3.609375,
          3.359375,
          3.734375,
          3.875,
          4.0476190476190474,
          3.507936507936508,
          3.857142857142857,
          4.063492063492063,
          3.015873015873016,
          3.7903225806451615,
          4.411290322580645,
          3.435483870967742,
          4.096774193548387,
          3.5081967213114753,
          2.7049180327868854,
          2.7540983606557377,
          4,
          4.191666666666666,
          4.25,
          4.35,
          3.5084745762711864,
          3.23728813559322,
          3.652542372881356,
          3.830508474576271,
          3.9152542372881354,
          3.9827586206896552,
          3.586206896551724,
          3.8017241379310347,
          3.396551724137931,
          3.192982456140351,
          3.412280701754386,
          3.473684210526316,
          3.1607142857142856,
          3.642857142857143,
          3.381818181818182,
          2.518181818181818,
          3.390909090909091,
          3.9,
          4.3090909090909095,
          2.4545454545454546,
          4.181818181818182,
          3.8181818181818183,
          3.5090909090909093,
          3.8518518518518516,
          4.111111111111111,
          3.641509433962264,
          3.792452830188679,
          4,
          3.7452830188679247,
          3.641509433962264,
          4.037735849056604,
          3.326923076923077,
          3.673076923076923,
          3.9038461538461537,
          3.6538461538461537,
          3.5686274509803924,
          4,
          3.4705882352941178,
          3.3627450980392157,
          4.1568627450980395,
          3.676470588235294,
          3.235294117647059,
          3.6862745098039214,
          4.235294117647059,
          3.1372549019607843,
          3.6666666666666665,
          3.63,
          3.48,
          3.74,
          4.28,
          3.82,
          3.64,
          3.9591836734693877,
          3.6530612244897958,
          4.204081632653061,
          4.1020408163265305,
          1.4591836734693877,
          4.010416666666667,
          3.875,
          4.083333333333333,
          3.6666666666666665,
          2.9574468085106385,
          2.782608695652174,
          3.0652173913043477,
          3.6956521739130435,
          3.282608695652174,
          4.3478260869565215,
          3.6739130434782608,
          3.402173913043478,
          1.8043478260869565,
          3.6739130434782608,
          4.2,
          3.7555555555555555,
          3.7333333333333334,
          3.8444444444444446,
          3.7954545454545454,
          3.272727272727273,
          4.056818181818182,
          3.727272727272727,
          3.8068181818181817,
          3.2613636363636362,
          3.604651162790698,
          2.9767441860465116,
          3.7674418604651163,
          3.511627906976744,
          4.511627906976744,
          3.8333333333333335,
          4.285714285714286,
          3.7976190476190474,
          3.892857142857143,
          3.768292682926829,
          4.109756097560975,
          4.085365853658536,
          4,
          4.024390243902439,
          3.5121951219512195,
          4.175,
          4,
          3.675,
          3.675,
          4.85,
          2.95,
          2.85,
          3.717948717948718,
          3.923076923076923,
          3.8846153846153846,
          4.166666666666667,
          3.7435897435897436,
          4.948717948717949,
          3.5256410256410255,
          3.717948717948718,
          3.41025641025641,
          3.58974358974359,
          3.289473684210526,
          3.9078947368421053,
          2.710526315789474,
          4.078947368421052,
          3.763157894736842,
          3.6052631578947367,
          4.144736842105263,
          3.526315789473684,
          3.789473684210526,
          3.6578947368421053,
          3.8684210526315788,
          4.5,
          3.6315789473684212,
          3.3513513513513513,
          4.135135135135135,
          3.9864864864864864,
          3.5945945945945947,
          3.1944444444444446,
          3.0833333333333335,
          3.1527777777777777,
          3.8055555555555554,
          3.9166666666666665,
          3.6714285714285713,
          3.342857142857143,
          3.9285714285714284,
          3.985294117647059,
          4.323529411764706,
          4.3088235294117645,
          3.4411764705882355,
          2.7205882352941178,
          3.411764705882353,
          4.3088235294117645,
          3.757575757575758,
          4.151515151515151,
          3.8333333333333335,
          4.075757575757576,
          3.393939393939394,
          4.2727272727272725,
          3.696969696969697,
          3.125,
          2.953125,
          3.125,
          4.1875,
          4.0625,
          4.0625,
          2.859375,
          3.806451612903226,
          4.129032258064516,
          3.7096774193548385,
          4.725806451612903,
          3.4193548387096775,
          3.4516129032258065,
          4.290322580645161,
          3.967741935483871,
          3.2903225806451615,
          3.370967741935484,
          3.225806451612903,
          3.6774193548387095,
          3.4,
          4.233333333333333,
          3.566666666666667,
          3.683333333333333,
          3.2333333333333334,
          4.266666666666667,
          3.25,
          3.0344827586206895,
          3.2758620689655173,
          3.310344827586207,
          2.7241379310344827,
          4.120689655172414,
          4.107142857142857,
          3.5357142857142856,
          4.035714285714286,
          3.185185185185185,
          3.7037037037037037,
          4.62962962962963,
          4.111111111111111,
          3.7037037037037037,
          3.4814814814814814,
          4.5,
          4.2407407407407405,
          4.351851851851852,
          4.148148148148148,
          2.240740740740741,
          3.1923076923076925,
          4,
          3.730769230769231,
          3.9615384615384617,
          4,
          3.1153846153846154,
          3.6153846153846154,
          3.6923076923076925,
          2.5576923076923075,
          3.9,
          3.4,
          4.14,
          3.6,
          3.4,
          3.58,
          3.36,
          4.08,
          4.4,
          4.08,
          3.56,
          4.62,
          3.36,
          3.04,
          2.875,
          3.9166666666666665,
          3.75,
          3.4583333333333335,
          4.291666666666667,
          3.5833333333333335,
          3.3958333333333335,
          3.9583333333333335,
          3.875,
          3.8260869565217392,
          3.4130434782608696,
          4.065217391304348,
          4.260869565217392,
          3.4130434782608696,
          4.217391304347826,
          3.217391304347826,
          4.108695652173913,
          3.8260869565217392,
          3.5217391304347827,
          2.8863636363636362,
          3.8636363636363638,
          2.6363636363636362,
          3.6136363636363638,
          3.5454545454545454,
          3.8181818181818183,
          3.9545454545454546,
          4.409090909090909,
          3.477272727272727,
          3.090909090909091,
          3.8636363636363638,
          2.8636363636363638,
          3.8636363636363638,
          3.5,
          4.318181818181818,
          4.0476190476190474,
          4.0476190476190474,
          2.9523809523809526,
          3.1666666666666665,
          3.0714285714285716,
          3.6666666666666665,
          1.3333333333333333,
          3.857142857142857,
          2.857142857142857,
          3.619047619047619,
          4,
          3.5476190476190474,
          2.880952380952381,
          3.2857142857142856,
          3.5,
          3.9,
          2.4,
          3.8,
          3.75,
          2.95,
          3.7,
          3,
          4.15,
          3.25,
          3.475,
          3.9,
          4.75,
          3.45,
          3.3,
          4.375,
          3.25,
          2.95,
          2.85,
          2.525,
          3.4,
          2.825,
          2.675,
          3.975,
          3.675,
          3.6,
          2.775,
          2.55
         ],
         "xaxis": "x",
         "yaxis": "y"
        }
       ],
       "layout": {
        "barmode": "relative",
        "legend": {
         "tracegroupgap": 0
        },
        "margin": {
         "t": 60
        },
        "template": {
         "data": {
          "bar": [
           {
            "error_x": {
             "color": "#2a3f5f"
            },
            "error_y": {
             "color": "#2a3f5f"
            },
            "marker": {
             "line": {
              "color": "#E5ECF6",
              "width": 0.5
             },
             "pattern": {
              "fillmode": "overlay",
              "size": 10,
              "solidity": 0.2
             }
            },
            "type": "bar"
           }
          ],
          "barpolar": [
           {
            "marker": {
             "line": {
              "color": "#E5ECF6",
              "width": 0.5
             },
             "pattern": {
              "fillmode": "overlay",
              "size": 10,
              "solidity": 0.2
             }
            },
            "type": "barpolar"
           }
          ],
          "carpet": [
           {
            "aaxis": {
             "endlinecolor": "#2a3f5f",
             "gridcolor": "white",
             "linecolor": "white",
             "minorgridcolor": "white",
             "startlinecolor": "#2a3f5f"
            },
            "baxis": {
             "endlinecolor": "#2a3f5f",
             "gridcolor": "white",
             "linecolor": "white",
             "minorgridcolor": "white",
             "startlinecolor": "#2a3f5f"
            },
            "type": "carpet"
           }
          ],
          "choropleth": [
           {
            "colorbar": {
             "outlinewidth": 0,
             "ticks": ""
            },
            "type": "choropleth"
           }
          ],
          "contour": [
           {
            "colorbar": {
             "outlinewidth": 0,
             "ticks": ""
            },
            "colorscale": [
             [
              0,
              "#0d0887"
             ],
             [
              0.1111111111111111,
              "#46039f"
             ],
             [
              0.2222222222222222,
              "#7201a8"
             ],
             [
              0.3333333333333333,
              "#9c179e"
             ],
             [
              0.4444444444444444,
              "#bd3786"
             ],
             [
              0.5555555555555556,
              "#d8576b"
             ],
             [
              0.6666666666666666,
              "#ed7953"
             ],
             [
              0.7777777777777778,
              "#fb9f3a"
             ],
             [
              0.8888888888888888,
              "#fdca26"
             ],
             [
              1,
              "#f0f921"
             ]
            ],
            "type": "contour"
           }
          ],
          "contourcarpet": [
           {
            "colorbar": {
             "outlinewidth": 0,
             "ticks": ""
            },
            "type": "contourcarpet"
           }
          ],
          "heatmap": [
           {
            "colorbar": {
             "outlinewidth": 0,
             "ticks": ""
            },
            "colorscale": [
             [
              0,
              "#0d0887"
             ],
             [
              0.1111111111111111,
              "#46039f"
             ],
             [
              0.2222222222222222,
              "#7201a8"
             ],
             [
              0.3333333333333333,
              "#9c179e"
             ],
             [
              0.4444444444444444,
              "#bd3786"
             ],
             [
              0.5555555555555556,
              "#d8576b"
             ],
             [
              0.6666666666666666,
              "#ed7953"
             ],
             [
              0.7777777777777778,
              "#fb9f3a"
             ],
             [
              0.8888888888888888,
              "#fdca26"
             ],
             [
              1,
              "#f0f921"
             ]
            ],
            "type": "heatmap"
           }
          ],
          "heatmapgl": [
           {
            "colorbar": {
             "outlinewidth": 0,
             "ticks": ""
            },
            "colorscale": [
             [
              0,
              "#0d0887"
             ],
             [
              0.1111111111111111,
              "#46039f"
             ],
             [
              0.2222222222222222,
              "#7201a8"
             ],
             [
              0.3333333333333333,
              "#9c179e"
             ],
             [
              0.4444444444444444,
              "#bd3786"
             ],
             [
              0.5555555555555556,
              "#d8576b"
             ],
             [
              0.6666666666666666,
              "#ed7953"
             ],
             [
              0.7777777777777778,
              "#fb9f3a"
             ],
             [
              0.8888888888888888,
              "#fdca26"
             ],
             [
              1,
              "#f0f921"
             ]
            ],
            "type": "heatmapgl"
           }
          ],
          "histogram": [
           {
            "marker": {
             "pattern": {
              "fillmode": "overlay",
              "size": 10,
              "solidity": 0.2
             }
            },
            "type": "histogram"
           }
          ],
          "histogram2d": [
           {
            "colorbar": {
             "outlinewidth": 0,
             "ticks": ""
            },
            "colorscale": [
             [
              0,
              "#0d0887"
             ],
             [
              0.1111111111111111,
              "#46039f"
             ],
             [
              0.2222222222222222,
              "#7201a8"
             ],
             [
              0.3333333333333333,
              "#9c179e"
             ],
             [
              0.4444444444444444,
              "#bd3786"
             ],
             [
              0.5555555555555556,
              "#d8576b"
             ],
             [
              0.6666666666666666,
              "#ed7953"
             ],
             [
              0.7777777777777778,
              "#fb9f3a"
             ],
             [
              0.8888888888888888,
              "#fdca26"
             ],
             [
              1,
              "#f0f921"
             ]
            ],
            "type": "histogram2d"
           }
          ],
          "histogram2dcontour": [
           {
            "colorbar": {
             "outlinewidth": 0,
             "ticks": ""
            },
            "colorscale": [
             [
              0,
              "#0d0887"
             ],
             [
              0.1111111111111111,
              "#46039f"
             ],
             [
              0.2222222222222222,
              "#7201a8"
             ],
             [
              0.3333333333333333,
              "#9c179e"
             ],
             [
              0.4444444444444444,
              "#bd3786"
             ],
             [
              0.5555555555555556,
              "#d8576b"
             ],
             [
              0.6666666666666666,
              "#ed7953"
             ],
             [
              0.7777777777777778,
              "#fb9f3a"
             ],
             [
              0.8888888888888888,
              "#fdca26"
             ],
             [
              1,
              "#f0f921"
             ]
            ],
            "type": "histogram2dcontour"
           }
          ],
          "mesh3d": [
           {
            "colorbar": {
             "outlinewidth": 0,
             "ticks": ""
            },
            "type": "mesh3d"
           }
          ],
          "parcoords": [
           {
            "line": {
             "colorbar": {
              "outlinewidth": 0,
              "ticks": ""
             }
            },
            "type": "parcoords"
           }
          ],
          "pie": [
           {
            "automargin": true,
            "type": "pie"
           }
          ],
          "scatter": [
           {
            "marker": {
             "colorbar": {
              "outlinewidth": 0,
              "ticks": ""
             }
            },
            "type": "scatter"
           }
          ],
          "scatter3d": [
           {
            "line": {
             "colorbar": {
              "outlinewidth": 0,
              "ticks": ""
             }
            },
            "marker": {
             "colorbar": {
              "outlinewidth": 0,
              "ticks": ""
             }
            },
            "type": "scatter3d"
           }
          ],
          "scattercarpet": [
           {
            "marker": {
             "colorbar": {
              "outlinewidth": 0,
              "ticks": ""
             }
            },
            "type": "scattercarpet"
           }
          ],
          "scattergeo": [
           {
            "marker": {
             "colorbar": {
              "outlinewidth": 0,
              "ticks": ""
             }
            },
            "type": "scattergeo"
           }
          ],
          "scattergl": [
           {
            "marker": {
             "colorbar": {
              "outlinewidth": 0,
              "ticks": ""
             }
            },
            "type": "scattergl"
           }
          ],
          "scattermapbox": [
           {
            "marker": {
             "colorbar": {
              "outlinewidth": 0,
              "ticks": ""
             }
            },
            "type": "scattermapbox"
           }
          ],
          "scatterpolar": [
           {
            "marker": {
             "colorbar": {
              "outlinewidth": 0,
              "ticks": ""
             }
            },
            "type": "scatterpolar"
           }
          ],
          "scatterpolargl": [
           {
            "marker": {
             "colorbar": {
              "outlinewidth": 0,
              "ticks": ""
             }
            },
            "type": "scatterpolargl"
           }
          ],
          "scatterternary": [
           {
            "marker": {
             "colorbar": {
              "outlinewidth": 0,
              "ticks": ""
             }
            },
            "type": "scatterternary"
           }
          ],
          "surface": [
           {
            "colorbar": {
             "outlinewidth": 0,
             "ticks": ""
            },
            "colorscale": [
             [
              0,
              "#0d0887"
             ],
             [
              0.1111111111111111,
              "#46039f"
             ],
             [
              0.2222222222222222,
              "#7201a8"
             ],
             [
              0.3333333333333333,
              "#9c179e"
             ],
             [
              0.4444444444444444,
              "#bd3786"
             ],
             [
              0.5555555555555556,
              "#d8576b"
             ],
             [
              0.6666666666666666,
              "#ed7953"
             ],
             [
              0.7777777777777778,
              "#fb9f3a"
             ],
             [
              0.8888888888888888,
              "#fdca26"
             ],
             [
              1,
              "#f0f921"
             ]
            ],
            "type": "surface"
           }
          ],
          "table": [
           {
            "cells": {
             "fill": {
              "color": "#EBF0F8"
             },
             "line": {
              "color": "white"
             }
            },
            "header": {
             "fill": {
              "color": "#C8D4E3"
             },
             "line": {
              "color": "white"
             }
            },
            "type": "table"
           }
          ]
         },
         "layout": {
          "annotationdefaults": {
           "arrowcolor": "#2a3f5f",
           "arrowhead": 0,
           "arrowwidth": 1
          },
          "autotypenumbers": "strict",
          "coloraxis": {
           "colorbar": {
            "outlinewidth": 0,
            "ticks": ""
           }
          },
          "colorscale": {
           "diverging": [
            [
             0,
             "#8e0152"
            ],
            [
             0.1,
             "#c51b7d"
            ],
            [
             0.2,
             "#de77ae"
            ],
            [
             0.3,
             "#f1b6da"
            ],
            [
             0.4,
             "#fde0ef"
            ],
            [
             0.5,
             "#f7f7f7"
            ],
            [
             0.6,
             "#e6f5d0"
            ],
            [
             0.7,
             "#b8e186"
            ],
            [
             0.8,
             "#7fbc41"
            ],
            [
             0.9,
             "#4d9221"
            ],
            [
             1,
             "#276419"
            ]
           ],
           "sequential": [
            [
             0,
             "#0d0887"
            ],
            [
             0.1111111111111111,
             "#46039f"
            ],
            [
             0.2222222222222222,
             "#7201a8"
            ],
            [
             0.3333333333333333,
             "#9c179e"
            ],
            [
             0.4444444444444444,
             "#bd3786"
            ],
            [
             0.5555555555555556,
             "#d8576b"
            ],
            [
             0.6666666666666666,
             "#ed7953"
            ],
            [
             0.7777777777777778,
             "#fb9f3a"
            ],
            [
             0.8888888888888888,
             "#fdca26"
            ],
            [
             1,
             "#f0f921"
            ]
           ],
           "sequentialminus": [
            [
             0,
             "#0d0887"
            ],
            [
             0.1111111111111111,
             "#46039f"
            ],
            [
             0.2222222222222222,
             "#7201a8"
            ],
            [
             0.3333333333333333,
             "#9c179e"
            ],
            [
             0.4444444444444444,
             "#bd3786"
            ],
            [
             0.5555555555555556,
             "#d8576b"
            ],
            [
             0.6666666666666666,
             "#ed7953"
            ],
            [
             0.7777777777777778,
             "#fb9f3a"
            ],
            [
             0.8888888888888888,
             "#fdca26"
            ],
            [
             1,
             "#f0f921"
            ]
           ]
          },
          "colorway": [
           "#636efa",
           "#EF553B",
           "#00cc96",
           "#ab63fa",
           "#FFA15A",
           "#19d3f3",
           "#FF6692",
           "#B6E880",
           "#FF97FF",
           "#FECB52"
          ],
          "font": {
           "color": "#2a3f5f"
          },
          "geo": {
           "bgcolor": "white",
           "lakecolor": "white",
           "landcolor": "#E5ECF6",
           "showlakes": true,
           "showland": true,
           "subunitcolor": "white"
          },
          "hoverlabel": {
           "align": "left"
          },
          "hovermode": "closest",
          "mapbox": {
           "style": "light"
          },
          "paper_bgcolor": "white",
          "plot_bgcolor": "#E5ECF6",
          "polar": {
           "angularaxis": {
            "gridcolor": "white",
            "linecolor": "white",
            "ticks": ""
           },
           "bgcolor": "#E5ECF6",
           "radialaxis": {
            "gridcolor": "white",
            "linecolor": "white",
            "ticks": ""
           }
          },
          "scene": {
           "xaxis": {
            "backgroundcolor": "#E5ECF6",
            "gridcolor": "white",
            "gridwidth": 2,
            "linecolor": "white",
            "showbackground": true,
            "ticks": "",
            "zerolinecolor": "white"
           },
           "yaxis": {
            "backgroundcolor": "#E5ECF6",
            "gridcolor": "white",
            "gridwidth": 2,
            "linecolor": "white",
            "showbackground": true,
            "ticks": "",
            "zerolinecolor": "white"
           },
           "zaxis": {
            "backgroundcolor": "#E5ECF6",
            "gridcolor": "white",
            "gridwidth": 2,
            "linecolor": "white",
            "showbackground": true,
            "ticks": "",
            "zerolinecolor": "white"
           }
          },
          "shapedefaults": {
           "line": {
            "color": "#2a3f5f"
           }
          },
          "ternary": {
           "aaxis": {
            "gridcolor": "white",
            "linecolor": "white",
            "ticks": ""
           },
           "baxis": {
            "gridcolor": "white",
            "linecolor": "white",
            "ticks": ""
           },
           "bgcolor": "#E5ECF6",
           "caxis": {
            "gridcolor": "white",
            "linecolor": "white",
            "ticks": ""
           }
          },
          "title": {
           "x": 0.05
          },
          "xaxis": {
           "automargin": true,
           "gridcolor": "white",
           "linecolor": "white",
           "ticks": "",
           "title": {
            "standoff": 15
           },
           "zerolinecolor": "white",
           "zerolinewidth": 2
          },
          "yaxis": {
           "automargin": true,
           "gridcolor": "white",
           "linecolor": "white",
           "ticks": "",
           "title": {
            "standoff": 15
           },
           "zerolinecolor": "white",
           "zerolinewidth": 2
          }
         }
        },
        "xaxis": {
         "anchor": "y",
         "domain": [
          0,
          1
         ],
         "title": {
          "text": "average rating"
         }
        },
        "yaxis": {
         "anchor": "x",
         "domain": [
          0,
          1
         ],
         "title": {
          "text": "count"
         }
        }
       }
      }
     },
     "metadata": {}
    }
   ],
   "source": [
    "px.histogram(ratings_per_user, x='average rating')"
   ]
  },
  {
   "cell_type": "code",
   "execution_count": 15,
   "metadata": {},
   "outputs": [
    {
     "output_type": "display_data",
     "data": {
      "text/plain": "        movieId count  average rating\nuserId                               \n579                21        1.333333\n581                49        1.459184\n207                46        1.804348\n609               140        1.985714\n429                27        2.240741",
      "text/html": "<div>\n<style scoped>\n    .dataframe tbody tr th:only-of-type {\n        vertical-align: middle;\n    }\n\n    .dataframe tbody tr th {\n        vertical-align: top;\n    }\n\n    .dataframe thead th {\n        text-align: right;\n    }\n</style>\n<table border=\"1\" class=\"dataframe\">\n  <thead>\n    <tr style=\"text-align: right;\">\n      <th></th>\n      <th>movieId count</th>\n      <th>average rating</th>\n    </tr>\n    <tr>\n      <th>userId</th>\n      <th></th>\n      <th></th>\n    </tr>\n  </thead>\n  <tbody>\n    <tr>\n      <th>579</th>\n      <td>21</td>\n      <td>1.333333</td>\n    </tr>\n    <tr>\n      <th>581</th>\n      <td>49</td>\n      <td>1.459184</td>\n    </tr>\n    <tr>\n      <th>207</th>\n      <td>46</td>\n      <td>1.804348</td>\n    </tr>\n    <tr>\n      <th>609</th>\n      <td>140</td>\n      <td>1.985714</td>\n    </tr>\n    <tr>\n      <th>429</th>\n      <td>27</td>\n      <td>2.240741</td>\n    </tr>\n  </tbody>\n</table>\n</div>"
     },
     "metadata": {}
    },
    {
     "output_type": "display_data",
     "data": {
      "text/plain": "        movieId count  average rating\nuserId                               \n622                31        4.725806\n448                20        4.750000\n298                75        4.800000\n443                40        4.850000\n46                 39        4.948718",
      "text/html": "<div>\n<style scoped>\n    .dataframe tbody tr th:only-of-type {\n        vertical-align: middle;\n    }\n\n    .dataframe tbody tr th {\n        vertical-align: top;\n    }\n\n    .dataframe thead th {\n        text-align: right;\n    }\n</style>\n<table border=\"1\" class=\"dataframe\">\n  <thead>\n    <tr style=\"text-align: right;\">\n      <th></th>\n      <th>movieId count</th>\n      <th>average rating</th>\n    </tr>\n    <tr>\n      <th>userId</th>\n      <th></th>\n      <th></th>\n    </tr>\n  </thead>\n  <tbody>\n    <tr>\n      <th>622</th>\n      <td>31</td>\n      <td>4.725806</td>\n    </tr>\n    <tr>\n      <th>448</th>\n      <td>20</td>\n      <td>4.750000</td>\n    </tr>\n    <tr>\n      <th>298</th>\n      <td>75</td>\n      <td>4.800000</td>\n    </tr>\n    <tr>\n      <th>443</th>\n      <td>40</td>\n      <td>4.850000</td>\n    </tr>\n    <tr>\n      <th>46</th>\n      <td>39</td>\n      <td>4.948718</td>\n    </tr>\n  </tbody>\n</table>\n</div>"
     },
     "metadata": {}
    }
   ],
   "source": [
    "rating_sorted_avg = ratings_per_user.sort_values('average rating')\n",
    "display(rating_sorted_avg.head())\n",
    "display(rating_sorted_avg.tail()) "
   ]
  },
  {
   "source": [
    "## Remove all users with average ratings <2.5 and >4.5"
   ],
   "cell_type": "markdown",
   "metadata": {}
  },
  {
   "cell_type": "code",
   "execution_count": 16,
   "metadata": {},
   "outputs": [
    {
     "output_type": "stream",
     "name": "stdout",
     "text": [
      "[40, 656, 287, 89, 446, 113, 622, 448, 298, 443, 46, 579, 581, 207, 609, 429, 133, 35, 315]\n"
     ]
    }
   ],
   "source": [
    "easy_raters = rating_sorted_avg['average rating'] >4.5 \n",
    "index = rating_sorted_avg.index\n",
    "user_to_remove = list(index[easy_raters])\n",
    "\n",
    "tough_raters = rating_sorted_avg['average rating'] <2.5 \n",
    "user_to_remove.extend(index[tough_raters])\n",
    "print(user_to_remove)"
   ]
  },
  {
   "cell_type": "code",
   "execution_count": 17,
   "metadata": {},
   "outputs": [
    {
     "output_type": "execute_result",
     "data": {
      "text/plain": [
       "(98720, 4)"
      ]
     },
     "metadata": {},
     "execution_count": 17
    }
   ],
   "source": [
    "cleaned_df = ratings[~ratings['userId'].isin(user_to_remove)]\n",
    "cleaned_df.shape"
   ]
  },
  {
   "source": [
    "## Manage users with huge numbers of reviews"
   ],
   "cell_type": "markdown",
   "metadata": {}
  },
  {
   "cell_type": "code",
   "execution_count": 18,
   "metadata": {},
   "outputs": [
    {
     "output_type": "stream",
     "name": "stdout",
     "text": [
      "Average number of ratings per user 149.03725782414307\nNumber of Users who rated more than 3 time the average 42\n"
     ]
    }
   ],
   "source": [
    "avg_nb_ratings = user_distrib.mean()\n",
    "print('Average number of ratings per user', avg_nb_ratings)\n",
    "x = 3\n",
    "binge_watchers = user_distrib.index[user_distrib> x*avg_nb_ratings]\n",
    "print(f'Number of Users who rated more than {x} time the average', len(binge_watchers))\n"
   ]
  },
  {
   "cell_type": "code",
   "execution_count": 19,
   "metadata": {},
   "outputs": [
    {
     "output_type": "stream",
     "name": "stdout",
     "text": [
      "(35972, 4)\n"
     ]
    },
    {
     "output_type": "execute_result",
     "data": {
      "text/plain": [
       "(62748, 4)"
      ]
     },
     "metadata": {},
     "execution_count": 19
    }
   ],
   "source": [
    "binge_watchers_ratings = cleaned_df[cleaned_df['userId'].isin(binge_watchers)]\n",
    "normal_users_ratings = cleaned_df[~cleaned_df['userId'].isin(binge_watchers)]\n",
    "print(binge_watchers_ratings.shape)\n",
    "normal_users_ratings.shape"
   ]
  },
  {
   "cell_type": "code",
   "execution_count": 20,
   "metadata": {},
   "outputs": [
    {
     "output_type": "execute_result",
     "data": {
      "text/plain": [
       "(18774, 4)"
      ]
     },
     "metadata": {},
     "execution_count": 20
    }
   ],
   "source": [
    "ratings_keep = binge_watchers_ratings.groupby(\"userId\").sample(n=int(x*avg_nb_ratings))\n",
    "ratings_keep.shape    "
   ]
  },
  {
   "cell_type": "code",
   "execution_count": 21,
   "metadata": {},
   "outputs": [
    {
     "output_type": "execute_result",
     "data": {
      "text/plain": [
       "48     447\n",
       "457    447\n",
       "119    447\n",
       "311    447\n",
       "56     447\n",
       "Name: userId, dtype: int64"
      ]
     },
     "metadata": {},
     "execution_count": 21
    }
   ],
   "source": [
    "ratings_keep['userId'].value_counts()[:5]"
   ]
  },
  {
   "cell_type": "code",
   "execution_count": 22,
   "metadata": {},
   "outputs": [
    {
     "output_type": "stream",
     "name": "stdout",
     "text": [
      "(81522, 4)\n"
     ]
    },
    {
     "output_type": "execute_result",
     "data": {
      "text/plain": [
       "   userId  movieId  rating   timestamp\n",
       "0       1       31     2.5  1260759144\n",
       "1       1     1029     3.0  1260759179\n",
       "2       1     1061     3.0  1260759182\n",
       "3       1     1129     2.0  1260759185\n",
       "4       1     1172     4.0  1260759205"
      ],
      "text/html": "<div>\n<style scoped>\n    .dataframe tbody tr th:only-of-type {\n        vertical-align: middle;\n    }\n\n    .dataframe tbody tr th {\n        vertical-align: top;\n    }\n\n    .dataframe thead th {\n        text-align: right;\n    }\n</style>\n<table border=\"1\" class=\"dataframe\">\n  <thead>\n    <tr style=\"text-align: right;\">\n      <th></th>\n      <th>userId</th>\n      <th>movieId</th>\n      <th>rating</th>\n      <th>timestamp</th>\n    </tr>\n  </thead>\n  <tbody>\n    <tr>\n      <th>0</th>\n      <td>1</td>\n      <td>31</td>\n      <td>2.5</td>\n      <td>1260759144</td>\n    </tr>\n    <tr>\n      <th>1</th>\n      <td>1</td>\n      <td>1029</td>\n      <td>3.0</td>\n      <td>1260759179</td>\n    </tr>\n    <tr>\n      <th>2</th>\n      <td>1</td>\n      <td>1061</td>\n      <td>3.0</td>\n      <td>1260759182</td>\n    </tr>\n    <tr>\n      <th>3</th>\n      <td>1</td>\n      <td>1129</td>\n      <td>2.0</td>\n      <td>1260759185</td>\n    </tr>\n    <tr>\n      <th>4</th>\n      <td>1</td>\n      <td>1172</td>\n      <td>4.0</td>\n      <td>1260759205</td>\n    </tr>\n  </tbody>\n</table>\n</div>"
     },
     "metadata": {},
     "execution_count": 22
    }
   ],
   "source": [
    "cleaned_df = pd.concat([normal_users_ratings, ratings_keep])\n",
    "print(cleaned_df.shape)\n",
    "cleaned_df.head()"
   ]
  },
  {
   "source": [
    "### Checking that we don't have any of the previous behaviours"
   ],
   "cell_type": "markdown",
   "metadata": {}
  },
  {
   "cell_type": "code",
   "execution_count": 23,
   "metadata": {},
   "outputs": [
    {
     "output_type": "display_data",
     "data": {
      "application/vnd.plotly.v1+json": {
       "config": {
        "plotlyServerURL": "https://plot.ly"
       },
       "data": [
        {
         "alignmentgroup": "True",
         "hovertemplate": "userId=%{x}<br>movieId count=%{y}<extra></extra>",
         "legendgroup": "",
         "marker": {
          "color": "#636efa",
          "pattern": {
           "shape": ""
          }
         },
         "name": "",
         "offsetgroup": "",
         "orientation": "v",
         "showlegend": false,
         "textposition": "auto",
         "type": "bar",
         "x": [
          461,
          452,
          30,
          119,
          380,
          102,
          306,
          580,
          457,
          575,
          311,
          195,
          564,
          48,
          664,
          509,
          518,
          353,
          547,
          56,
          472,
          73,
          388,
          384,
          358,
          165,
          587,
          529,
          654,
          463,
          262,
          475,
          294,
          232,
          15,
          213,
          468,
          212,
          23,
          105,
          596,
          624,
          605,
          481,
          665,
          607,
          19,
          285,
          199,
          150,
          405,
          268,
          242,
          505,
          615,
          480,
          514,
          130,
          299,
          17,
          423,
          574,
          111,
          346,
          157,
          187,
          128,
          407,
          402,
          77,
          382,
          598,
          134,
          355,
          243,
          537,
          430,
          534,
          313,
          585,
          95,
          608,
          561,
          427,
          239,
          220,
          247,
          312,
          460,
          387,
          577,
          292,
          544,
          431,
          652,
          78,
          439,
          176,
          648,
          88,
          426,
          200,
          562,
          522,
          500,
          295,
          149,
          240,
          270,
          442,
          236,
          177,
          303,
          408,
          22,
          373,
          412,
          152,
          367,
          471,
          466,
          558,
          345,
          214,
          125,
          57,
          205,
          394,
          253,
          4,
          185,
          501,
          275,
          597,
          363,
          553,
          41,
          433,
          94,
          627,
          584,
          599,
          434,
          72,
          86,
          118,
          283,
          99,
          34,
          342,
          265,
          344,
          189,
          620,
          26,
          328,
          646,
          418,
          350,
          61,
          428,
          595,
          533,
          21,
          371,
          83,
          510,
          81,
          519,
          93,
          563,
          250,
          235,
          520,
          390,
          487,
          324,
          626,
          647,
          91,
          516,
          159,
          378,
          255,
          75,
          659,
          254,
          396,
          316,
          641,
          417,
          582,
          548,
          33,
          219,
          525,
          486,
          297,
          120,
          527,
          550,
          592,
          531,
          148,
          182,
          178,
          559,
          602,
          97,
          570,
          309,
          528,
          282,
          523,
          496,
          175,
          245,
          92,
          68,
          201,
          386,
          450,
          110,
          441,
          362,
          483,
          251,
          168,
          84,
          8,
          671,
          234,
          263,
          603,
          304,
          391,
          502,
          169,
          38,
          43,
          381,
          493,
          536,
          416,
          85,
          572,
          339,
          655,
          497,
          217,
          36,
          257,
          67,
          623,
          560,
          5,
          188,
          160,
          370,
          196,
          49,
          614,
          479,
          248,
          385,
          20,
          420,
          63,
          330,
          621,
          132,
          103,
          230,
          273,
          660,
          545,
          238,
          161,
          649,
          590,
          7,
          222,
          224,
          628,
          291,
          447,
          453,
          124,
          551,
          569,
          422,
          352,
          70,
          610,
          164,
          216,
          281,
          414,
          333,
          69,
          138,
          163,
          121,
          137,
          293,
          494,
          59,
          530,
          143,
          96,
          2,
          473,
          202,
          458,
          104,
          555,
          321,
          288,
          617,
          198,
          594,
          244,
          478,
          492,
          406,
          58,
          146,
          271,
          401,
          307,
          98,
          379,
          361,
          365,
          593,
          42,
          31,
          470,
          52,
          667,
          139,
          290,
          625,
          456,
          557,
          193,
          612,
          546,
          126,
          554,
          524,
          151,
          467,
          327,
          491,
          197,
          542,
          535,
          432,
          39,
          436,
          383,
          142,
          12,
          308,
          658,
          606,
          190,
          228,
          376,
          318,
          482,
          571,
          397,
          277,
          662,
          320,
          400,
          338,
          586,
          279,
          166,
          241,
          639,
          425,
          211,
          101,
          117,
          79,
          192,
          60,
          215,
          488,
          348,
          613,
          13,
          62,
          278,
          398,
          451,
          588,
          284,
          354,
          409,
          153,
          393,
          155,
          389,
          532,
          462,
          369,
          653,
          18,
          3,
          136,
          419,
          194,
          28,
          261,
          90,
          521,
          74,
          66,
          640,
          32,
          171,
          508,
          208,
          421,
          53,
          543,
          476,
          10,
          50,
          359,
          140,
          601,
          9,
          184,
          106,
          156,
          237,
          131,
          54,
          6,
          503,
          300,
          322,
          286,
          619,
          589,
          343,
          186,
          218,
          517,
          115,
          474,
          260,
          144,
          183,
          267,
          122,
          351,
          440,
          173,
          616,
          666,
          274,
          82,
          266,
          632,
          340,
          644,
          465,
          206,
          272,
          11,
          507,
          145,
          179,
          360,
          252,
          47,
          576,
          404,
          147,
          552,
          573,
          55,
          203,
          669,
          80,
          568,
          233,
          223,
          642,
          226,
          364,
          302,
          600,
          611,
          567,
          515,
          334,
          578,
          314,
          629,
          366,
          661,
          374,
          372,
          123,
          264,
          229,
          499,
          231,
          210,
          37,
          633,
          332,
          107,
          258,
          204,
          618,
          670,
          141,
          631,
          51,
          455,
          336,
          511,
          108,
          87,
          424,
          591,
          645,
          464,
          162,
          636,
          357,
          191,
          16,
          650,
          305,
          541,
          410,
          259,
          225,
          411,
          65,
          565,
          256,
          181,
          526,
          512,
          326,
          454,
          154,
          227,
          170,
          246,
          539,
          129,
          415,
          663,
          25,
          331,
          375,
          100,
          377,
          495,
          114,
          116,
          556,
          637,
          538,
          44,
          392,
          269,
          172,
          403,
          180,
          437,
          449,
          489,
          504,
          167,
          643,
          630,
          335,
          301,
          323,
          71,
          395,
          349,
          109,
          435,
          27,
          341,
          490,
          549,
          459,
          635,
          634,
          566,
          135,
          347,
          413,
          280,
          513,
          329,
          29,
          317,
          276,
          469,
          64,
          506,
          477,
          174,
          112,
          127,
          356,
          158,
          24,
          368,
          45,
          668,
          651,
          657,
          1,
          638,
          604,
          14,
          76,
          209,
          221,
          249,
          289,
          296,
          310,
          319,
          325,
          399,
          438,
          444,
          445,
          484,
          485,
          498,
          540,
          583,
          337
         ],
         "xaxis": "x",
         "y": [
          447,
          447,
          447,
          447,
          447,
          447,
          447,
          447,
          447,
          447,
          447,
          447,
          447,
          447,
          447,
          447,
          447,
          447,
          447,
          447,
          447,
          447,
          447,
          447,
          447,
          447,
          447,
          447,
          447,
          447,
          447,
          447,
          447,
          447,
          447,
          447,
          447,
          447,
          447,
          447,
          447,
          447,
          437,
          436,
          434,
          427,
          423,
          422,
          422,
          413,
          412,
          400,
          399,
          395,
          385,
          378,
          376,
          375,
          367,
          363,
          347,
          342,
          341,
          329,
          326,
          324,
          323,
          323,
          319,
          315,
          314,
          312,
          311,
          308,
          307,
          307,
          305,
          303,
          302,
          300,
          299,
          296,
          296,
          294,
          291,
          289,
          285,
          284,
          284,
          279,
          279,
          278,
          268,
          268,
          267,
          263,
          260,
          256,
          256,
          255,
          254,
          253,
          253,
          250,
          249,
          236,
          231,
          230,
          229,
          225,
          224,
          224,
          223,
          222,
          220,
          219,
          219,
          218,
          217,
          216,
          216,
          215,
          214,
          214,
          210,
          209,
          206,
          205,
          205,
          204,
          204,
          203,
          202,
          202,
          201,
          201,
          199,
          198,
          196,
          194,
          193,
          192,
          192,
          191,
          190,
          189,
          189,
          188,
          187,
          187,
          183,
          177,
          176,
          172,
          172,
          170,
          169,
          168,
          168,
          166,
          166,
          163,
          163,
          162,
          161,
          161,
          161,
          160,
          160,
          159,
          158,
          155,
          155,
          154,
          153,
          152,
          151,
          150,
          150,
          150,
          149,
          148,
          147,
          145,
          145,
          142,
          141,
          141,
          140,
          140,
          139,
          138,
          138,
          138,
          138,
          138,
          138,
          138,
          138,
          135,
          135,
          133,
          132,
          132,
          131,
          130,
          129,
          129,
          128,
          128,
          128,
          127,
          127,
          126,
          126,
          125,
          125,
          123,
          123,
          122,
          121,
          120,
          120,
          120,
          119,
          119,
          119,
          116,
          116,
          116,
          115,
          115,
          114,
          114,
          113,
          113,
          113,
          113,
          111,
          110,
          110,
          110,
          109,
          107,
          107,
          106,
          105,
          105,
          105,
          104,
          104,
          103,
          103,
          103,
          100,
          100,
          100,
          100,
          100,
          99,
          99,
          99,
          99,
          99,
          99,
          98,
          98,
          97,
          95,
          95,
          94,
          94,
          94,
          92,
          92,
          92,
          91,
          90,
          90,
          89,
          88,
          88,
          88,
          87,
          87,
          87,
          86,
          85,
          85,
          85,
          85,
          84,
          83,
          82,
          82,
          82,
          82,
          81,
          81,
          81,
          81,
          81,
          80,
          80,
          79,
          78,
          78,
          78,
          77,
          76,
          76,
          76,
          76,
          76,
          76,
          75,
          75,
          75,
          75,
          75,
          75,
          74,
          74,
          74,
          73,
          73,
          73,
          72,
          72,
          72,
          71,
          71,
          70,
          70,
          70,
          70,
          69,
          69,
          68,
          68,
          68,
          67,
          67,
          67,
          66,
          66,
          66,
          65,
          64,
          64,
          64,
          64,
          64,
          63,
          63,
          63,
          63,
          63,
          62,
          62,
          62,
          62,
          61,
          61,
          61,
          60,
          60,
          60,
          60,
          59,
          59,
          59,
          59,
          59,
          58,
          58,
          58,
          58,
          57,
          57,
          57,
          56,
          56,
          55,
          55,
          55,
          55,
          55,
          55,
          55,
          55,
          54,
          54,
          53,
          53,
          53,
          53,
          53,
          53,
          52,
          52,
          52,
          52,
          51,
          51,
          51,
          51,
          51,
          51,
          51,
          51,
          51,
          51,
          51,
          50,
          50,
          50,
          50,
          50,
          50,
          49,
          49,
          49,
          49,
          48,
          48,
          48,
          48,
          47,
          46,
          46,
          46,
          46,
          46,
          46,
          46,
          46,
          45,
          45,
          45,
          45,
          44,
          44,
          44,
          44,
          44,
          44,
          43,
          43,
          43,
          43,
          42,
          42,
          42,
          42,
          41,
          41,
          41,
          41,
          41,
          41,
          40,
          40,
          40,
          40,
          40,
          40,
          39,
          39,
          39,
          39,
          39,
          39,
          39,
          39,
          39,
          38,
          38,
          38,
          38,
          38,
          38,
          38,
          38,
          38,
          38,
          38,
          38,
          38,
          37,
          37,
          37,
          37,
          36,
          36,
          36,
          36,
          36,
          35,
          35,
          35,
          34,
          34,
          34,
          34,
          34,
          34,
          34,
          33,
          33,
          33,
          33,
          33,
          33,
          33,
          32,
          32,
          32,
          32,
          32,
          32,
          32,
          31,
          31,
          31,
          31,
          31,
          31,
          31,
          31,
          31,
          31,
          31,
          30,
          30,
          30,
          30,
          30,
          30,
          30,
          29,
          29,
          29,
          29,
          29,
          28,
          28,
          28,
          27,
          27,
          27,
          27,
          27,
          27,
          27,
          27,
          27,
          26,
          26,
          26,
          26,
          26,
          26,
          26,
          26,
          26,
          25,
          25,
          25,
          25,
          25,
          25,
          25,
          25,
          25,
          25,
          25,
          25,
          25,
          24,
          24,
          24,
          24,
          24,
          24,
          24,
          24,
          24,
          23,
          23,
          23,
          23,
          23,
          23,
          23,
          23,
          23,
          23,
          22,
          22,
          22,
          22,
          22,
          22,
          22,
          22,
          22,
          22,
          22,
          22,
          22,
          22,
          22,
          21,
          21,
          21,
          21,
          21,
          21,
          21,
          21,
          21,
          21,
          21,
          21,
          21,
          20,
          20,
          20,
          20,
          20,
          20,
          20,
          20,
          20,
          20,
          20,
          20,
          20,
          20,
          20,
          20,
          20,
          20,
          20,
          20,
          20,
          20,
          20,
          20,
          20,
          20
         ],
         "yaxis": "y"
        }
       ],
       "layout": {
        "barmode": "relative",
        "legend": {
         "tracegroupgap": 0
        },
        "margin": {
         "t": 60
        },
        "template": {
         "data": {
          "bar": [
           {
            "error_x": {
             "color": "#2a3f5f"
            },
            "error_y": {
             "color": "#2a3f5f"
            },
            "marker": {
             "line": {
              "color": "#E5ECF6",
              "width": 0.5
             },
             "pattern": {
              "fillmode": "overlay",
              "size": 10,
              "solidity": 0.2
             }
            },
            "type": "bar"
           }
          ],
          "barpolar": [
           {
            "marker": {
             "line": {
              "color": "#E5ECF6",
              "width": 0.5
             },
             "pattern": {
              "fillmode": "overlay",
              "size": 10,
              "solidity": 0.2
             }
            },
            "type": "barpolar"
           }
          ],
          "carpet": [
           {
            "aaxis": {
             "endlinecolor": "#2a3f5f",
             "gridcolor": "white",
             "linecolor": "white",
             "minorgridcolor": "white",
             "startlinecolor": "#2a3f5f"
            },
            "baxis": {
             "endlinecolor": "#2a3f5f",
             "gridcolor": "white",
             "linecolor": "white",
             "minorgridcolor": "white",
             "startlinecolor": "#2a3f5f"
            },
            "type": "carpet"
           }
          ],
          "choropleth": [
           {
            "colorbar": {
             "outlinewidth": 0,
             "ticks": ""
            },
            "type": "choropleth"
           }
          ],
          "contour": [
           {
            "colorbar": {
             "outlinewidth": 0,
             "ticks": ""
            },
            "colorscale": [
             [
              0,
              "#0d0887"
             ],
             [
              0.1111111111111111,
              "#46039f"
             ],
             [
              0.2222222222222222,
              "#7201a8"
             ],
             [
              0.3333333333333333,
              "#9c179e"
             ],
             [
              0.4444444444444444,
              "#bd3786"
             ],
             [
              0.5555555555555556,
              "#d8576b"
             ],
             [
              0.6666666666666666,
              "#ed7953"
             ],
             [
              0.7777777777777778,
              "#fb9f3a"
             ],
             [
              0.8888888888888888,
              "#fdca26"
             ],
             [
              1,
              "#f0f921"
             ]
            ],
            "type": "contour"
           }
          ],
          "contourcarpet": [
           {
            "colorbar": {
             "outlinewidth": 0,
             "ticks": ""
            },
            "type": "contourcarpet"
           }
          ],
          "heatmap": [
           {
            "colorbar": {
             "outlinewidth": 0,
             "ticks": ""
            },
            "colorscale": [
             [
              0,
              "#0d0887"
             ],
             [
              0.1111111111111111,
              "#46039f"
             ],
             [
              0.2222222222222222,
              "#7201a8"
             ],
             [
              0.3333333333333333,
              "#9c179e"
             ],
             [
              0.4444444444444444,
              "#bd3786"
             ],
             [
              0.5555555555555556,
              "#d8576b"
             ],
             [
              0.6666666666666666,
              "#ed7953"
             ],
             [
              0.7777777777777778,
              "#fb9f3a"
             ],
             [
              0.8888888888888888,
              "#fdca26"
             ],
             [
              1,
              "#f0f921"
             ]
            ],
            "type": "heatmap"
           }
          ],
          "heatmapgl": [
           {
            "colorbar": {
             "outlinewidth": 0,
             "ticks": ""
            },
            "colorscale": [
             [
              0,
              "#0d0887"
             ],
             [
              0.1111111111111111,
              "#46039f"
             ],
             [
              0.2222222222222222,
              "#7201a8"
             ],
             [
              0.3333333333333333,
              "#9c179e"
             ],
             [
              0.4444444444444444,
              "#bd3786"
             ],
             [
              0.5555555555555556,
              "#d8576b"
             ],
             [
              0.6666666666666666,
              "#ed7953"
             ],
             [
              0.7777777777777778,
              "#fb9f3a"
             ],
             [
              0.8888888888888888,
              "#fdca26"
             ],
             [
              1,
              "#f0f921"
             ]
            ],
            "type": "heatmapgl"
           }
          ],
          "histogram": [
           {
            "marker": {
             "pattern": {
              "fillmode": "overlay",
              "size": 10,
              "solidity": 0.2
             }
            },
            "type": "histogram"
           }
          ],
          "histogram2d": [
           {
            "colorbar": {
             "outlinewidth": 0,
             "ticks": ""
            },
            "colorscale": [
             [
              0,
              "#0d0887"
             ],
             [
              0.1111111111111111,
              "#46039f"
             ],
             [
              0.2222222222222222,
              "#7201a8"
             ],
             [
              0.3333333333333333,
              "#9c179e"
             ],
             [
              0.4444444444444444,
              "#bd3786"
             ],
             [
              0.5555555555555556,
              "#d8576b"
             ],
             [
              0.6666666666666666,
              "#ed7953"
             ],
             [
              0.7777777777777778,
              "#fb9f3a"
             ],
             [
              0.8888888888888888,
              "#fdca26"
             ],
             [
              1,
              "#f0f921"
             ]
            ],
            "type": "histogram2d"
           }
          ],
          "histogram2dcontour": [
           {
            "colorbar": {
             "outlinewidth": 0,
             "ticks": ""
            },
            "colorscale": [
             [
              0,
              "#0d0887"
             ],
             [
              0.1111111111111111,
              "#46039f"
             ],
             [
              0.2222222222222222,
              "#7201a8"
             ],
             [
              0.3333333333333333,
              "#9c179e"
             ],
             [
              0.4444444444444444,
              "#bd3786"
             ],
             [
              0.5555555555555556,
              "#d8576b"
             ],
             [
              0.6666666666666666,
              "#ed7953"
             ],
             [
              0.7777777777777778,
              "#fb9f3a"
             ],
             [
              0.8888888888888888,
              "#fdca26"
             ],
             [
              1,
              "#f0f921"
             ]
            ],
            "type": "histogram2dcontour"
           }
          ],
          "mesh3d": [
           {
            "colorbar": {
             "outlinewidth": 0,
             "ticks": ""
            },
            "type": "mesh3d"
           }
          ],
          "parcoords": [
           {
            "line": {
             "colorbar": {
              "outlinewidth": 0,
              "ticks": ""
             }
            },
            "type": "parcoords"
           }
          ],
          "pie": [
           {
            "automargin": true,
            "type": "pie"
           }
          ],
          "scatter": [
           {
            "marker": {
             "colorbar": {
              "outlinewidth": 0,
              "ticks": ""
             }
            },
            "type": "scatter"
           }
          ],
          "scatter3d": [
           {
            "line": {
             "colorbar": {
              "outlinewidth": 0,
              "ticks": ""
             }
            },
            "marker": {
             "colorbar": {
              "outlinewidth": 0,
              "ticks": ""
             }
            },
            "type": "scatter3d"
           }
          ],
          "scattercarpet": [
           {
            "marker": {
             "colorbar": {
              "outlinewidth": 0,
              "ticks": ""
             }
            },
            "type": "scattercarpet"
           }
          ],
          "scattergeo": [
           {
            "marker": {
             "colorbar": {
              "outlinewidth": 0,
              "ticks": ""
             }
            },
            "type": "scattergeo"
           }
          ],
          "scattergl": [
           {
            "marker": {
             "colorbar": {
              "outlinewidth": 0,
              "ticks": ""
             }
            },
            "type": "scattergl"
           }
          ],
          "scattermapbox": [
           {
            "marker": {
             "colorbar": {
              "outlinewidth": 0,
              "ticks": ""
             }
            },
            "type": "scattermapbox"
           }
          ],
          "scatterpolar": [
           {
            "marker": {
             "colorbar": {
              "outlinewidth": 0,
              "ticks": ""
             }
            },
            "type": "scatterpolar"
           }
          ],
          "scatterpolargl": [
           {
            "marker": {
             "colorbar": {
              "outlinewidth": 0,
              "ticks": ""
             }
            },
            "type": "scatterpolargl"
           }
          ],
          "scatterternary": [
           {
            "marker": {
             "colorbar": {
              "outlinewidth": 0,
              "ticks": ""
             }
            },
            "type": "scatterternary"
           }
          ],
          "surface": [
           {
            "colorbar": {
             "outlinewidth": 0,
             "ticks": ""
            },
            "colorscale": [
             [
              0,
              "#0d0887"
             ],
             [
              0.1111111111111111,
              "#46039f"
             ],
             [
              0.2222222222222222,
              "#7201a8"
             ],
             [
              0.3333333333333333,
              "#9c179e"
             ],
             [
              0.4444444444444444,
              "#bd3786"
             ],
             [
              0.5555555555555556,
              "#d8576b"
             ],
             [
              0.6666666666666666,
              "#ed7953"
             ],
             [
              0.7777777777777778,
              "#fb9f3a"
             ],
             [
              0.8888888888888888,
              "#fdca26"
             ],
             [
              1,
              "#f0f921"
             ]
            ],
            "type": "surface"
           }
          ],
          "table": [
           {
            "cells": {
             "fill": {
              "color": "#EBF0F8"
             },
             "line": {
              "color": "white"
             }
            },
            "header": {
             "fill": {
              "color": "#C8D4E3"
             },
             "line": {
              "color": "white"
             }
            },
            "type": "table"
           }
          ]
         },
         "layout": {
          "annotationdefaults": {
           "arrowcolor": "#2a3f5f",
           "arrowhead": 0,
           "arrowwidth": 1
          },
          "autotypenumbers": "strict",
          "coloraxis": {
           "colorbar": {
            "outlinewidth": 0,
            "ticks": ""
           }
          },
          "colorscale": {
           "diverging": [
            [
             0,
             "#8e0152"
            ],
            [
             0.1,
             "#c51b7d"
            ],
            [
             0.2,
             "#de77ae"
            ],
            [
             0.3,
             "#f1b6da"
            ],
            [
             0.4,
             "#fde0ef"
            ],
            [
             0.5,
             "#f7f7f7"
            ],
            [
             0.6,
             "#e6f5d0"
            ],
            [
             0.7,
             "#b8e186"
            ],
            [
             0.8,
             "#7fbc41"
            ],
            [
             0.9,
             "#4d9221"
            ],
            [
             1,
             "#276419"
            ]
           ],
           "sequential": [
            [
             0,
             "#0d0887"
            ],
            [
             0.1111111111111111,
             "#46039f"
            ],
            [
             0.2222222222222222,
             "#7201a8"
            ],
            [
             0.3333333333333333,
             "#9c179e"
            ],
            [
             0.4444444444444444,
             "#bd3786"
            ],
            [
             0.5555555555555556,
             "#d8576b"
            ],
            [
             0.6666666666666666,
             "#ed7953"
            ],
            [
             0.7777777777777778,
             "#fb9f3a"
            ],
            [
             0.8888888888888888,
             "#fdca26"
            ],
            [
             1,
             "#f0f921"
            ]
           ],
           "sequentialminus": [
            [
             0,
             "#0d0887"
            ],
            [
             0.1111111111111111,
             "#46039f"
            ],
            [
             0.2222222222222222,
             "#7201a8"
            ],
            [
             0.3333333333333333,
             "#9c179e"
            ],
            [
             0.4444444444444444,
             "#bd3786"
            ],
            [
             0.5555555555555556,
             "#d8576b"
            ],
            [
             0.6666666666666666,
             "#ed7953"
            ],
            [
             0.7777777777777778,
             "#fb9f3a"
            ],
            [
             0.8888888888888888,
             "#fdca26"
            ],
            [
             1,
             "#f0f921"
            ]
           ]
          },
          "colorway": [
           "#636efa",
           "#EF553B",
           "#00cc96",
           "#ab63fa",
           "#FFA15A",
           "#19d3f3",
           "#FF6692",
           "#B6E880",
           "#FF97FF",
           "#FECB52"
          ],
          "font": {
           "color": "#2a3f5f"
          },
          "geo": {
           "bgcolor": "white",
           "lakecolor": "white",
           "landcolor": "#E5ECF6",
           "showlakes": true,
           "showland": true,
           "subunitcolor": "white"
          },
          "hoverlabel": {
           "align": "left"
          },
          "hovermode": "closest",
          "mapbox": {
           "style": "light"
          },
          "paper_bgcolor": "white",
          "plot_bgcolor": "#E5ECF6",
          "polar": {
           "angularaxis": {
            "gridcolor": "white",
            "linecolor": "white",
            "ticks": ""
           },
           "bgcolor": "#E5ECF6",
           "radialaxis": {
            "gridcolor": "white",
            "linecolor": "white",
            "ticks": ""
           }
          },
          "scene": {
           "xaxis": {
            "backgroundcolor": "#E5ECF6",
            "gridcolor": "white",
            "gridwidth": 2,
            "linecolor": "white",
            "showbackground": true,
            "ticks": "",
            "zerolinecolor": "white"
           },
           "yaxis": {
            "backgroundcolor": "#E5ECF6",
            "gridcolor": "white",
            "gridwidth": 2,
            "linecolor": "white",
            "showbackground": true,
            "ticks": "",
            "zerolinecolor": "white"
           },
           "zaxis": {
            "backgroundcolor": "#E5ECF6",
            "gridcolor": "white",
            "gridwidth": 2,
            "linecolor": "white",
            "showbackground": true,
            "ticks": "",
            "zerolinecolor": "white"
           }
          },
          "shapedefaults": {
           "line": {
            "color": "#2a3f5f"
           }
          },
          "ternary": {
           "aaxis": {
            "gridcolor": "white",
            "linecolor": "white",
            "ticks": ""
           },
           "baxis": {
            "gridcolor": "white",
            "linecolor": "white",
            "ticks": ""
           },
           "bgcolor": "#E5ECF6",
           "caxis": {
            "gridcolor": "white",
            "linecolor": "white",
            "ticks": ""
           }
          },
          "title": {
           "x": 0.05
          },
          "xaxis": {
           "automargin": true,
           "gridcolor": "white",
           "linecolor": "white",
           "ticks": "",
           "title": {
            "standoff": 15
           },
           "zerolinecolor": "white",
           "zerolinewidth": 2
          },
          "yaxis": {
           "automargin": true,
           "gridcolor": "white",
           "linecolor": "white",
           "ticks": "",
           "title": {
            "standoff": 15
           },
           "zerolinecolor": "white",
           "zerolinewidth": 2
          }
         }
        },
        "xaxis": {
         "anchor": "y",
         "domain": [
          0,
          1
         ],
         "title": {
          "text": "userId"
         }
        },
        "yaxis": {
         "anchor": "x",
         "domain": [
          0,
          1
         ],
         "title": {
          "text": "movieId count"
         }
        }
       }
      }
     },
     "metadata": {}
    }
   ],
   "source": [
    "ratings_per_user = cleaned_df.groupby('userId').agg({'movieId': 'count', 'rating': 'mean'})\n",
    "ratings_per_user = ratings_per_user.rename(columns={'movieId': 'movieId count', 'rating': 'average rating'}).sort_values(\"movieId count\", ascending=False)\n",
    "px.bar(ratings_per_user, x=ratings_per_user.index, y='movieId count')"
   ]
  },
  {
   "cell_type": "code",
   "execution_count": 24,
   "metadata": {},
   "outputs": [
    {
     "output_type": "display_data",
     "data": {
      "application/vnd.plotly.v1+json": {
       "config": {
        "plotlyServerURL": "https://plot.ly"
       },
       "data": [
        {
         "alignmentgroup": "True",
         "bingroup": "x",
         "hovertemplate": "average rating=%{x}<br>count=%{y}<extra></extra>",
         "legendgroup": "",
         "marker": {
          "color": "#636efa",
          "pattern": {
           "shape": ""
          }
         },
         "name": "",
         "offsetgroup": "",
         "orientation": "v",
         "showlegend": false,
         "type": "histogram",
         "x": [
          2.8378076062639823,
          3.1890380313199107,
          3.7874720357941833,
          3.501118568232662,
          3.360178970917226,
          3.9574944071588365,
          3.4295302013422817,
          3.291946308724832,
          2.4675615212527964,
          3.4004474272930647,
          2.9932885906040267,
          2.9552572706935125,
          3.5838926174496644,
          3.5201342281879193,
          3.821029082774049,
          3.329977628635347,
          3.5995525727069353,
          2.582774049217002,
          3.30089485458613,
          3.626398210290828,
          3.831096196868009,
          3.307606263982103,
          3.649888143176734,
          3.2595078299776286,
          3.214765100671141,
          2.8400447427293063,
          4.064876957494407,
          3.5458612975391497,
          4.078299776286354,
          3.38255033557047,
          2.605145413870246,
          2.6722595078299776,
          3.6096196868008947,
          3.912751677852349,
          2.6297539149888145,
          2.605145413870246,
          2.975391498881432,
          3.134228187919463,
          3.597315436241611,
          3.384787472035794,
          3.6286353467561523,
          2.83668903803132,
          3.0503432494279177,
          4.137614678899083,
          3.2857142857142856,
          3.6533957845433256,
          3.534278959810875,
          3.1635071090047395,
          3.6492890995260665,
          3.1138014527845037,
          3.6553398058252426,
          3.625,
          4.466165413533835,
          3.2721518987341773,
          3.602597402597403,
          3.998677248677249,
          3.5319148936170213,
          3.2906666666666666,
          4.160762942779291,
          3.743801652892562,
          3.6296829971181555,
          3.5116959064327484,
          3.5117302052785924,
          3.4498480243161094,
          3.4003067484662575,
          3.677469135802469,
          3.8606811145510838,
          4.156346749226006,
          3.6677115987460813,
          3.3190476190476192,
          3.090764331210191,
          3.4358974358974357,
          4.008038585209003,
          3.61525974025974,
          3.3941368078175898,
          3.996742671009772,
          3.9508196721311477,
          3.6402640264026402,
          3.5264900662251657,
          4.25,
          3.8963210702341136,
          3.949324324324324,
          3.597972972972973,
          3.891156462585034,
          3.7079037800687287,
          3.5536332179930796,
          3.5157894736842104,
          3.3028169014084505,
          3.714788732394366,
          4.211469534050179,
          4.345878136200717,
          3.9532374100719423,
          4.472014925373134,
          4.143656716417911,
          4.2209737827715355,
          4.298479087452471,
          3.0730769230769233,
          2.935546875,
          3.62890625,
          3.3784313725490196,
          3.3366141732283463,
          3.2470355731225298,
          4.017786561264822,
          3.166,
          2.9819277108433737,
          3.944915254237288,
          3.4761904761904763,
          3.9326086956521737,
          3.7248908296943233,
          4.224444444444444,
          4.015625,
          3.96875,
          3.6390134529147984,
          3.644144144144144,
          3.275,
          3.5525114155251143,
          2.904109589041096,
          3.4243119266055047,
          3.347926267281106,
          3.634259259259259,
          3.7962962962962963,
          4.339534883720931,
          3.7453271028037385,
          4.018691588785047,
          4.023809523809524,
          3.9569377990430623,
          3.4101941747572817,
          2.7853658536585364,
          3.6609756097560977,
          4.348039215686274,
          3.607843137254902,
          3.9334975369458127,
          4.452970297029703,
          4.014851485148514,
          3.711442786069652,
          4,
          3.8668341708542715,
          3.8333333333333335,
          3.4056122448979593,
          3.1469072164948453,
          3.756476683937824,
          3.9947916666666665,
          3.6875,
          3.243455497382199,
          3.594736842105263,
          4,
          3.7037037037037037,
          3.4308510638297873,
          3.935828877005348,
          4.176470588235294,
          3.9672131147540983,
          3.632768361581921,
          2.6818181818181817,
          2.9563953488372094,
          3.4680232558139537,
          3.3970588235294117,
          4.1301775147929,
          3.5833333333333335,
          3.8333333333333335,
          3.2740963855421685,
          3.7379518072289155,
          3.938650306748466,
          3.3496932515337425,
          3.506172839506173,
          3.8074534161490683,
          3.9316770186335406,
          3.248447204968944,
          3.946875,
          4.403125,
          3.79874213836478,
          3.901898734177215,
          4.264516129032258,
          4.22258064516129,
          3.3733766233766236,
          3.2483660130718954,
          3.7697368421052633,
          3.5,
          3.5,
          4.273333333333333,
          4.173333333333333,
          3.4630872483221475,
          3.5675675675675675,
          3.238095238095238,
          3.6448275862068966,
          3.279310344827586,
          3.387323943661972,
          3.482269503546099,
          3.24822695035461,
          3.617857142857143,
          3.9,
          3.787769784172662,
          3.61231884057971,
          3.3768115942028984,
          3.2753623188405796,
          3.7282608695652173,
          3.6594202898550723,
          3.6268115942028984,
          3.608695652173913,
          3.4855072463768115,
          3.174074074074074,
          3.585185185185185,
          3.8796992481203008,
          2.977272727272727,
          4.007575757575758,
          3.816793893129771,
          3.5153846153846153,
          4.4186046511627906,
          3.635658914728682,
          3.015625,
          3.66015625,
          4.296875,
          3.3976377952755907,
          3.6181102362204722,
          4.035714285714286,
          3.9126984126984126,
          3.744,
          3.952,
          3.154471544715447,
          3.6260162601626016,
          4.131147540983607,
          2.8677685950413223,
          4.316666666666666,
          4.158333333333333,
          3.85,
          3.7983193277310923,
          3.5798319327731094,
          4.34453781512605,
          3.2586206896551726,
          3.7155172413793105,
          3.8663793103448274,
          3.917391304347826,
          3.8,
          3.254385964912281,
          3.8684210526315788,
          3.8672566371681416,
          3.725663716814159,
          3.9557522123893807,
          4.110619469026549,
          4.292792792792793,
          3,
          3.227272727272727,
          3.518181818181818,
          3.871559633027523,
          3.205607476635514,
          3.1869158878504673,
          3.6792452830188678,
          3.8190476190476192,
          4.085714285714285,
          3.7904761904761903,
          4.211538461538462,
          3.6153846153846154,
          3.6067961165048543,
          3.7572815533980584,
          4.067961165048544,
          3.91,
          3.91,
          3.58,
          3.94,
          3.97,
          3.6666666666666665,
          3.4646464646464645,
          3.676767676767677,
          4.0606060606060606,
          4.292929292929293,
          3.494949494949495,
          3.2908163265306123,
          3.806122448979592,
          3.7577319587628866,
          3.463157894736842,
          3.9263157894736844,
          4.281914893617022,
          3.393617021276596,
          4.473404255319149,
          4.309782608695652,
          4.168478260869565,
          3.902173913043478,
          3.5714285714285716,
          3.588888888888889,
          3.511111111111111,
          3.4831460674157304,
          3.465909090909091,
          4.125,
          4.181818181818182,
          3.103448275862069,
          4.2298850574712645,
          3.0229885057471266,
          3.5697674418604652,
          3.7588235294117647,
          3.4,
          4.105882352941176,
          3.976470588235294,
          3.8452380952380953,
          4.204819277108434,
          3.5609756097560976,
          3.7134146341463414,
          4.384146341463414,
          3.975609756097561,
          2.6419753086419755,
          4.2592592592592595,
          4.135802469135802,
          3.191358024691358,
          3.191358024691358,
          4.0375,
          3.7375,
          3.4683544303797467,
          4.012820512820513,
          3.0833333333333335,
          3.8076923076923075,
          3.7012987012987013,
          4.1381578947368425,
          3.486842105263158,
          4.315789473684211,
          3.6973684210526314,
          3.6578947368421053,
          4.052631578947368,
          3.1733333333333333,
          3.7066666666666666,
          3.8133333333333335,
          3.12,
          3.7666666666666666,
          4.1066666666666665,
          3.6621621621621623,
          4.3108108108108105,
          3.5675675675675675,
          4.178082191780822,
          3.410958904109589,
          3.5547945205479454,
          3.7569444444444446,
          4.416666666666667,
          4.263888888888889,
          4.330985915492958,
          3.683098591549296,
          3.6,
          4.121428571428571,
          3.942857142857143,
          4.014285714285714,
          4.166666666666667,
          3.282608695652174,
          3.6911764705882355,
          3.6470588235294117,
          3.610294117647059,
          4.388059701492537,
          4.156716417910448,
          3.8358208955223883,
          2.7045454545454546,
          4.242424242424242,
          3.477272727272727,
          4.415384615384616,
          3.609375,
          3.359375,
          3.796875,
          3.734375,
          3.875,
          4.0476190476190474,
          3.507936507936508,
          4.063492063492063,
          3.857142857142857,
          3.015873015873016,
          4.411290322580645,
          3.7903225806451615,
          4.096774193548387,
          3.435483870967742,
          2.7049180327868854,
          2.7540983606557377,
          3.5081967213114753,
          4.35,
          4.191666666666666,
          4,
          4.25,
          3.9152542372881354,
          3.23728813559322,
          3.830508474576271,
          3.652542372881356,
          3.5084745762711864,
          3.9827586206896552,
          3.396551724137931,
          3.8017241379310347,
          3.586206896551724,
          3.473684210526316,
          3.412280701754386,
          3.192982456140351,
          3.642857142857143,
          3.1607142857142856,
          3.381818181818182,
          3.390909090909091,
          4.3090909090909095,
          3.9,
          3.8181818181818183,
          2.518181818181818,
          3.5090909090909093,
          4.181818181818182,
          3.8518518518518516,
          4.111111111111111,
          3.641509433962264,
          3.792452830188679,
          3.7452830188679247,
          4.037735849056604,
          3.641509433962264,
          4,
          3.6538461538461537,
          3.673076923076923,
          3.326923076923077,
          3.9038461538461537,
          4.1568627450980395,
          4.235294117647059,
          3.1372549019607843,
          3.6862745098039214,
          3.4705882352941178,
          3.676470588235294,
          3.3627450980392157,
          3.6666666666666665,
          4,
          3.235294117647059,
          3.5686274509803924,
          3.82,
          3.64,
          3.48,
          4.28,
          3.63,
          3.74,
          4.204081632653061,
          4.1020408163265305,
          3.9591836734693877,
          3.6530612244897958,
          3.6666666666666665,
          4.083333333333333,
          3.875,
          4.010416666666667,
          2.9574468085106385,
          2.782608695652174,
          4.3478260869565215,
          3.0652173913043477,
          3.6956521739130435,
          3.282608695652174,
          3.6739130434782608,
          3.402173913043478,
          3.6739130434782608,
          3.7555555555555555,
          3.7333333333333334,
          3.8444444444444446,
          4.2,
          3.272727272727273,
          3.727272727272727,
          3.7954545454545454,
          3.2613636363636362,
          3.8068181818181817,
          4.056818181818182,
          3.7674418604651163,
          2.9767441860465116,
          3.511627906976744,
          3.604651162790698,
          3.8333333333333335,
          3.7976190476190474,
          3.892857142857143,
          4.285714285714286,
          4.109756097560975,
          4.024390243902439,
          3.768292682926829,
          3.5121951219512195,
          4,
          4.085365853658536,
          2.85,
          4.175,
          3.675,
          4,
          3.675,
          2.95,
          3.5256410256410255,
          3.58974358974359,
          3.717948717948718,
          4.166666666666667,
          3.8846153846153846,
          3.7435897435897436,
          3.923076923076923,
          3.41025641025641,
          3.717948717948718,
          4.078947368421052,
          3.289473684210526,
          4.5,
          3.9078947368421053,
          3.763157894736842,
          3.6052631578947367,
          3.8684210526315788,
          3.789473684210526,
          3.6578947368421053,
          4.144736842105263,
          2.710526315789474,
          3.526315789473684,
          3.6315789473684212,
          3.9864864864864864,
          3.3513513513513513,
          3.5945945945945947,
          4.135135135135135,
          3.1944444444444446,
          3.8055555555555554,
          3.9166666666666665,
          3.1527777777777777,
          3.0833333333333335,
          3.342857142857143,
          3.9285714285714284,
          3.6714285714285713,
          4.3088235294117645,
          4.323529411764706,
          3.985294117647059,
          2.7205882352941178,
          4.3088235294117645,
          3.4411764705882355,
          3.411764705882353,
          3.8333333333333335,
          3.393939393939394,
          3.696969696969697,
          3.757575757575758,
          4.151515151515151,
          4.075757575757576,
          4.2727272727272725,
          4.0625,
          2.953125,
          4.0625,
          3.125,
          3.125,
          2.859375,
          4.1875,
          3.370967741935484,
          4.129032258064516,
          3.806451612903226,
          3.225806451612903,
          3.7096774193548385,
          3.967741935483871,
          3.6774193548387095,
          3.4193548387096775,
          4.290322580645161,
          3.4516129032258065,
          3.2903225806451615,
          3.25,
          3.2333333333333334,
          3.683333333333333,
          4.233333333333333,
          3.4,
          3.566666666666667,
          4.266666666666667,
          3.0344827586206895,
          4.120689655172414,
          3.310344827586207,
          2.7241379310344827,
          3.2758620689655173,
          4.035714285714286,
          3.5357142857142856,
          4.107142857142857,
          3.7037037037037037,
          4.148148148148148,
          3.7037037037037037,
          3.185185185185185,
          4.351851851851852,
          4.111111111111111,
          4.2407407407407405,
          3.4814814814814814,
          4.5,
          3.9615384615384617,
          3.6923076923076925,
          2.5576923076923075,
          3.6153846153846154,
          4,
          3.1923076923076925,
          4,
          3.730769230769231,
          3.1153846153846154,
          3.58,
          3.56,
          3.4,
          3.36,
          4.08,
          4.08,
          3.9,
          4.4,
          4.14,
          3.6,
          3.36,
          3.04,
          3.4,
          3.75,
          3.9583333333333335,
          3.4583333333333335,
          3.5833333333333335,
          4.291666666666667,
          3.875,
          2.875,
          3.9166666666666665,
          3.3958333333333335,
          4.065217391304348,
          3.4130434782608696,
          3.4130434782608696,
          3.8260869565217392,
          4.260869565217392,
          3.217391304347826,
          3.5217391304347827,
          4.108695652173913,
          4.217391304347826,
          3.8260869565217392,
          3.6136363636363638,
          3.5454545454545454,
          3.090909090909091,
          3.9545454545454546,
          3.477272727272727,
          2.8863636363636362,
          4.409090909090909,
          2.6363636363636362,
          3.8636363636363638,
          3.8636363636363638,
          4.318181818181818,
          3.8181818181818183,
          3.8636363636363638,
          2.8636363636363638,
          3.5,
          2.880952380952381,
          3.5476190476190474,
          4,
          3.2857142857142856,
          2.9523809523809526,
          3.0714285714285716,
          4.0476190476190474,
          4.0476190476190474,
          2.857142857142857,
          3.1666666666666665,
          3.6666666666666665,
          3.857142857142857,
          3.619047619047619,
          3.75,
          3.9,
          3.5,
          2.55,
          3,
          2.825,
          2.95,
          3.8,
          2.85,
          2.775,
          3.6,
          3.675,
          3.975,
          2.675,
          3.4,
          2.525,
          3.25,
          4.375,
          3.3,
          3.45,
          3.9,
          3.475,
          3.25,
          3.7,
          4.15,
          2.95
         ],
         "xaxis": "x",
         "yaxis": "y"
        }
       ],
       "layout": {
        "barmode": "relative",
        "legend": {
         "tracegroupgap": 0
        },
        "margin": {
         "t": 60
        },
        "template": {
         "data": {
          "bar": [
           {
            "error_x": {
             "color": "#2a3f5f"
            },
            "error_y": {
             "color": "#2a3f5f"
            },
            "marker": {
             "line": {
              "color": "#E5ECF6",
              "width": 0.5
             },
             "pattern": {
              "fillmode": "overlay",
              "size": 10,
              "solidity": 0.2
             }
            },
            "type": "bar"
           }
          ],
          "barpolar": [
           {
            "marker": {
             "line": {
              "color": "#E5ECF6",
              "width": 0.5
             },
             "pattern": {
              "fillmode": "overlay",
              "size": 10,
              "solidity": 0.2
             }
            },
            "type": "barpolar"
           }
          ],
          "carpet": [
           {
            "aaxis": {
             "endlinecolor": "#2a3f5f",
             "gridcolor": "white",
             "linecolor": "white",
             "minorgridcolor": "white",
             "startlinecolor": "#2a3f5f"
            },
            "baxis": {
             "endlinecolor": "#2a3f5f",
             "gridcolor": "white",
             "linecolor": "white",
             "minorgridcolor": "white",
             "startlinecolor": "#2a3f5f"
            },
            "type": "carpet"
           }
          ],
          "choropleth": [
           {
            "colorbar": {
             "outlinewidth": 0,
             "ticks": ""
            },
            "type": "choropleth"
           }
          ],
          "contour": [
           {
            "colorbar": {
             "outlinewidth": 0,
             "ticks": ""
            },
            "colorscale": [
             [
              0,
              "#0d0887"
             ],
             [
              0.1111111111111111,
              "#46039f"
             ],
             [
              0.2222222222222222,
              "#7201a8"
             ],
             [
              0.3333333333333333,
              "#9c179e"
             ],
             [
              0.4444444444444444,
              "#bd3786"
             ],
             [
              0.5555555555555556,
              "#d8576b"
             ],
             [
              0.6666666666666666,
              "#ed7953"
             ],
             [
              0.7777777777777778,
              "#fb9f3a"
             ],
             [
              0.8888888888888888,
              "#fdca26"
             ],
             [
              1,
              "#f0f921"
             ]
            ],
            "type": "contour"
           }
          ],
          "contourcarpet": [
           {
            "colorbar": {
             "outlinewidth": 0,
             "ticks": ""
            },
            "type": "contourcarpet"
           }
          ],
          "heatmap": [
           {
            "colorbar": {
             "outlinewidth": 0,
             "ticks": ""
            },
            "colorscale": [
             [
              0,
              "#0d0887"
             ],
             [
              0.1111111111111111,
              "#46039f"
             ],
             [
              0.2222222222222222,
              "#7201a8"
             ],
             [
              0.3333333333333333,
              "#9c179e"
             ],
             [
              0.4444444444444444,
              "#bd3786"
             ],
             [
              0.5555555555555556,
              "#d8576b"
             ],
             [
              0.6666666666666666,
              "#ed7953"
             ],
             [
              0.7777777777777778,
              "#fb9f3a"
             ],
             [
              0.8888888888888888,
              "#fdca26"
             ],
             [
              1,
              "#f0f921"
             ]
            ],
            "type": "heatmap"
           }
          ],
          "heatmapgl": [
           {
            "colorbar": {
             "outlinewidth": 0,
             "ticks": ""
            },
            "colorscale": [
             [
              0,
              "#0d0887"
             ],
             [
              0.1111111111111111,
              "#46039f"
             ],
             [
              0.2222222222222222,
              "#7201a8"
             ],
             [
              0.3333333333333333,
              "#9c179e"
             ],
             [
              0.4444444444444444,
              "#bd3786"
             ],
             [
              0.5555555555555556,
              "#d8576b"
             ],
             [
              0.6666666666666666,
              "#ed7953"
             ],
             [
              0.7777777777777778,
              "#fb9f3a"
             ],
             [
              0.8888888888888888,
              "#fdca26"
             ],
             [
              1,
              "#f0f921"
             ]
            ],
            "type": "heatmapgl"
           }
          ],
          "histogram": [
           {
            "marker": {
             "pattern": {
              "fillmode": "overlay",
              "size": 10,
              "solidity": 0.2
             }
            },
            "type": "histogram"
           }
          ],
          "histogram2d": [
           {
            "colorbar": {
             "outlinewidth": 0,
             "ticks": ""
            },
            "colorscale": [
             [
              0,
              "#0d0887"
             ],
             [
              0.1111111111111111,
              "#46039f"
             ],
             [
              0.2222222222222222,
              "#7201a8"
             ],
             [
              0.3333333333333333,
              "#9c179e"
             ],
             [
              0.4444444444444444,
              "#bd3786"
             ],
             [
              0.5555555555555556,
              "#d8576b"
             ],
             [
              0.6666666666666666,
              "#ed7953"
             ],
             [
              0.7777777777777778,
              "#fb9f3a"
             ],
             [
              0.8888888888888888,
              "#fdca26"
             ],
             [
              1,
              "#f0f921"
             ]
            ],
            "type": "histogram2d"
           }
          ],
          "histogram2dcontour": [
           {
            "colorbar": {
             "outlinewidth": 0,
             "ticks": ""
            },
            "colorscale": [
             [
              0,
              "#0d0887"
             ],
             [
              0.1111111111111111,
              "#46039f"
             ],
             [
              0.2222222222222222,
              "#7201a8"
             ],
             [
              0.3333333333333333,
              "#9c179e"
             ],
             [
              0.4444444444444444,
              "#bd3786"
             ],
             [
              0.5555555555555556,
              "#d8576b"
             ],
             [
              0.6666666666666666,
              "#ed7953"
             ],
             [
              0.7777777777777778,
              "#fb9f3a"
             ],
             [
              0.8888888888888888,
              "#fdca26"
             ],
             [
              1,
              "#f0f921"
             ]
            ],
            "type": "histogram2dcontour"
           }
          ],
          "mesh3d": [
           {
            "colorbar": {
             "outlinewidth": 0,
             "ticks": ""
            },
            "type": "mesh3d"
           }
          ],
          "parcoords": [
           {
            "line": {
             "colorbar": {
              "outlinewidth": 0,
              "ticks": ""
             }
            },
            "type": "parcoords"
           }
          ],
          "pie": [
           {
            "automargin": true,
            "type": "pie"
           }
          ],
          "scatter": [
           {
            "marker": {
             "colorbar": {
              "outlinewidth": 0,
              "ticks": ""
             }
            },
            "type": "scatter"
           }
          ],
          "scatter3d": [
           {
            "line": {
             "colorbar": {
              "outlinewidth": 0,
              "ticks": ""
             }
            },
            "marker": {
             "colorbar": {
              "outlinewidth": 0,
              "ticks": ""
             }
            },
            "type": "scatter3d"
           }
          ],
          "scattercarpet": [
           {
            "marker": {
             "colorbar": {
              "outlinewidth": 0,
              "ticks": ""
             }
            },
            "type": "scattercarpet"
           }
          ],
          "scattergeo": [
           {
            "marker": {
             "colorbar": {
              "outlinewidth": 0,
              "ticks": ""
             }
            },
            "type": "scattergeo"
           }
          ],
          "scattergl": [
           {
            "marker": {
             "colorbar": {
              "outlinewidth": 0,
              "ticks": ""
             }
            },
            "type": "scattergl"
           }
          ],
          "scattermapbox": [
           {
            "marker": {
             "colorbar": {
              "outlinewidth": 0,
              "ticks": ""
             }
            },
            "type": "scattermapbox"
           }
          ],
          "scatterpolar": [
           {
            "marker": {
             "colorbar": {
              "outlinewidth": 0,
              "ticks": ""
             }
            },
            "type": "scatterpolar"
           }
          ],
          "scatterpolargl": [
           {
            "marker": {
             "colorbar": {
              "outlinewidth": 0,
              "ticks": ""
             }
            },
            "type": "scatterpolargl"
           }
          ],
          "scatterternary": [
           {
            "marker": {
             "colorbar": {
              "outlinewidth": 0,
              "ticks": ""
             }
            },
            "type": "scatterternary"
           }
          ],
          "surface": [
           {
            "colorbar": {
             "outlinewidth": 0,
             "ticks": ""
            },
            "colorscale": [
             [
              0,
              "#0d0887"
             ],
             [
              0.1111111111111111,
              "#46039f"
             ],
             [
              0.2222222222222222,
              "#7201a8"
             ],
             [
              0.3333333333333333,
              "#9c179e"
             ],
             [
              0.4444444444444444,
              "#bd3786"
             ],
             [
              0.5555555555555556,
              "#d8576b"
             ],
             [
              0.6666666666666666,
              "#ed7953"
             ],
             [
              0.7777777777777778,
              "#fb9f3a"
             ],
             [
              0.8888888888888888,
              "#fdca26"
             ],
             [
              1,
              "#f0f921"
             ]
            ],
            "type": "surface"
           }
          ],
          "table": [
           {
            "cells": {
             "fill": {
              "color": "#EBF0F8"
             },
             "line": {
              "color": "white"
             }
            },
            "header": {
             "fill": {
              "color": "#C8D4E3"
             },
             "line": {
              "color": "white"
             }
            },
            "type": "table"
           }
          ]
         },
         "layout": {
          "annotationdefaults": {
           "arrowcolor": "#2a3f5f",
           "arrowhead": 0,
           "arrowwidth": 1
          },
          "autotypenumbers": "strict",
          "coloraxis": {
           "colorbar": {
            "outlinewidth": 0,
            "ticks": ""
           }
          },
          "colorscale": {
           "diverging": [
            [
             0,
             "#8e0152"
            ],
            [
             0.1,
             "#c51b7d"
            ],
            [
             0.2,
             "#de77ae"
            ],
            [
             0.3,
             "#f1b6da"
            ],
            [
             0.4,
             "#fde0ef"
            ],
            [
             0.5,
             "#f7f7f7"
            ],
            [
             0.6,
             "#e6f5d0"
            ],
            [
             0.7,
             "#b8e186"
            ],
            [
             0.8,
             "#7fbc41"
            ],
            [
             0.9,
             "#4d9221"
            ],
            [
             1,
             "#276419"
            ]
           ],
           "sequential": [
            [
             0,
             "#0d0887"
            ],
            [
             0.1111111111111111,
             "#46039f"
            ],
            [
             0.2222222222222222,
             "#7201a8"
            ],
            [
             0.3333333333333333,
             "#9c179e"
            ],
            [
             0.4444444444444444,
             "#bd3786"
            ],
            [
             0.5555555555555556,
             "#d8576b"
            ],
            [
             0.6666666666666666,
             "#ed7953"
            ],
            [
             0.7777777777777778,
             "#fb9f3a"
            ],
            [
             0.8888888888888888,
             "#fdca26"
            ],
            [
             1,
             "#f0f921"
            ]
           ],
           "sequentialminus": [
            [
             0,
             "#0d0887"
            ],
            [
             0.1111111111111111,
             "#46039f"
            ],
            [
             0.2222222222222222,
             "#7201a8"
            ],
            [
             0.3333333333333333,
             "#9c179e"
            ],
            [
             0.4444444444444444,
             "#bd3786"
            ],
            [
             0.5555555555555556,
             "#d8576b"
            ],
            [
             0.6666666666666666,
             "#ed7953"
            ],
            [
             0.7777777777777778,
             "#fb9f3a"
            ],
            [
             0.8888888888888888,
             "#fdca26"
            ],
            [
             1,
             "#f0f921"
            ]
           ]
          },
          "colorway": [
           "#636efa",
           "#EF553B",
           "#00cc96",
           "#ab63fa",
           "#FFA15A",
           "#19d3f3",
           "#FF6692",
           "#B6E880",
           "#FF97FF",
           "#FECB52"
          ],
          "font": {
           "color": "#2a3f5f"
          },
          "geo": {
           "bgcolor": "white",
           "lakecolor": "white",
           "landcolor": "#E5ECF6",
           "showlakes": true,
           "showland": true,
           "subunitcolor": "white"
          },
          "hoverlabel": {
           "align": "left"
          },
          "hovermode": "closest",
          "mapbox": {
           "style": "light"
          },
          "paper_bgcolor": "white",
          "plot_bgcolor": "#E5ECF6",
          "polar": {
           "angularaxis": {
            "gridcolor": "white",
            "linecolor": "white",
            "ticks": ""
           },
           "bgcolor": "#E5ECF6",
           "radialaxis": {
            "gridcolor": "white",
            "linecolor": "white",
            "ticks": ""
           }
          },
          "scene": {
           "xaxis": {
            "backgroundcolor": "#E5ECF6",
            "gridcolor": "white",
            "gridwidth": 2,
            "linecolor": "white",
            "showbackground": true,
            "ticks": "",
            "zerolinecolor": "white"
           },
           "yaxis": {
            "backgroundcolor": "#E5ECF6",
            "gridcolor": "white",
            "gridwidth": 2,
            "linecolor": "white",
            "showbackground": true,
            "ticks": "",
            "zerolinecolor": "white"
           },
           "zaxis": {
            "backgroundcolor": "#E5ECF6",
            "gridcolor": "white",
            "gridwidth": 2,
            "linecolor": "white",
            "showbackground": true,
            "ticks": "",
            "zerolinecolor": "white"
           }
          },
          "shapedefaults": {
           "line": {
            "color": "#2a3f5f"
           }
          },
          "ternary": {
           "aaxis": {
            "gridcolor": "white",
            "linecolor": "white",
            "ticks": ""
           },
           "baxis": {
            "gridcolor": "white",
            "linecolor": "white",
            "ticks": ""
           },
           "bgcolor": "#E5ECF6",
           "caxis": {
            "gridcolor": "white",
            "linecolor": "white",
            "ticks": ""
           }
          },
          "title": {
           "x": 0.05
          },
          "xaxis": {
           "automargin": true,
           "gridcolor": "white",
           "linecolor": "white",
           "ticks": "",
           "title": {
            "standoff": 15
           },
           "zerolinecolor": "white",
           "zerolinewidth": 2
          },
          "yaxis": {
           "automargin": true,
           "gridcolor": "white",
           "linecolor": "white",
           "ticks": "",
           "title": {
            "standoff": 15
           },
           "zerolinecolor": "white",
           "zerolinewidth": 2
          }
         }
        },
        "xaxis": {
         "anchor": "y",
         "domain": [
          0,
          1
         ],
         "title": {
          "text": "average rating"
         }
        },
        "yaxis": {
         "anchor": "x",
         "domain": [
          0,
          1
         ],
         "title": {
          "text": "count"
         }
        }
       }
      }
     },
     "metadata": {}
    }
   ],
   "source": [
    "px.histogram(ratings_per_user, x='average rating')"
   ]
  },
  {
   "cell_type": "code",
   "execution_count": 25,
   "metadata": {},
   "outputs": [],
   "source": [
    "cleaned_df.to_csv('The movies dataset/cleaned_dataset.csv')"
   ]
  },
  {
   "source": [
    "# Add Genre"
   ],
   "cell_type": "markdown",
   "metadata": {}
  },
  {
   "cell_type": "code",
   "execution_count": 26,
   "metadata": {},
   "outputs": [
    {
     "output_type": "execute_result",
     "data": {
      "text/plain": [
       "   movieId                               title  \\\n",
       "0        1                    Toy Story (1995)   \n",
       "1        2                      Jumanji (1995)   \n",
       "2        3             Grumpier Old Men (1995)   \n",
       "3        4            Waiting to Exhale (1995)   \n",
       "4        5  Father of the Bride Part II (1995)   \n",
       "\n",
       "                                        genres  \n",
       "0  Adventure|Animation|Children|Comedy|Fantasy  \n",
       "1                   Adventure|Children|Fantasy  \n",
       "2                               Comedy|Romance  \n",
       "3                         Comedy|Drama|Romance  \n",
       "4                                       Comedy  "
      ],
      "text/html": "<div>\n<style scoped>\n    .dataframe tbody tr th:only-of-type {\n        vertical-align: middle;\n    }\n\n    .dataframe tbody tr th {\n        vertical-align: top;\n    }\n\n    .dataframe thead th {\n        text-align: right;\n    }\n</style>\n<table border=\"1\" class=\"dataframe\">\n  <thead>\n    <tr style=\"text-align: right;\">\n      <th></th>\n      <th>movieId</th>\n      <th>title</th>\n      <th>genres</th>\n    </tr>\n  </thead>\n  <tbody>\n    <tr>\n      <th>0</th>\n      <td>1</td>\n      <td>Toy Story (1995)</td>\n      <td>Adventure|Animation|Children|Comedy|Fantasy</td>\n    </tr>\n    <tr>\n      <th>1</th>\n      <td>2</td>\n      <td>Jumanji (1995)</td>\n      <td>Adventure|Children|Fantasy</td>\n    </tr>\n    <tr>\n      <th>2</th>\n      <td>3</td>\n      <td>Grumpier Old Men (1995)</td>\n      <td>Comedy|Romance</td>\n    </tr>\n    <tr>\n      <th>3</th>\n      <td>4</td>\n      <td>Waiting to Exhale (1995)</td>\n      <td>Comedy|Drama|Romance</td>\n    </tr>\n    <tr>\n      <th>4</th>\n      <td>5</td>\n      <td>Father of the Bride Part II (1995)</td>\n      <td>Comedy</td>\n    </tr>\n  </tbody>\n</table>\n</div>"
     },
     "metadata": {},
     "execution_count": 26
    }
   ],
   "source": [
    "movies_meta = pd.read_csv(\"The movies dataset/ml-latest/movies.csv\")\n",
    "movies_meta.head()"
   ]
  },
  {
   "cell_type": "code",
   "execution_count": 27,
   "metadata": {},
   "outputs": [
    {
     "output_type": "execute_result",
     "data": {
      "text/plain": [
       "   userId  movieId  rating   timestamp  \\\n",
       "0       1       31     2.5  1260759144   \n",
       "1       1     1029     3.0  1260759179   \n",
       "2       1     1061     3.0  1260759182   \n",
       "3       1     1129     2.0  1260759185   \n",
       "4       1     1172     4.0  1260759205   \n",
       "\n",
       "                                            title  \\\n",
       "0                          Dangerous Minds (1995)   \n",
       "1                                    Dumbo (1941)   \n",
       "2                                 Sleepers (1996)   \n",
       "3                     Escape from New York (1981)   \n",
       "4  Cinema Paradiso (Nuovo cinema Paradiso) (1989)   \n",
       "\n",
       "                             genres  \n",
       "0                             Drama  \n",
       "1  Animation|Children|Drama|Musical  \n",
       "2                          Thriller  \n",
       "3  Action|Adventure|Sci-Fi|Thriller  \n",
       "4                             Drama  "
      ],
      "text/html": "<div>\n<style scoped>\n    .dataframe tbody tr th:only-of-type {\n        vertical-align: middle;\n    }\n\n    .dataframe tbody tr th {\n        vertical-align: top;\n    }\n\n    .dataframe thead th {\n        text-align: right;\n    }\n</style>\n<table border=\"1\" class=\"dataframe\">\n  <thead>\n    <tr style=\"text-align: right;\">\n      <th></th>\n      <th>userId</th>\n      <th>movieId</th>\n      <th>rating</th>\n      <th>timestamp</th>\n      <th>title</th>\n      <th>genres</th>\n    </tr>\n  </thead>\n  <tbody>\n    <tr>\n      <th>0</th>\n      <td>1</td>\n      <td>31</td>\n      <td>2.5</td>\n      <td>1260759144</td>\n      <td>Dangerous Minds (1995)</td>\n      <td>Drama</td>\n    </tr>\n    <tr>\n      <th>1</th>\n      <td>1</td>\n      <td>1029</td>\n      <td>3.0</td>\n      <td>1260759179</td>\n      <td>Dumbo (1941)</td>\n      <td>Animation|Children|Drama|Musical</td>\n    </tr>\n    <tr>\n      <th>2</th>\n      <td>1</td>\n      <td>1061</td>\n      <td>3.0</td>\n      <td>1260759182</td>\n      <td>Sleepers (1996)</td>\n      <td>Thriller</td>\n    </tr>\n    <tr>\n      <th>3</th>\n      <td>1</td>\n      <td>1129</td>\n      <td>2.0</td>\n      <td>1260759185</td>\n      <td>Escape from New York (1981)</td>\n      <td>Action|Adventure|Sci-Fi|Thriller</td>\n    </tr>\n    <tr>\n      <th>4</th>\n      <td>1</td>\n      <td>1172</td>\n      <td>4.0</td>\n      <td>1260759205</td>\n      <td>Cinema Paradiso (Nuovo cinema Paradiso) (1989)</td>\n      <td>Drama</td>\n    </tr>\n  </tbody>\n</table>\n</div>"
     },
     "metadata": {},
     "execution_count": 27
    }
   ],
   "source": [
    "ratings_with_name = pd.merge(cleaned_df, movies_meta, how='left', on='movieId')\n",
    "ratings_with_name.head()"
   ]
  },
  {
   "cell_type": "code",
   "execution_count": 28,
   "metadata": {},
   "outputs": [
    {
     "output_type": "execute_result",
     "data": {
      "text/plain": [
       "userId  movieId  rating  timestamp  title  genres\n",
       "False   False    False   False      False  False     81485\n",
       "                                    True   True         37\n",
       "dtype: int64"
      ]
     },
     "metadata": {},
     "execution_count": 28
    }
   ],
   "source": [
    "# use link dataset to get the proper movie ID\n",
    "# OneHotEncoding the genres\n",
    "\n",
    "ratings_with_name.isnull().value_counts()"
   ]
  },
  {
   "cell_type": "code",
   "execution_count": 29,
   "metadata": {},
   "outputs": [
    {
     "output_type": "execute_result",
     "data": {
      "text/plain": [
       "(81522, 6)"
      ]
     },
     "metadata": {},
     "execution_count": 29
    }
   ],
   "source": [
    "ratings_with_name.shape"
   ]
  },
  {
   "source": [
    "## Check and remove duplicates"
   ],
   "cell_type": "markdown",
   "metadata": {}
  },
  {
   "cell_type": "code",
   "execution_count": 35,
   "metadata": {},
   "outputs": [],
   "source": [
    "duplicates = movies_meta[movies_meta.duplicated(subset=['title'],keep=False)].sort_values('title')\n",
    "# duplicates_unique = movies_meta[movies_meta.duplicated(subset=['title'], keep='first')].sort_values('title')\n",
    "duplicates_unique = duplicates.drop_duplicates(subset=['title'])\n",
    "duplicates_title = duplicates['title'].unique()\n",
    "ratings_with_name_backup = ratings_with_name.copy(deep=True)"
   ]
  },
  {
   "cell_type": "code",
   "execution_count": 48,
   "metadata": {
    "tags": [
     "outputPrepend"
    ]
   },
   "outputs": [
    {
     "output_type": "stream",
     "name": "stderr",
     "text": [
      "hCopyWarning:\n",
      "\n",
      "\n",
      "A value is trying to be set on a copy of a slice from a DataFrame.\n",
      "Try using .loc[row_indexer,col_indexer] = value instead\n",
      "\n",
      "See the caveats in the documentation: https://pandas.pydata.org/pandas-docs/stable/user_guide/indexing.html#returning-a-view-versus-a-copy\n",
      "\n",
      "<ipython-input-48-a4a294fb4db4>:2: FutureWarning:\n",
      "\n",
      "Automatic reindexing on DataFrame vs Series comparisons is deprecated and will raise ValueError in a future version.  Do `left, right = left.align(right, axis=1, copy=False)` before e.g. `left == right`\n",
      "\n",
      "<ipython-input-48-a4a294fb4db4>:2: SettingWithCopyWarning:\n",
      "\n",
      "\n",
      "A value is trying to be set on a copy of a slice from a DataFrame.\n",
      "Try using .loc[row_indexer,col_indexer] = value instead\n",
      "\n",
      "See the caveats in the documentation: https://pandas.pydata.org/pandas-docs/stable/user_guide/indexing.html#returning-a-view-versus-a-copy\n",
      "\n",
      "<ipython-input-48-a4a294fb4db4>:2: FutureWarning:\n",
      "\n",
      "Automatic reindexing on DataFrame vs Series comparisons is deprecated and will raise ValueError in a future version.  Do `left, right = left.align(right, axis=1, copy=False)` before e.g. `left == right`\n",
      "\n",
      "<ipython-input-48-a4a294fb4db4>:2: SettingWithCopyWarning:\n",
      "\n",
      "\n",
      "A value is trying to be set on a copy of a slice from a DataFrame.\n",
      "Try using .loc[row_indexer,col_indexer] = value instead\n",
      "\n",
      "See the caveats in the documentation: https://pandas.pydata.org/pandas-docs/stable/user_guide/indexing.html#returning-a-view-versus-a-copy\n",
      "\n",
      "<ipython-input-48-a4a294fb4db4>:2: FutureWarning:\n",
      "\n",
      "Automatic reindexing on DataFrame vs Series comparisons is deprecated and will raise ValueError in a future version.  Do `left, right = left.align(right, axis=1, copy=False)` before e.g. `left == right`\n",
      "\n",
      "<ipython-input-48-a4a294fb4db4>:2: SettingWithCopyWarning:\n",
      "\n",
      "\n",
      "A value is trying to be set on a copy of a slice from a DataFrame.\n",
      "Try using .loc[row_indexer,col_indexer] = value instead\n",
      "\n",
      "See the caveats in the documentation: https://pandas.pydata.org/pandas-docs/stable/user_guide/indexing.html#returning-a-view-versus-a-copy\n",
      "\n",
      "<ipython-input-48-a4a294fb4db4>:2: FutureWarning:\n",
      "\n",
      "Automatic reindexing on DataFrame vs Series comparisons is deprecated and will raise ValueError in a future version.  Do `left, right = left.align(right, axis=1, copy=False)` before e.g. `left == right`\n",
      "\n",
      "<ipython-input-48-a4a294fb4db4>:2: SettingWithCopyWarning:\n",
      "\n",
      "\n",
      "A value is trying to be set on a copy of a slice from a DataFrame.\n",
      "Try using .loc[row_indexer,col_indexer] = value instead\n",
      "\n",
      "See the caveats in the documentation: https://pandas.pydata.org/pandas-docs/stable/user_guide/indexing.html#returning-a-view-versus-a-copy\n",
      "\n",
      "<ipython-input-48-a4a294fb4db4>:2: FutureWarning:\n",
      "\n",
      "Automatic reindexing on DataFrame vs Series comparisons is deprecated and will raise ValueError in a future version.  Do `left, right = left.align(right, axis=1, copy=False)` before e.g. `left == right`\n",
      "\n",
      "<ipython-input-48-a4a294fb4db4>:2: SettingWithCopyWarning:\n",
      "\n",
      "\n",
      "A value is trying to be set on a copy of a slice from a DataFrame.\n",
      "Try using .loc[row_indexer,col_indexer] = value instead\n",
      "\n",
      "See the caveats in the documentation: https://pandas.pydata.org/pandas-docs/stable/user_guide/indexing.html#returning-a-view-versus-a-copy\n",
      "\n",
      "<ipython-input-48-a4a294fb4db4>:2: FutureWarning:\n",
      "\n",
      "Automatic reindexing on DataFrame vs Series comparisons is deprecated and will raise ValueError in a future version.  Do `left, right = left.align(right, axis=1, copy=False)` before e.g. `left == right`\n",
      "\n",
      "<ipython-input-48-a4a294fb4db4>:2: SettingWithCopyWarning:\n",
      "\n",
      "\n",
      "A value is trying to be set on a copy of a slice from a DataFrame.\n",
      "Try using .loc[row_indexer,col_indexer] = value instead\n",
      "\n",
      "See the caveats in the documentation: https://pandas.pydata.org/pandas-docs/stable/user_guide/indexing.html#returning-a-view-versus-a-copy\n",
      "\n",
      "<ipython-input-48-a4a294fb4db4>:2: FutureWarning:\n",
      "\n",
      "Automatic reindexing on DataFrame vs Series comparisons is deprecated and will raise ValueError in a future version.  Do `left, right = left.align(right, axis=1, copy=False)` before e.g. `left == right`\n",
      "\n",
      "<ipython-input-48-a4a294fb4db4>:2: SettingWithCopyWarning:\n",
      "\n",
      "\n",
      "A value is trying to be set on a copy of a slice from a DataFrame.\n",
      "Try using .loc[row_indexer,col_indexer] = value instead\n",
      "\n",
      "See the caveats in the documentation: https://pandas.pydata.org/pandas-docs/stable/user_guide/indexing.html#returning-a-view-versus-a-copy\n",
      "\n",
      "<ipython-input-48-a4a294fb4db4>:2: FutureWarning:\n",
      "\n",
      "Automatic reindexing on DataFrame vs Series comparisons is deprecated and will raise ValueError in a future version.  Do `left, right = left.align(right, axis=1, copy=False)` before e.g. `left == right`\n",
      "\n",
      "<ipython-input-48-a4a294fb4db4>:2: SettingWithCopyWarning:\n",
      "\n",
      "\n",
      "A value is trying to be set on a copy of a slice from a DataFrame.\n",
      "Try using .loc[row_indexer,col_indexer] = value instead\n",
      "\n",
      "See the caveats in the documentation: https://pandas.pydata.org/pandas-docs/stable/user_guide/indexing.html#returning-a-view-versus-a-copy\n",
      "\n",
      "<ipython-input-48-a4a294fb4db4>:2: FutureWarning:\n",
      "\n",
      "Automatic reindexing on DataFrame vs Series comparisons is deprecated and will raise ValueError in a future version.  Do `left, right = left.align(right, axis=1, copy=False)` before e.g. `left == right`\n",
      "\n",
      "<ipython-input-48-a4a294fb4db4>:2: SettingWithCopyWarning:\n",
      "\n",
      "\n",
      "A value is trying to be set on a copy of a slice from a DataFrame.\n",
      "Try using .loc[row_indexer,col_indexer] = value instead\n",
      "\n",
      "See the caveats in the documentation: https://pandas.pydata.org/pandas-docs/stable/user_guide/indexing.html#returning-a-view-versus-a-copy\n",
      "\n",
      "<ipython-input-48-a4a294fb4db4>:2: FutureWarning:\n",
      "\n",
      "Automatic reindexing on DataFrame vs Series comparisons is deprecated and will raise ValueError in a future version.  Do `left, right = left.align(right, axis=1, copy=False)` before e.g. `left == right`\n",
      "\n",
      "<ipython-input-48-a4a294fb4db4>:2: SettingWithCopyWarning:\n",
      "\n",
      "\n",
      "A value is trying to be set on a copy of a slice from a DataFrame.\n",
      "Try using .loc[row_indexer,col_indexer] = value instead\n",
      "\n",
      "See the caveats in the documentation: https://pandas.pydata.org/pandas-docs/stable/user_guide/indexing.html#returning-a-view-versus-a-copy\n",
      "\n",
      "<ipython-input-48-a4a294fb4db4>:2: FutureWarning:\n",
      "\n",
      "Automatic reindexing on DataFrame vs Series comparisons is deprecated and will raise ValueError in a future version.  Do `left, right = left.align(right, axis=1, copy=False)` before e.g. `left == right`\n",
      "\n",
      "<ipython-input-48-a4a294fb4db4>:2: SettingWithCopyWarning:\n",
      "\n",
      "\n",
      "A value is trying to be set on a copy of a slice from a DataFrame.\n",
      "Try using .loc[row_indexer,col_indexer] = value instead\n",
      "\n",
      "See the caveats in the documentation: https://pandas.pydata.org/pandas-docs/stable/user_guide/indexing.html#returning-a-view-versus-a-copy\n",
      "\n",
      "<ipython-input-48-a4a294fb4db4>:2: FutureWarning:\n",
      "\n",
      "Automatic reindexing on DataFrame vs Series comparisons is deprecated and will raise ValueError in a future version.  Do `left, right = left.align(right, axis=1, copy=False)` before e.g. `left == right`\n",
      "\n",
      "<ipython-input-48-a4a294fb4db4>:2: SettingWithCopyWarning:\n",
      "\n",
      "\n",
      "A value is trying to be set on a copy of a slice from a DataFrame.\n",
      "Try using .loc[row_indexer,col_indexer] = value instead\n",
      "\n",
      "See the caveats in the documentation: https://pandas.pydata.org/pandas-docs/stable/user_guide/indexing.html#returning-a-view-versus-a-copy\n",
      "\n",
      "<ipython-input-48-a4a294fb4db4>:2: FutureWarning:\n",
      "\n",
      "Automatic reindexing on DataFrame vs Series comparisons is deprecated and will raise ValueError in a future version.  Do `left, right = left.align(right, axis=1, copy=False)` before e.g. `left == right`\n",
      "\n",
      "<ipython-input-48-a4a294fb4db4>:2: SettingWithCopyWarning:\n",
      "\n",
      "\n",
      "A value is trying to be set on a copy of a slice from a DataFrame.\n",
      "Try using .loc[row_indexer,col_indexer] = value instead\n",
      "\n",
      "See the caveats in the documentation: https://pandas.pydata.org/pandas-docs/stable/user_guide/indexing.html#returning-a-view-versus-a-copy\n",
      "\n",
      "<ipython-input-48-a4a294fb4db4>:2: FutureWarning:\n",
      "\n",
      "Automatic reindexing on DataFrame vs Series comparisons is deprecated and will raise ValueError in a future version.  Do `left, right = left.align(right, axis=1, copy=False)` before e.g. `left == right`\n",
      "\n",
      "<ipython-input-48-a4a294fb4db4>:2: SettingWithCopyWarning:\n",
      "\n",
      "\n",
      "A value is trying to be set on a copy of a slice from a DataFrame.\n",
      "Try using .loc[row_indexer,col_indexer] = value instead\n",
      "\n",
      "See the caveats in the documentation: https://pandas.pydata.org/pandas-docs/stable/user_guide/indexing.html#returning-a-view-versus-a-copy\n",
      "\n",
      "<ipython-input-48-a4a294fb4db4>:2: FutureWarning:\n",
      "\n",
      "Automatic reindexing on DataFrame vs Series comparisons is deprecated and will raise ValueError in a future version.  Do `left, right = left.align(right, axis=1, copy=False)` before e.g. `left == right`\n",
      "\n",
      "<ipython-input-48-a4a294fb4db4>:2: SettingWithCopyWarning:\n",
      "\n",
      "\n",
      "A value is trying to be set on a copy of a slice from a DataFrame.\n",
      "Try using .loc[row_indexer,col_indexer] = value instead\n",
      "\n",
      "See the caveats in the documentation: https://pandas.pydata.org/pandas-docs/stable/user_guide/indexing.html#returning-a-view-versus-a-copy\n",
      "\n",
      "<ipython-input-48-a4a294fb4db4>:2: FutureWarning:\n",
      "\n",
      "Automatic reindexing on DataFrame vs Series comparisons is deprecated and will raise ValueError in a future version.  Do `left, right = left.align(right, axis=1, copy=False)` before e.g. `left == right`\n",
      "\n",
      "<ipython-input-48-a4a294fb4db4>:2: SettingWithCopyWarning:\n",
      "\n",
      "\n",
      "A value is trying to be set on a copy of a slice from a DataFrame.\n",
      "Try using .loc[row_indexer,col_indexer] = value instead\n",
      "\n",
      "See the caveats in the documentation: https://pandas.pydata.org/pandas-docs/stable/user_guide/indexing.html#returning-a-view-versus-a-copy\n",
      "\n",
      "<ipython-input-48-a4a294fb4db4>:2: FutureWarning:\n",
      "\n",
      "Automatic reindexing on DataFrame vs Series comparisons is deprecated and will raise ValueError in a future version.  Do `left, right = left.align(right, axis=1, copy=False)` before e.g. `left == right`\n",
      "\n",
      "<ipython-input-48-a4a294fb4db4>:2: SettingWithCopyWarning:\n",
      "\n",
      "\n",
      "A value is trying to be set on a copy of a slice from a DataFrame.\n",
      "Try using .loc[row_indexer,col_indexer] = value instead\n",
      "\n",
      "See the caveats in the documentation: https://pandas.pydata.org/pandas-docs/stable/user_guide/indexing.html#returning-a-view-versus-a-copy\n",
      "\n",
      "<ipython-input-48-a4a294fb4db4>:2: FutureWarning:\n",
      "\n",
      "Automatic reindexing on DataFrame vs Series comparisons is deprecated and will raise ValueError in a future version.  Do `left, right = left.align(right, axis=1, copy=False)` before e.g. `left == right`\n",
      "\n",
      "<ipython-input-48-a4a294fb4db4>:2: SettingWithCopyWarning:\n",
      "\n",
      "\n",
      "A value is trying to be set on a copy of a slice from a DataFrame.\n",
      "Try using .loc[row_indexer,col_indexer] = value instead\n",
      "\n",
      "See the caveats in the documentation: https://pandas.pydata.org/pandas-docs/stable/user_guide/indexing.html#returning-a-view-versus-a-copy\n",
      "\n",
      "<ipython-input-48-a4a294fb4db4>:2: FutureWarning:\n",
      "\n",
      "Automatic reindexing on DataFrame vs Series comparisons is deprecated and will raise ValueError in a future version.  Do `left, right = left.align(right, axis=1, copy=False)` before e.g. `left == right`\n",
      "\n",
      "<ipython-input-48-a4a294fb4db4>:2: SettingWithCopyWarning:\n",
      "\n",
      "\n",
      "A value is trying to be set on a copy of a slice from a DataFrame.\n",
      "Try using .loc[row_indexer,col_indexer] = value instead\n",
      "\n",
      "See the caveats in the documentation: https://pandas.pydata.org/pandas-docs/stable/user_guide/indexing.html#returning-a-view-versus-a-copy\n",
      "\n",
      "<ipython-input-48-a4a294fb4db4>:2: FutureWarning:\n",
      "\n",
      "Automatic reindexing on DataFrame vs Series comparisons is deprecated and will raise ValueError in a future version.  Do `left, right = left.align(right, axis=1, copy=False)` before e.g. `left == right`\n",
      "\n",
      "<ipython-input-48-a4a294fb4db4>:2: SettingWithCopyWarning:\n",
      "\n",
      "\n",
      "A value is trying to be set on a copy of a slice from a DataFrame.\n",
      "Try using .loc[row_indexer,col_indexer] = value instead\n",
      "\n",
      "See the caveats in the documentation: https://pandas.pydata.org/pandas-docs/stable/user_guide/indexing.html#returning-a-view-versus-a-copy\n",
      "\n",
      "<ipython-input-48-a4a294fb4db4>:2: FutureWarning:\n",
      "\n",
      "Automatic reindexing on DataFrame vs Series comparisons is deprecated and will raise ValueError in a future version.  Do `left, right = left.align(right, axis=1, copy=False)` before e.g. `left == right`\n",
      "\n",
      "<ipython-input-48-a4a294fb4db4>:2: SettingWithCopyWarning:\n",
      "\n",
      "\n",
      "A value is trying to be set on a copy of a slice from a DataFrame.\n",
      "Try using .loc[row_indexer,col_indexer] = value instead\n",
      "\n",
      "See the caveats in the documentation: https://pandas.pydata.org/pandas-docs/stable/user_guide/indexing.html#returning-a-view-versus-a-copy\n",
      "\n",
      "<ipython-input-48-a4a294fb4db4>:2: FutureWarning:\n",
      "\n",
      "Automatic reindexing on DataFrame vs Series comparisons is deprecated and will raise ValueError in a future version.  Do `left, right = left.align(right, axis=1, copy=False)` before e.g. `left == right`\n",
      "\n",
      "<ipython-input-48-a4a294fb4db4>:2: SettingWithCopyWarning:\n",
      "\n",
      "\n",
      "A value is trying to be set on a copy of a slice from a DataFrame.\n",
      "Try using .loc[row_indexer,col_indexer] = value instead\n",
      "\n",
      "See the caveats in the documentation: https://pandas.pydata.org/pandas-docs/stable/user_guide/indexing.html#returning-a-view-versus-a-copy\n",
      "\n",
      "<ipython-input-48-a4a294fb4db4>:2: FutureWarning:\n",
      "\n",
      "Automatic reindexing on DataFrame vs Series comparisons is deprecated and will raise ValueError in a future version.  Do `left, right = left.align(right, axis=1, copy=False)` before e.g. `left == right`\n",
      "\n",
      "<ipython-input-48-a4a294fb4db4>:2: SettingWithCopyWarning:\n",
      "\n",
      "\n",
      "A value is trying to be set on a copy of a slice from a DataFrame.\n",
      "Try using .loc[row_indexer,col_indexer] = value instead\n",
      "\n",
      "See the caveats in the documentation: https://pandas.pydata.org/pandas-docs/stable/user_guide/indexing.html#returning-a-view-versus-a-copy\n",
      "\n",
      "<ipython-input-48-a4a294fb4db4>:2: FutureWarning:\n",
      "\n",
      "Automatic reindexing on DataFrame vs Series comparisons is deprecated and will raise ValueError in a future version.  Do `left, right = left.align(right, axis=1, copy=False)` before e.g. `left == right`\n",
      "\n",
      "<ipython-input-48-a4a294fb4db4>:2: SettingWithCopyWarning:\n",
      "\n",
      "\n",
      "A value is trying to be set on a copy of a slice from a DataFrame.\n",
      "Try using .loc[row_indexer,col_indexer] = value instead\n",
      "\n",
      "See the caveats in the documentation: https://pandas.pydata.org/pandas-docs/stable/user_guide/indexing.html#returning-a-view-versus-a-copy\n",
      "\n",
      "<ipython-input-48-a4a294fb4db4>:2: FutureWarning:\n",
      "\n",
      "Automatic reindexing on DataFrame vs Series comparisons is deprecated and will raise ValueError in a future version.  Do `left, right = left.align(right, axis=1, copy=False)` before e.g. `left == right`\n",
      "\n",
      "<ipython-input-48-a4a294fb4db4>:2: SettingWithCopyWarning:\n",
      "\n",
      "\n",
      "A value is trying to be set on a copy of a slice from a DataFrame.\n",
      "Try using .loc[row_indexer,col_indexer] = value instead\n",
      "\n",
      "See the caveats in the documentation: https://pandas.pydata.org/pandas-docs/stable/user_guide/indexing.html#returning-a-view-versus-a-copy\n",
      "\n",
      "<ipython-input-48-a4a294fb4db4>:2: FutureWarning:\n",
      "\n",
      "Automatic reindexing on DataFrame vs Series comparisons is deprecated and will raise ValueError in a future version.  Do `left, right = left.align(right, axis=1, copy=False)` before e.g. `left == right`\n",
      "\n",
      "<ipython-input-48-a4a294fb4db4>:2: SettingWithCopyWarning:\n",
      "\n",
      "\n",
      "A value is trying to be set on a copy of a slice from a DataFrame.\n",
      "Try using .loc[row_indexer,col_indexer] = value instead\n",
      "\n",
      "See the caveats in the documentation: https://pandas.pydata.org/pandas-docs/stable/user_guide/indexing.html#returning-a-view-versus-a-copy\n",
      "\n",
      "<ipython-input-48-a4a294fb4db4>:2: FutureWarning:\n",
      "\n",
      "Automatic reindexing on DataFrame vs Series comparisons is deprecated and will raise ValueError in a future version.  Do `left, right = left.align(right, axis=1, copy=False)` before e.g. `left == right`\n",
      "\n",
      "<ipython-input-48-a4a294fb4db4>:2: SettingWithCopyWarning:\n",
      "\n",
      "\n",
      "A value is trying to be set on a copy of a slice from a DataFrame.\n",
      "Try using .loc[row_indexer,col_indexer] = value instead\n",
      "\n",
      "See the caveats in the documentation: https://pandas.pydata.org/pandas-docs/stable/user_guide/indexing.html#returning-a-view-versus-a-copy\n",
      "\n",
      "<ipython-input-48-a4a294fb4db4>:2: FutureWarning:\n",
      "\n",
      "Automatic reindexing on DataFrame vs Series comparisons is deprecated and will raise ValueError in a future version.  Do `left, right = left.align(right, axis=1, copy=False)` before e.g. `left == right`\n",
      "\n",
      "<ipython-input-48-a4a294fb4db4>:2: SettingWithCopyWarning:\n",
      "\n",
      "\n",
      "A value is trying to be set on a copy of a slice from a DataFrame.\n",
      "Try using .loc[row_indexer,col_indexer] = value instead\n",
      "\n",
      "See the caveats in the documentation: https://pandas.pydata.org/pandas-docs/stable/user_guide/indexing.html#returning-a-view-versus-a-copy\n",
      "\n",
      "<ipython-input-48-a4a294fb4db4>:2: FutureWarning:\n",
      "\n",
      "Automatic reindexing on DataFrame vs Series comparisons is deprecated and will raise ValueError in a future version.  Do `left, right = left.align(right, axis=1, copy=False)` before e.g. `left == right`\n",
      "\n",
      "<ipython-input-48-a4a294fb4db4>:2: SettingWithCopyWarning:\n",
      "\n",
      "\n",
      "A value is trying to be set on a copy of a slice from a DataFrame.\n",
      "Try using .loc[row_indexer,col_indexer] = value instead\n",
      "\n",
      "See the caveats in the documentation: https://pandas.pydata.org/pandas-docs/stable/user_guide/indexing.html#returning-a-view-versus-a-copy\n",
      "\n",
      "<ipython-input-48-a4a294fb4db4>:2: FutureWarning:\n",
      "\n",
      "Automatic reindexing on DataFrame vs Series comparisons is deprecated and will raise ValueError in a future version.  Do `left, right = left.align(right, axis=1, copy=False)` before e.g. `left == right`\n",
      "\n",
      "<ipython-input-48-a4a294fb4db4>:2: SettingWithCopyWarning:\n",
      "\n",
      "\n",
      "A value is trying to be set on a copy of a slice from a DataFrame.\n",
      "Try using .loc[row_indexer,col_indexer] = value instead\n",
      "\n",
      "See the caveats in the documentation: https://pandas.pydata.org/pandas-docs/stable/user_guide/indexing.html#returning-a-view-versus-a-copy\n",
      "\n",
      "<ipython-input-48-a4a294fb4db4>:2: FutureWarning:\n",
      "\n",
      "Automatic reindexing on DataFrame vs Series comparisons is deprecated and will raise ValueError in a future version.  Do `left, right = left.align(right, axis=1, copy=False)` before e.g. `left == right`\n",
      "\n",
      "<ipython-input-48-a4a294fb4db4>:2: SettingWithCopyWarning:\n",
      "\n",
      "\n",
      "A value is trying to be set on a copy of a slice from a DataFrame.\n",
      "Try using .loc[row_indexer,col_indexer] = value instead\n",
      "\n",
      "See the caveats in the documentation: https://pandas.pydata.org/pandas-docs/stable/user_guide/indexing.html#returning-a-view-versus-a-copy\n",
      "\n",
      "<ipython-input-48-a4a294fb4db4>:2: FutureWarning:\n",
      "\n",
      "Automatic reindexing on DataFrame vs Series comparisons is deprecated and will raise ValueError in a future version.  Do `left, right = left.align(right, axis=1, copy=False)` before e.g. `left == right`\n",
      "\n",
      "<ipython-input-48-a4a294fb4db4>:2: SettingWithCopyWarning:\n",
      "\n",
      "\n",
      "A value is trying to be set on a copy of a slice from a DataFrame.\n",
      "Try using .loc[row_indexer,col_indexer] = value instead\n",
      "\n",
      "See the caveats in the documentation: https://pandas.pydata.org/pandas-docs/stable/user_guide/indexing.html#returning-a-view-versus-a-copy\n",
      "\n",
      "<ipython-input-48-a4a294fb4db4>:2: FutureWarning:\n",
      "\n",
      "Automatic reindexing on DataFrame vs Series comparisons is deprecated and will raise ValueError in a future version.  Do `left, right = left.align(right, axis=1, copy=False)` before e.g. `left == right`\n",
      "\n",
      "<ipython-input-48-a4a294fb4db4>:2: SettingWithCopyWarning:\n",
      "\n",
      "\n",
      "A value is trying to be set on a copy of a slice from a DataFrame.\n",
      "Try using .loc[row_indexer,col_indexer] = value instead\n",
      "\n",
      "See the caveats in the documentation: https://pandas.pydata.org/pandas-docs/stable/user_guide/indexing.html#returning-a-view-versus-a-copy\n",
      "\n",
      "<ipython-input-48-a4a294fb4db4>:2: FutureWarning:\n",
      "\n",
      "Automatic reindexing on DataFrame vs Series comparisons is deprecated and will raise ValueError in a future version.  Do `left, right = left.align(right, axis=1, copy=False)` before e.g. `left == right`\n",
      "\n",
      "<ipython-input-48-a4a294fb4db4>:2: SettingWithCopyWarning:\n",
      "\n",
      "\n",
      "A value is trying to be set on a copy of a slice from a DataFrame.\n",
      "Try using .loc[row_indexer,col_indexer] = value instead\n",
      "\n",
      "See the caveats in the documentation: https://pandas.pydata.org/pandas-docs/stable/user_guide/indexing.html#returning-a-view-versus-a-copy\n",
      "\n"
     ]
    }
   ],
   "source": [
    "for title in duplicates_title:\n",
    "    ratings_with_name[ratings_with_name['title']==title]['movieId'] = duplicates_unique[duplicates_unique['title'] == ratings_with_name[ratings_with_name['title']==title]]['movieId']"
   ]
  },
  {
   "source": [
    "## Process Genres (OneHotEncoding)"
   ],
   "cell_type": "markdown",
   "metadata": {}
  },
  {
   "cell_type": "code",
   "execution_count": 30,
   "metadata": {},
   "outputs": [],
   "source": [
    "genre = ratings_with_name['genres'].unique()"
   ]
  },
  {
   "cell_type": "code",
   "execution_count": 31,
   "metadata": {},
   "outputs": [
    {
     "output_type": "stream",
     "name": "stdout",
     "text": [
      "['Drama', 'Animation', 'Children', 'Musical', 'Thriller', 'Action', 'Adventure', 'Sci-Fi', 'War', 'Fantasy', 'Horror', 'Romance', 'Comedy', 'Crime', 'Western', 'Mystery', 'IMAX', 'Documentary', 'Film-Noir', '(no genres listed)']\n"
     ]
    }
   ],
   "source": [
    "import numpy as np\n",
    "genre_list = []\n",
    "for g in genre:\n",
    "    if isinstance(g, str):\n",
    "        list_g = g.split('|')\n",
    "        for s in list_g:\n",
    "            if s not in genre_list:\n",
    "                genre_list.append(s)\n",
    "\n",
    "print(genre_list)"
   ]
  },
  {
   "cell_type": "code",
   "execution_count": 50,
   "metadata": {},
   "outputs": [],
   "source": [
    "for genre in genre_list:\n",
    "    ratings_with_name[genre] = ratings_with_name.apply(lambda x: genre in str(x['genres']), axis=1)"
   ]
  },
  {
   "cell_type": "code",
   "execution_count": 51,
   "metadata": {},
   "outputs": [
    {
     "output_type": "execute_result",
     "data": {
      "text/plain": [
       "   userId  movieId  rating   timestamp  \\\n",
       "0       1       31     2.5  1260759144   \n",
       "1       1     1029     3.0  1260759179   \n",
       "2       1     1061     3.0  1260759182   \n",
       "3       1     1129     2.0  1260759185   \n",
       "4       1     1172     4.0  1260759205   \n",
       "5       1     1263     2.0  1260759151   \n",
       "\n",
       "                                            title  \\\n",
       "0                          Dangerous Minds (1995)   \n",
       "1                                    Dumbo (1941)   \n",
       "2                                 Sleepers (1996)   \n",
       "3                     Escape from New York (1981)   \n",
       "4  Cinema Paradiso (Nuovo cinema Paradiso) (1989)   \n",
       "5                         Deer Hunter, The (1978)   \n",
       "\n",
       "                             genres  Drama  Animation  Children  Musical  ...  \\\n",
       "0                             Drama   True      False     False    False  ...   \n",
       "1  Animation|Children|Drama|Musical   True       True      True     True  ...   \n",
       "2                          Thriller  False      False     False    False  ...   \n",
       "3  Action|Adventure|Sci-Fi|Thriller  False      False     False    False  ...   \n",
       "4                             Drama   True      False     False    False  ...   \n",
       "5                         Drama|War   True      False     False    False  ...   \n",
       "\n",
       "   Horror  Romance  Comedy  Crime  Western  Mystery   IMAX  Documentary  \\\n",
       "0   False    False   False  False    False    False  False        False   \n",
       "1   False    False   False  False    False    False  False        False   \n",
       "2   False    False   False  False    False    False  False        False   \n",
       "3   False    False   False  False    False    False  False        False   \n",
       "4   False    False   False  False    False    False  False        False   \n",
       "5   False    False   False  False    False    False  False        False   \n",
       "\n",
       "   Film-Noir  (no genres listed)  \n",
       "0      False               False  \n",
       "1      False               False  \n",
       "2      False               False  \n",
       "3      False               False  \n",
       "4      False               False  \n",
       "5      False               False  \n",
       "\n",
       "[6 rows x 26 columns]"
      ],
      "text/html": "<div>\n<style scoped>\n    .dataframe tbody tr th:only-of-type {\n        vertical-align: middle;\n    }\n\n    .dataframe tbody tr th {\n        vertical-align: top;\n    }\n\n    .dataframe thead th {\n        text-align: right;\n    }\n</style>\n<table border=\"1\" class=\"dataframe\">\n  <thead>\n    <tr style=\"text-align: right;\">\n      <th></th>\n      <th>userId</th>\n      <th>movieId</th>\n      <th>rating</th>\n      <th>timestamp</th>\n      <th>title</th>\n      <th>genres</th>\n      <th>Drama</th>\n      <th>Animation</th>\n      <th>Children</th>\n      <th>Musical</th>\n      <th>...</th>\n      <th>Horror</th>\n      <th>Romance</th>\n      <th>Comedy</th>\n      <th>Crime</th>\n      <th>Western</th>\n      <th>Mystery</th>\n      <th>IMAX</th>\n      <th>Documentary</th>\n      <th>Film-Noir</th>\n      <th>(no genres listed)</th>\n    </tr>\n  </thead>\n  <tbody>\n    <tr>\n      <th>0</th>\n      <td>1</td>\n      <td>31</td>\n      <td>2.5</td>\n      <td>1260759144</td>\n      <td>Dangerous Minds (1995)</td>\n      <td>Drama</td>\n      <td>True</td>\n      <td>False</td>\n      <td>False</td>\n      <td>False</td>\n      <td>...</td>\n      <td>False</td>\n      <td>False</td>\n      <td>False</td>\n      <td>False</td>\n      <td>False</td>\n      <td>False</td>\n      <td>False</td>\n      <td>False</td>\n      <td>False</td>\n      <td>False</td>\n    </tr>\n    <tr>\n      <th>1</th>\n      <td>1</td>\n      <td>1029</td>\n      <td>3.0</td>\n      <td>1260759179</td>\n      <td>Dumbo (1941)</td>\n      <td>Animation|Children|Drama|Musical</td>\n      <td>True</td>\n      <td>True</td>\n      <td>True</td>\n      <td>True</td>\n      <td>...</td>\n      <td>False</td>\n      <td>False</td>\n      <td>False</td>\n      <td>False</td>\n      <td>False</td>\n      <td>False</td>\n      <td>False</td>\n      <td>False</td>\n      <td>False</td>\n      <td>False</td>\n    </tr>\n    <tr>\n      <th>2</th>\n      <td>1</td>\n      <td>1061</td>\n      <td>3.0</td>\n      <td>1260759182</td>\n      <td>Sleepers (1996)</td>\n      <td>Thriller</td>\n      <td>False</td>\n      <td>False</td>\n      <td>False</td>\n      <td>False</td>\n      <td>...</td>\n      <td>False</td>\n      <td>False</td>\n      <td>False</td>\n      <td>False</td>\n      <td>False</td>\n      <td>False</td>\n      <td>False</td>\n      <td>False</td>\n      <td>False</td>\n      <td>False</td>\n    </tr>\n    <tr>\n      <th>3</th>\n      <td>1</td>\n      <td>1129</td>\n      <td>2.0</td>\n      <td>1260759185</td>\n      <td>Escape from New York (1981)</td>\n      <td>Action|Adventure|Sci-Fi|Thriller</td>\n      <td>False</td>\n      <td>False</td>\n      <td>False</td>\n      <td>False</td>\n      <td>...</td>\n      <td>False</td>\n      <td>False</td>\n      <td>False</td>\n      <td>False</td>\n      <td>False</td>\n      <td>False</td>\n      <td>False</td>\n      <td>False</td>\n      <td>False</td>\n      <td>False</td>\n    </tr>\n    <tr>\n      <th>4</th>\n      <td>1</td>\n      <td>1172</td>\n      <td>4.0</td>\n      <td>1260759205</td>\n      <td>Cinema Paradiso (Nuovo cinema Paradiso) (1989)</td>\n      <td>Drama</td>\n      <td>True</td>\n      <td>False</td>\n      <td>False</td>\n      <td>False</td>\n      <td>...</td>\n      <td>False</td>\n      <td>False</td>\n      <td>False</td>\n      <td>False</td>\n      <td>False</td>\n      <td>False</td>\n      <td>False</td>\n      <td>False</td>\n      <td>False</td>\n      <td>False</td>\n    </tr>\n    <tr>\n      <th>5</th>\n      <td>1</td>\n      <td>1263</td>\n      <td>2.0</td>\n      <td>1260759151</td>\n      <td>Deer Hunter, The (1978)</td>\n      <td>Drama|War</td>\n      <td>True</td>\n      <td>False</td>\n      <td>False</td>\n      <td>False</td>\n      <td>...</td>\n      <td>False</td>\n      <td>False</td>\n      <td>False</td>\n      <td>False</td>\n      <td>False</td>\n      <td>False</td>\n      <td>False</td>\n      <td>False</td>\n      <td>False</td>\n      <td>False</td>\n    </tr>\n  </tbody>\n</table>\n<p>6 rows × 26 columns</p>\n</div>"
     },
     "metadata": {},
     "execution_count": 51
    }
   ],
   "source": [
    "ratings_with_name.head(6)"
   ]
  },
  {
   "cell_type": "code",
   "execution_count": 53,
   "metadata": {},
   "outputs": [
    {
     "output_type": "execute_result",
     "data": {
      "text/plain": [
       "       userId  movieId  rating   timestamp  \\\n",
       "18406     200   136592     1.5  1438020227   \n",
       "28189     299    83829     4.5  1344180332   \n",
       "30157     324   149532     3.0  1451519751   \n",
       "33927     371   122888     5.0  1473624419   \n",
       "53642     572   132952     4.0  1436466718   \n",
       "61006     648   128616     4.0  1426357951   \n",
       "61402     652   140753     4.0  1439587070   \n",
       "61407     652   140763     5.0  1439587331   \n",
       "64803      56   160590     5.0  1467095789   \n",
       "77517     547   134025     3.0  1432654721   \n",
       "\n",
       "                                     title              genres  Drama  \\\n",
       "18406                 Freaky Friday (1995)  (no genres listed)  False   \n",
       "28189                Scorpio Rising (1964)  (no genres listed)  False   \n",
       "30157  Marco Polo: One Hundred Eyes (2015)  (no genres listed)  False   \n",
       "33927                       Ben-hur (2016)  (no genres listed)  False   \n",
       "53642                     Sarfarosh (1999)  (no genres listed)  False   \n",
       "61006           As We Were Dreaming (2015)  (no genres listed)  False   \n",
       "61402             The Men Next Door (2012)  (no genres listed)  False   \n",
       "61407                     Boy Crazy (2009)  (no genres listed)  False   \n",
       "64803           Survive and Advance (2013)  (no genres listed)  False   \n",
       "77517                   Open Secret (2013)  (no genres listed)  False   \n",
       "\n",
       "       Animation  Children  Musical  ...  Horror  Romance  Comedy  Crime  \\\n",
       "18406      False     False    False  ...   False    False   False  False   \n",
       "28189      False     False    False  ...   False    False   False  False   \n",
       "30157      False     False    False  ...   False    False   False  False   \n",
       "33927      False     False    False  ...   False    False   False  False   \n",
       "53642      False     False    False  ...   False    False   False  False   \n",
       "61006      False     False    False  ...   False    False   False  False   \n",
       "61402      False     False    False  ...   False    False   False  False   \n",
       "61407      False     False    False  ...   False    False   False  False   \n",
       "64803      False     False    False  ...   False    False   False  False   \n",
       "77517      False     False    False  ...   False    False   False  False   \n",
       "\n",
       "       Western  Mystery   IMAX  Documentary  Film-Noir  (no genres listed)  \n",
       "18406    False    False  False        False      False                True  \n",
       "28189    False    False  False        False      False                True  \n",
       "30157    False    False  False        False      False                True  \n",
       "33927    False    False  False        False      False                True  \n",
       "53642    False    False  False        False      False                True  \n",
       "61006    False    False  False        False      False                True  \n",
       "61402    False    False  False        False      False                True  \n",
       "61407    False    False  False        False      False                True  \n",
       "64803    False    False  False        False      False                True  \n",
       "77517    False    False  False        False      False                True  \n",
       "\n",
       "[10 rows x 26 columns]"
      ],
      "text/html": "<div>\n<style scoped>\n    .dataframe tbody tr th:only-of-type {\n        vertical-align: middle;\n    }\n\n    .dataframe tbody tr th {\n        vertical-align: top;\n    }\n\n    .dataframe thead th {\n        text-align: right;\n    }\n</style>\n<table border=\"1\" class=\"dataframe\">\n  <thead>\n    <tr style=\"text-align: right;\">\n      <th></th>\n      <th>userId</th>\n      <th>movieId</th>\n      <th>rating</th>\n      <th>timestamp</th>\n      <th>title</th>\n      <th>genres</th>\n      <th>Drama</th>\n      <th>Animation</th>\n      <th>Children</th>\n      <th>Musical</th>\n      <th>...</th>\n      <th>Horror</th>\n      <th>Romance</th>\n      <th>Comedy</th>\n      <th>Crime</th>\n      <th>Western</th>\n      <th>Mystery</th>\n      <th>IMAX</th>\n      <th>Documentary</th>\n      <th>Film-Noir</th>\n      <th>(no genres listed)</th>\n    </tr>\n  </thead>\n  <tbody>\n    <tr>\n      <th>18406</th>\n      <td>200</td>\n      <td>136592</td>\n      <td>1.5</td>\n      <td>1438020227</td>\n      <td>Freaky Friday (1995)</td>\n      <td>(no genres listed)</td>\n      <td>False</td>\n      <td>False</td>\n      <td>False</td>\n      <td>False</td>\n      <td>...</td>\n      <td>False</td>\n      <td>False</td>\n      <td>False</td>\n      <td>False</td>\n      <td>False</td>\n      <td>False</td>\n      <td>False</td>\n      <td>False</td>\n      <td>False</td>\n      <td>True</td>\n    </tr>\n    <tr>\n      <th>28189</th>\n      <td>299</td>\n      <td>83829</td>\n      <td>4.5</td>\n      <td>1344180332</td>\n      <td>Scorpio Rising (1964)</td>\n      <td>(no genres listed)</td>\n      <td>False</td>\n      <td>False</td>\n      <td>False</td>\n      <td>False</td>\n      <td>...</td>\n      <td>False</td>\n      <td>False</td>\n      <td>False</td>\n      <td>False</td>\n      <td>False</td>\n      <td>False</td>\n      <td>False</td>\n      <td>False</td>\n      <td>False</td>\n      <td>True</td>\n    </tr>\n    <tr>\n      <th>30157</th>\n      <td>324</td>\n      <td>149532</td>\n      <td>3.0</td>\n      <td>1451519751</td>\n      <td>Marco Polo: One Hundred Eyes (2015)</td>\n      <td>(no genres listed)</td>\n      <td>False</td>\n      <td>False</td>\n      <td>False</td>\n      <td>False</td>\n      <td>...</td>\n      <td>False</td>\n      <td>False</td>\n      <td>False</td>\n      <td>False</td>\n      <td>False</td>\n      <td>False</td>\n      <td>False</td>\n      <td>False</td>\n      <td>False</td>\n      <td>True</td>\n    </tr>\n    <tr>\n      <th>33927</th>\n      <td>371</td>\n      <td>122888</td>\n      <td>5.0</td>\n      <td>1473624419</td>\n      <td>Ben-hur (2016)</td>\n      <td>(no genres listed)</td>\n      <td>False</td>\n      <td>False</td>\n      <td>False</td>\n      <td>False</td>\n      <td>...</td>\n      <td>False</td>\n      <td>False</td>\n      <td>False</td>\n      <td>False</td>\n      <td>False</td>\n      <td>False</td>\n      <td>False</td>\n      <td>False</td>\n      <td>False</td>\n      <td>True</td>\n    </tr>\n    <tr>\n      <th>53642</th>\n      <td>572</td>\n      <td>132952</td>\n      <td>4.0</td>\n      <td>1436466718</td>\n      <td>Sarfarosh (1999)</td>\n      <td>(no genres listed)</td>\n      <td>False</td>\n      <td>False</td>\n      <td>False</td>\n      <td>False</td>\n      <td>...</td>\n      <td>False</td>\n      <td>False</td>\n      <td>False</td>\n      <td>False</td>\n      <td>False</td>\n      <td>False</td>\n      <td>False</td>\n      <td>False</td>\n      <td>False</td>\n      <td>True</td>\n    </tr>\n    <tr>\n      <th>61006</th>\n      <td>648</td>\n      <td>128616</td>\n      <td>4.0</td>\n      <td>1426357951</td>\n      <td>As We Were Dreaming (2015)</td>\n      <td>(no genres listed)</td>\n      <td>False</td>\n      <td>False</td>\n      <td>False</td>\n      <td>False</td>\n      <td>...</td>\n      <td>False</td>\n      <td>False</td>\n      <td>False</td>\n      <td>False</td>\n      <td>False</td>\n      <td>False</td>\n      <td>False</td>\n      <td>False</td>\n      <td>False</td>\n      <td>True</td>\n    </tr>\n    <tr>\n      <th>61402</th>\n      <td>652</td>\n      <td>140753</td>\n      <td>4.0</td>\n      <td>1439587070</td>\n      <td>The Men Next Door (2012)</td>\n      <td>(no genres listed)</td>\n      <td>False</td>\n      <td>False</td>\n      <td>False</td>\n      <td>False</td>\n      <td>...</td>\n      <td>False</td>\n      <td>False</td>\n      <td>False</td>\n      <td>False</td>\n      <td>False</td>\n      <td>False</td>\n      <td>False</td>\n      <td>False</td>\n      <td>False</td>\n      <td>True</td>\n    </tr>\n    <tr>\n      <th>61407</th>\n      <td>652</td>\n      <td>140763</td>\n      <td>5.0</td>\n      <td>1439587331</td>\n      <td>Boy Crazy (2009)</td>\n      <td>(no genres listed)</td>\n      <td>False</td>\n      <td>False</td>\n      <td>False</td>\n      <td>False</td>\n      <td>...</td>\n      <td>False</td>\n      <td>False</td>\n      <td>False</td>\n      <td>False</td>\n      <td>False</td>\n      <td>False</td>\n      <td>False</td>\n      <td>False</td>\n      <td>False</td>\n      <td>True</td>\n    </tr>\n    <tr>\n      <th>64803</th>\n      <td>56</td>\n      <td>160590</td>\n      <td>5.0</td>\n      <td>1467095789</td>\n      <td>Survive and Advance (2013)</td>\n      <td>(no genres listed)</td>\n      <td>False</td>\n      <td>False</td>\n      <td>False</td>\n      <td>False</td>\n      <td>...</td>\n      <td>False</td>\n      <td>False</td>\n      <td>False</td>\n      <td>False</td>\n      <td>False</td>\n      <td>False</td>\n      <td>False</td>\n      <td>False</td>\n      <td>False</td>\n      <td>True</td>\n    </tr>\n    <tr>\n      <th>77517</th>\n      <td>547</td>\n      <td>134025</td>\n      <td>3.0</td>\n      <td>1432654721</td>\n      <td>Open Secret (2013)</td>\n      <td>(no genres listed)</td>\n      <td>False</td>\n      <td>False</td>\n      <td>False</td>\n      <td>False</td>\n      <td>...</td>\n      <td>False</td>\n      <td>False</td>\n      <td>False</td>\n      <td>False</td>\n      <td>False</td>\n      <td>False</td>\n      <td>False</td>\n      <td>False</td>\n      <td>False</td>\n      <td>True</td>\n    </tr>\n  </tbody>\n</table>\n<p>10 rows × 26 columns</p>\n</div>"
     },
     "metadata": {},
     "execution_count": 53
    }
   ],
   "source": [
    "ratings_with_name[ratings_with_name['(no genres listed)']]"
   ]
  },
  {
   "cell_type": "code",
   "execution_count": 52,
   "metadata": {},
   "outputs": [],
   "source": [
    "ratings_with_name.to_csv('cleaned_movie_ratings.csv')"
   ]
  },
  {
   "cell_type": "code",
   "execution_count": 54,
   "metadata": {},
   "outputs": [
    {
     "output_type": "execute_result",
     "data": {
      "text/plain": [
       "       userId  movieId  rating   timestamp  \\\n",
       "0           1       31     2.5  1260759144   \n",
       "1           1     1029     3.0  1260759179   \n",
       "2           1     1061     3.0  1260759182   \n",
       "3           1     1129     2.0  1260759185   \n",
       "4           1     1172     4.0  1260759205   \n",
       "...       ...      ...     ...         ...   \n",
       "81517     664    34405     4.0  1343732038   \n",
       "81518     664    71530     4.0  1393891216   \n",
       "81519     664    80846     4.0  1344436046   \n",
       "81520     664     8950     4.5  1343747045   \n",
       "81521     664    57669     3.5  1343762326   \n",
       "\n",
       "                                                title  \\\n",
       "0                              Dangerous Minds (1995)   \n",
       "1                                        Dumbo (1941)   \n",
       "2                                     Sleepers (1996)   \n",
       "3                         Escape from New York (1981)   \n",
       "4      Cinema Paradiso (Nuovo cinema Paradiso) (1989)   \n",
       "...                                               ...   \n",
       "81517                                 Serenity (2005)   \n",
       "81518                               Surrogates (2009)   \n",
       "81519                                    Devil (2010)   \n",
       "81520                            The Machinist (2004)   \n",
       "81521                                In Bruges (2008)   \n",
       "\n",
       "                                 genres  Drama  Animation  Children  Musical  \\\n",
       "0                                 Drama   True      False     False    False   \n",
       "1      Animation|Children|Drama|Musical   True       True      True     True   \n",
       "2                              Thriller  False      False     False    False   \n",
       "3      Action|Adventure|Sci-Fi|Thriller  False      False     False    False   \n",
       "4                                 Drama   True      False     False    False   \n",
       "...                                 ...    ...        ...       ...      ...   \n",
       "81517           Action|Adventure|Sci-Fi  False      False     False    False   \n",
       "81518            Action|Sci-Fi|Thriller  False      False     False    False   \n",
       "81519           Horror|Mystery|Thriller  False      False     False    False   \n",
       "81520            Drama|Mystery|Thriller   True      False     False    False   \n",
       "81521       Comedy|Crime|Drama|Thriller   True      False     False    False   \n",
       "\n",
       "       ...  Horror  Romance  Comedy  Crime  Western  Mystery   IMAX  \\\n",
       "0      ...   False    False   False  False    False    False  False   \n",
       "1      ...   False    False   False  False    False    False  False   \n",
       "2      ...   False    False   False  False    False    False  False   \n",
       "3      ...   False    False   False  False    False    False  False   \n",
       "4      ...   False    False   False  False    False    False  False   \n",
       "...    ...     ...      ...     ...    ...      ...      ...    ...   \n",
       "81517  ...   False    False   False  False    False    False  False   \n",
       "81518  ...   False    False   False  False    False    False  False   \n",
       "81519  ...    True    False   False  False    False     True  False   \n",
       "81520  ...   False    False   False  False    False     True  False   \n",
       "81521  ...   False    False    True   True    False    False  False   \n",
       "\n",
       "       Documentary  Film-Noir  (no genres listed)  \n",
       "0            False      False               False  \n",
       "1            False      False               False  \n",
       "2            False      False               False  \n",
       "3            False      False               False  \n",
       "4            False      False               False  \n",
       "...            ...        ...                 ...  \n",
       "81517        False      False               False  \n",
       "81518        False      False               False  \n",
       "81519        False      False               False  \n",
       "81520        False      False               False  \n",
       "81521        False      False               False  \n",
       "\n",
       "[81522 rows x 26 columns]"
      ],
      "text/html": "<div>\n<style scoped>\n    .dataframe tbody tr th:only-of-type {\n        vertical-align: middle;\n    }\n\n    .dataframe tbody tr th {\n        vertical-align: top;\n    }\n\n    .dataframe thead th {\n        text-align: right;\n    }\n</style>\n<table border=\"1\" class=\"dataframe\">\n  <thead>\n    <tr style=\"text-align: right;\">\n      <th></th>\n      <th>userId</th>\n      <th>movieId</th>\n      <th>rating</th>\n      <th>timestamp</th>\n      <th>title</th>\n      <th>genres</th>\n      <th>Drama</th>\n      <th>Animation</th>\n      <th>Children</th>\n      <th>Musical</th>\n      <th>...</th>\n      <th>Horror</th>\n      <th>Romance</th>\n      <th>Comedy</th>\n      <th>Crime</th>\n      <th>Western</th>\n      <th>Mystery</th>\n      <th>IMAX</th>\n      <th>Documentary</th>\n      <th>Film-Noir</th>\n      <th>(no genres listed)</th>\n    </tr>\n  </thead>\n  <tbody>\n    <tr>\n      <th>0</th>\n      <td>1</td>\n      <td>31</td>\n      <td>2.5</td>\n      <td>1260759144</td>\n      <td>Dangerous Minds (1995)</td>\n      <td>Drama</td>\n      <td>True</td>\n      <td>False</td>\n      <td>False</td>\n      <td>False</td>\n      <td>...</td>\n      <td>False</td>\n      <td>False</td>\n      <td>False</td>\n      <td>False</td>\n      <td>False</td>\n      <td>False</td>\n      <td>False</td>\n      <td>False</td>\n      <td>False</td>\n      <td>False</td>\n    </tr>\n    <tr>\n      <th>1</th>\n      <td>1</td>\n      <td>1029</td>\n      <td>3.0</td>\n      <td>1260759179</td>\n      <td>Dumbo (1941)</td>\n      <td>Animation|Children|Drama|Musical</td>\n      <td>True</td>\n      <td>True</td>\n      <td>True</td>\n      <td>True</td>\n      <td>...</td>\n      <td>False</td>\n      <td>False</td>\n      <td>False</td>\n      <td>False</td>\n      <td>False</td>\n      <td>False</td>\n      <td>False</td>\n      <td>False</td>\n      <td>False</td>\n      <td>False</td>\n    </tr>\n    <tr>\n      <th>2</th>\n      <td>1</td>\n      <td>1061</td>\n      <td>3.0</td>\n      <td>1260759182</td>\n      <td>Sleepers (1996)</td>\n      <td>Thriller</td>\n      <td>False</td>\n      <td>False</td>\n      <td>False</td>\n      <td>False</td>\n      <td>...</td>\n      <td>False</td>\n      <td>False</td>\n      <td>False</td>\n      <td>False</td>\n      <td>False</td>\n      <td>False</td>\n      <td>False</td>\n      <td>False</td>\n      <td>False</td>\n      <td>False</td>\n    </tr>\n    <tr>\n      <th>3</th>\n      <td>1</td>\n      <td>1129</td>\n      <td>2.0</td>\n      <td>1260759185</td>\n      <td>Escape from New York (1981)</td>\n      <td>Action|Adventure|Sci-Fi|Thriller</td>\n      <td>False</td>\n      <td>False</td>\n      <td>False</td>\n      <td>False</td>\n      <td>...</td>\n      <td>False</td>\n      <td>False</td>\n      <td>False</td>\n      <td>False</td>\n      <td>False</td>\n      <td>False</td>\n      <td>False</td>\n      <td>False</td>\n      <td>False</td>\n      <td>False</td>\n    </tr>\n    <tr>\n      <th>4</th>\n      <td>1</td>\n      <td>1172</td>\n      <td>4.0</td>\n      <td>1260759205</td>\n      <td>Cinema Paradiso (Nuovo cinema Paradiso) (1989)</td>\n      <td>Drama</td>\n      <td>True</td>\n      <td>False</td>\n      <td>False</td>\n      <td>False</td>\n      <td>...</td>\n      <td>False</td>\n      <td>False</td>\n      <td>False</td>\n      <td>False</td>\n      <td>False</td>\n      <td>False</td>\n      <td>False</td>\n      <td>False</td>\n      <td>False</td>\n      <td>False</td>\n    </tr>\n    <tr>\n      <th>...</th>\n      <td>...</td>\n      <td>...</td>\n      <td>...</td>\n      <td>...</td>\n      <td>...</td>\n      <td>...</td>\n      <td>...</td>\n      <td>...</td>\n      <td>...</td>\n      <td>...</td>\n      <td>...</td>\n      <td>...</td>\n      <td>...</td>\n      <td>...</td>\n      <td>...</td>\n      <td>...</td>\n      <td>...</td>\n      <td>...</td>\n      <td>...</td>\n      <td>...</td>\n      <td>...</td>\n    </tr>\n    <tr>\n      <th>81517</th>\n      <td>664</td>\n      <td>34405</td>\n      <td>4.0</td>\n      <td>1343732038</td>\n      <td>Serenity (2005)</td>\n      <td>Action|Adventure|Sci-Fi</td>\n      <td>False</td>\n      <td>False</td>\n      <td>False</td>\n      <td>False</td>\n      <td>...</td>\n      <td>False</td>\n      <td>False</td>\n      <td>False</td>\n      <td>False</td>\n      <td>False</td>\n      <td>False</td>\n      <td>False</td>\n      <td>False</td>\n      <td>False</td>\n      <td>False</td>\n    </tr>\n    <tr>\n      <th>81518</th>\n      <td>664</td>\n      <td>71530</td>\n      <td>4.0</td>\n      <td>1393891216</td>\n      <td>Surrogates (2009)</td>\n      <td>Action|Sci-Fi|Thriller</td>\n      <td>False</td>\n      <td>False</td>\n      <td>False</td>\n      <td>False</td>\n      <td>...</td>\n      <td>False</td>\n      <td>False</td>\n      <td>False</td>\n      <td>False</td>\n      <td>False</td>\n      <td>False</td>\n      <td>False</td>\n      <td>False</td>\n      <td>False</td>\n      <td>False</td>\n    </tr>\n    <tr>\n      <th>81519</th>\n      <td>664</td>\n      <td>80846</td>\n      <td>4.0</td>\n      <td>1344436046</td>\n      <td>Devil (2010)</td>\n      <td>Horror|Mystery|Thriller</td>\n      <td>False</td>\n      <td>False</td>\n      <td>False</td>\n      <td>False</td>\n      <td>...</td>\n      <td>True</td>\n      <td>False</td>\n      <td>False</td>\n      <td>False</td>\n      <td>False</td>\n      <td>True</td>\n      <td>False</td>\n      <td>False</td>\n      <td>False</td>\n      <td>False</td>\n    </tr>\n    <tr>\n      <th>81520</th>\n      <td>664</td>\n      <td>8950</td>\n      <td>4.5</td>\n      <td>1343747045</td>\n      <td>The Machinist (2004)</td>\n      <td>Drama|Mystery|Thriller</td>\n      <td>True</td>\n      <td>False</td>\n      <td>False</td>\n      <td>False</td>\n      <td>...</td>\n      <td>False</td>\n      <td>False</td>\n      <td>False</td>\n      <td>False</td>\n      <td>False</td>\n      <td>True</td>\n      <td>False</td>\n      <td>False</td>\n      <td>False</td>\n      <td>False</td>\n    </tr>\n    <tr>\n      <th>81521</th>\n      <td>664</td>\n      <td>57669</td>\n      <td>3.5</td>\n      <td>1343762326</td>\n      <td>In Bruges (2008)</td>\n      <td>Comedy|Crime|Drama|Thriller</td>\n      <td>True</td>\n      <td>False</td>\n      <td>False</td>\n      <td>False</td>\n      <td>...</td>\n      <td>False</td>\n      <td>False</td>\n      <td>True</td>\n      <td>True</td>\n      <td>False</td>\n      <td>False</td>\n      <td>False</td>\n      <td>False</td>\n      <td>False</td>\n      <td>False</td>\n    </tr>\n  </tbody>\n</table>\n<p>81522 rows × 26 columns</p>\n</div>"
     },
     "metadata": {},
     "execution_count": 54
    }
   ],
   "source": [
    "ratings_with_name"
   ]
  },
  {
   "cell_type": "code",
   "execution_count": 63,
   "metadata": {},
   "outputs": [
    {
     "output_type": "execute_result",
     "data": {
      "text/plain": [
       "       movieId                                title                    genres\n",
       "21121   102190  20,000 Leagues Under the Sea (1997)  Adventure|Romance|Sci-Fi\n",
       "24626   114130  20,000 Leagues Under the Sea (1997)            Romance|Sci-Fi"
      ],
      "text/html": "<div>\n<style scoped>\n    .dataframe tbody tr th:only-of-type {\n        vertical-align: middle;\n    }\n\n    .dataframe tbody tr th {\n        vertical-align: top;\n    }\n\n    .dataframe thead th {\n        text-align: right;\n    }\n</style>\n<table border=\"1\" class=\"dataframe\">\n  <thead>\n    <tr style=\"text-align: right;\">\n      <th></th>\n      <th>movieId</th>\n      <th>title</th>\n      <th>genres</th>\n    </tr>\n  </thead>\n  <tbody>\n    <tr>\n      <th>21121</th>\n      <td>102190</td>\n      <td>20,000 Leagues Under the Sea (1997)</td>\n      <td>Adventure|Romance|Sci-Fi</td>\n    </tr>\n    <tr>\n      <th>24626</th>\n      <td>114130</td>\n      <td>20,000 Leagues Under the Sea (1997)</td>\n      <td>Romance|Sci-Fi</td>\n    </tr>\n  </tbody>\n</table>\n</div>"
     },
     "metadata": {},
     "execution_count": 63
    }
   ],
   "source": [
    "movies_meta[movies_meta['title']=='20,000 Leagues Under the Sea (1997)']"
   ]
  },
  {
   "cell_type": "code",
   "execution_count": 68,
   "metadata": {},
   "outputs": [
    {
     "output_type": "execute_result",
     "data": {
      "text/plain": [
       "       userId  movieId  rating   timestamp           title         genres  \\\n",
       "8576       56    91199     4.0  1467092472  Weekend (2011)  Drama|Romance   \n",
       "96184     652    91199     3.5  1439487912  Weekend (2011)  Drama|Romance   \n",
       "\n",
       "       Drama  Animation  Children  Musical  ...  Horror  Romance  Comedy  \\\n",
       "8576    True      False     False    False  ...   False     True   False   \n",
       "96184   True      False     False    False  ...   False     True   False   \n",
       "\n",
       "       Crime  Western  Mystery   IMAX  Documentary  Film-Noir  \\\n",
       "8576   False    False    False  False        False      False   \n",
       "96184  False    False    False  False        False      False   \n",
       "\n",
       "       (no genres listed)  \n",
       "8576                False  \n",
       "96184               False  \n",
       "\n",
       "[2 rows x 26 columns]"
      ],
      "text/html": "<div>\n<style scoped>\n    .dataframe tbody tr th:only-of-type {\n        vertical-align: middle;\n    }\n\n    .dataframe tbody tr th {\n        vertical-align: top;\n    }\n\n    .dataframe thead th {\n        text-align: right;\n    }\n</style>\n<table border=\"1\" class=\"dataframe\">\n  <thead>\n    <tr style=\"text-align: right;\">\n      <th></th>\n      <th>userId</th>\n      <th>movieId</th>\n      <th>rating</th>\n      <th>timestamp</th>\n      <th>title</th>\n      <th>genres</th>\n      <th>Drama</th>\n      <th>Animation</th>\n      <th>Children</th>\n      <th>Musical</th>\n      <th>...</th>\n      <th>Horror</th>\n      <th>Romance</th>\n      <th>Comedy</th>\n      <th>Crime</th>\n      <th>Western</th>\n      <th>Mystery</th>\n      <th>IMAX</th>\n      <th>Documentary</th>\n      <th>Film-Noir</th>\n      <th>(no genres listed)</th>\n    </tr>\n  </thead>\n  <tbody>\n    <tr>\n      <th>8576</th>\n      <td>56</td>\n      <td>91199</td>\n      <td>4.0</td>\n      <td>1467092472</td>\n      <td>Weekend (2011)</td>\n      <td>Drama|Romance</td>\n      <td>True</td>\n      <td>False</td>\n      <td>False</td>\n      <td>False</td>\n      <td>...</td>\n      <td>False</td>\n      <td>True</td>\n      <td>False</td>\n      <td>False</td>\n      <td>False</td>\n      <td>False</td>\n      <td>False</td>\n      <td>False</td>\n      <td>False</td>\n      <td>False</td>\n    </tr>\n    <tr>\n      <th>96184</th>\n      <td>652</td>\n      <td>91199</td>\n      <td>3.5</td>\n      <td>1439487912</td>\n      <td>Weekend (2011)</td>\n      <td>Drama|Romance</td>\n      <td>True</td>\n      <td>False</td>\n      <td>False</td>\n      <td>False</td>\n      <td>...</td>\n      <td>False</td>\n      <td>True</td>\n      <td>False</td>\n      <td>False</td>\n      <td>False</td>\n      <td>False</td>\n      <td>False</td>\n      <td>False</td>\n      <td>False</td>\n      <td>False</td>\n    </tr>\n  </tbody>\n</table>\n<p>2 rows × 26 columns</p>\n</div>"
     },
     "metadata": {},
     "execution_count": 68
    }
   ],
   "source": [
    "ratings_with_name[ratings_with_name['title']=='Weekend (2011)']"
   ]
  },
  {
   "cell_type": "code",
   "execution_count": 80,
   "metadata": {},
   "outputs": [
    {
     "output_type": "execute_result",
     "data": {
      "text/plain": [
       "       userId  movieId  rating   timestamp\n",
       "88          2      588     3.0   835355441\n",
       "106         3      588     3.0  1298922100\n",
       "173         4      588     5.0   949949486\n",
       "366         5      588     3.5  1163373551\n",
       "528         7      588     4.0   851868044\n",
       "1101       15      588     0.5  1093028161\n",
       "3289       19      588     3.0   855195077\n",
       "3551       20      588     3.5  1238729785\n",
       "3816       22      588     2.0  1131662084\n",
       "4072       23      588     4.0  1166728178\n",
       "4745       24      588     3.0   849282506\n",
       "5161       30      588     5.0   945276393\n",
       "6171       32      588     3.0   834828085\n",
       "6611       36      588     3.0   847056547\n",
       "6669       38      588     4.0  1389806512\n",
       "6819       39      588     3.0   832523045\n",
       "7084       42      588     4.0  1473258320\n",
       "7158       43      588     3.0   974768798\n",
       "7371       47      588     4.0   832228859\n",
       "9211       61      588     3.0  1216050688\n",
       "10338      73      588     5.0  1303464853\n",
       "12087      77      588     3.5  1163082479\n",
       "12384      78      588     3.5  1274050785\n",
       "12628      79      588     2.5  1182994717\n",
       "12902      82      588     4.0   835973398\n",
       "13277      85      588     3.0   837506797\n",
       "13435      86      588     3.0   848159093\n",
       "13568      88      588     3.0  1239757679\n",
       "13783      89      588     4.5  1257620522\n",
       "13900      91      588     4.5  1448798326\n",
       "14143      92      588     3.0   848525554\n",
       "14183      93      588     3.0  1304991715\n",
       "14899      97      588     0.5  1460342660\n",
       "15114      99      588     3.0   938586006\n",
       "16829     108      588     5.0   843301948\n",
       "16961     110      588     4.0   840100386\n",
       "17034     111      588     2.5  1097429297\n",
       "17386     114      588     5.0   838365897\n",
       "17777     119      588     4.0   913048006\n",
       "18550     121      588     4.0   833058390\n",
       "18594     122      588     3.0   832772977\n",
       "18982     126      588     5.0   833286421\n",
       "19071     128      588     5.0  1049690334\n",
       "19418     130      588     4.0  1138998871\n",
       "20102     134      588     3.0  1361245676\n",
       "20393     136      588     4.5  1405977300\n",
       "20448     137      588     4.0   946412403\n",
       "20916     144      588     3.0   837455203\n",
       "20952     145      588     4.0   845421597\n",
       "20977     146      588     5.0  1256071447\n",
       "21084     148      588     4.0  1059604244\n",
       "21499     150      588     3.5  1113907403\n",
       "21904     151      588     3.0   847296624\n",
       "22977     161      588     3.0   837629381\n",
       "23031     163      588     2.5  1390767042\n",
       "23254     165      588     4.0  1111480626\n",
       "24068     172      588     3.0   843290496\n",
       "24149     175      588     3.0  1052884328\n",
       "24274     176      588     3.5  1341001015\n",
       "24590     177      588     4.0   907516093\n",
       "25169     184      588     4.0   833524782\n",
       "25203     185      588     4.0  1003523305\n",
       "25460     187      588     4.5  1228072659\n",
       "25813     188      588     4.0   841063510\n",
       "26105     191      588     2.0   839925540\n",
       "26157     192      588     4.0   843633649\n",
       "27445     200      588     1.5  1438020304\n",
       "28348     211      588     4.0  1460810847\n",
       "28479     212      588     3.0  1218407218\n",
       "29335     213      588     3.0  1462640637\n",
       "30201     214      588     4.0   978469223\n",
       "30703     219      588     5.0   974474523\n",
       "30849     220      588     3.0   970515737\n",
       "31321     224      588     5.0   828214011\n",
       "31351     225      588     5.0   845565714\n",
       "31725     232      588     5.0   955088673\n",
       "32505     235      588     4.5  1112684754\n",
       "32644     236      588     3.5  1109969735\n",
       "32868     237      588     3.5  1102009646\n",
       "33045     239      588     5.0   991858143\n",
       "33311     240      588     4.0  1098943189\n",
       "34008     243      588     4.0  1094223540\n",
       "34362     245      588     1.0  1011317535\n",
       "34569     247      588     3.0   953361586\n",
       "35528     254      588     4.0   845157211\n",
       "36021     262      588     2.0  1433900952\n",
       "37022     266      588     3.0   840452154\n",
       "37133     268      588     4.5  1314894108\n",
       "37733     271      588     3.5  1107785059\n",
       "38349     279      588     4.0   838231181\n",
       "38919     285      588     4.0   965542795\n",
       "39255     286      588     3.0   979179233\n",
       "39303     287      588     5.0  1469163114\n",
       "39612     288      588     3.0   845862154\n",
       "39856     292      588     4.0  1140049852\n",
       "40249     294      588     5.0  1047071788\n",
       "41142     295      588     4.5  1100129540\n",
       "41337     296      588     5.0  1298166310\n",
       "41942     300      588     2.0  1108049512\n",
       "42027     302      588     4.0   843720570\n",
       "43494     311      588     3.0   898008136\n",
       "44438     312      588     3.0   959933777\n",
       "44674     313      588     4.5  1101033165\n",
       "45181     317      588     3.0   847633433\n",
       "45484     324      588     4.0  1451524258\n",
       "45743     328      588     3.5  1148000624\n",
       "46072     333      588     3.5  1441198986\n",
       "46306     338      588     3.0   841656121\n",
       "46798     344      588     5.0   850726335\n",
       "46923     345      588     4.0  1106949184\n",
       "47875     353      588     3.0  1112268776\n",
       "48382     354      588     2.0   846062277\n",
       "48434     355      588     3.0  1130105608\n",
       "48746     357      588     5.0   832768573\n",
       "48855     358      588     5.0   957480336\n",
       "49662     363      588     4.0   942344755\n",
       "50265     369      588     4.0   847465393\n",
       "50836     375      588     1.0   845491845\n",
       "51203     380      588     4.0   994729345\n",
       "52228     381      588     5.0  1018683706\n",
       "52345     382      588     3.0  1371777878\n",
       "54517     389      588     4.0   829492315\n",
       "55205     396      588     2.0   843049252\n",
       "55360     399      588     3.0   841562156\n",
       "55411     400      588     4.0   840205085\n",
       "55505     402      588     4.0  1462947059\n",
       "56725     408      588     3.0   933111453\n",
       "57036     412      588     4.0   993088492\n",
       "57352     415      588     3.0   848984732\n",
       "57477     417      588     0.5  1112587463\n",
       "57962     421      588     3.0   835170004\n",
       "58078     423      588     1.5  1353700416\n",
       "59056     428      588     4.0  1304136386\n",
       "59275     430      588     4.5  1172908207\n",
       "60351     437      588     4.0   831691414\n",
       "60400     439      588     3.0  1041115006\n",
       "60673     440      588     3.0   835336972\n",
       "60842     442      588     4.5  1227967485\n",
       "61210     447      588     3.0   832492610\n",
       "61255     449      588     5.0   836907384\n",
       "64205     461      588     4.0  1091048437\n",
       "64876     463      588     4.0  1049913411\n",
       "65334     464      588     5.0   829912557\n",
       "65408     466      588     4.0   944978924\n",
       "65763     468      588     2.5  1296190323\n",
       "67056     471      588     3.5  1239657561\n",
       "67340     472      588     3.0   939004597\n",
       "68213     475      588     3.5  1446908542\n",
       "69131     480      588     3.5  1272668468\n",
       "69980     483      588     2.5  1465387504\n",
       "70136     486      588     4.0  1464121049\n",
       "70404     487      588     4.0   832836250\n",
       "70535     491      588     3.0   940797129\n",
       "70976     496      588     4.0   834059779\n",
       "71101     498      588     4.5  1166906824\n",
       "71178     500      588     3.0  1228920888\n",
       "72426     509      588     3.5  1093299695\n",
       "73621     514      588     4.0   853894895\n",
       "73979     516      588     3.0   844687044\n",
       "74046     517      588     5.0   846449875\n",
       "74196     518      588     4.0   945362206\n",
       "74942     520      588     4.0  1142028522\n",
       "75396     523      588     4.0  1202234753\n",
       "76042     529      588     3.0  1357247314\n",
       "76613     530      588     5.0   880081184\n",
       "76685     531      588     4.0  1240402258\n",
       "77125     534      588     5.0   973376883\n",
       "77375     535      588     3.0   838630364\n",
       "77488     536      588     5.0   829471719\n",
       "77820     538      588     4.0   831835577\n",
       "80932     548      588     3.0   857407562\n",
       "81012     550      588     4.0   943373505\n",
       "81230     552      588     3.0   843322530\n",
       "81611     557      588     2.5  1285961987\n",
       "81913     559      588     5.0   903144600\n",
       "82160     561      588     3.5  1172696432\n",
       "83168     564      588     4.0   974713412\n",
       "84804     568      588     4.0   835002219\n",
       "85629     575      588     4.0  1012594819\n",
       "86203     577      588     4.0  1111475203\n",
       "86588     580      588     2.5  1164328485\n",
       "87471     582      588     4.5  1122169670\n",
       "88760     589      588     4.0   836109522\n",
       "88848     590      588     3.0   848677375\n",
       "88903     592      588     4.0   995420443\n",
       "89196     595      588     3.0   965230182\n",
       "89836     597      588     5.0   940708456\n",
       "90041     598      588     4.0  1008571159\n",
       "90520     600      588     5.0  1431956328\n",
       "90701     602      588     5.0   842356034\n",
       "90767     603      588     5.0   868355630\n",
       "90925     605      588     4.0   980174631\n",
       "91445     607      588     4.0  1113319707\n",
       "92308     611      588     5.0  1471524718\n",
       "93001     617      588     3.0   944893703\n",
       "93129     619      588     5.0   831921795\n",
       "93446     623      588     4.0  1225258419\n",
       "95793     629      588     3.0   841414250\n",
       "95921     633      588     3.0   848518247\n",
       "96094     639      588     3.0   833991650\n",
       "96246     641      588     4.0   834636246\n",
       "96441     646      588     5.0   953449561\n",
       "96759     648      588     2.0  1138477792\n",
       "97074     649      588     3.0   834424696\n",
       "97158     652      588     4.0  1439489918\n",
       "97414     653      588     5.0   948160926\n",
       "97546     654      588     4.5  1145390414\n",
       "98090     655      588     4.5  1470073101\n",
       "98184     656      588     5.0   986242465\n",
       "98348     658      588     5.0   941489662\n",
       "98499     659      588     3.0   834598907\n",
       "98710     662      588     4.0   839022166\n",
       "99332     665      588     4.0   992909069\n",
       "99726     666      588     3.0   838920837\n",
       "99902     671      588     4.0  1065149478"
      ],
      "text/html": "<div>\n<style scoped>\n    .dataframe tbody tr th:only-of-type {\n        vertical-align: middle;\n    }\n\n    .dataframe tbody tr th {\n        vertical-align: top;\n    }\n\n    .dataframe thead th {\n        text-align: right;\n    }\n</style>\n<table border=\"1\" class=\"dataframe\">\n  <thead>\n    <tr style=\"text-align: right;\">\n      <th></th>\n      <th>userId</th>\n      <th>movieId</th>\n      <th>rating</th>\n      <th>timestamp</th>\n    </tr>\n  </thead>\n  <tbody>\n    <tr>\n      <th>88</th>\n      <td>2</td>\n      <td>588</td>\n      <td>3.0</td>\n      <td>835355441</td>\n    </tr>\n    <tr>\n      <th>106</th>\n      <td>3</td>\n      <td>588</td>\n      <td>3.0</td>\n      <td>1298922100</td>\n    </tr>\n    <tr>\n      <th>173</th>\n      <td>4</td>\n      <td>588</td>\n      <td>5.0</td>\n      <td>949949486</td>\n    </tr>\n    <tr>\n      <th>366</th>\n      <td>5</td>\n      <td>588</td>\n      <td>3.5</td>\n      <td>1163373551</td>\n    </tr>\n    <tr>\n      <th>528</th>\n      <td>7</td>\n      <td>588</td>\n      <td>4.0</td>\n      <td>851868044</td>\n    </tr>\n    <tr>\n      <th>1101</th>\n      <td>15</td>\n      <td>588</td>\n      <td>0.5</td>\n      <td>1093028161</td>\n    </tr>\n    <tr>\n      <th>3289</th>\n      <td>19</td>\n      <td>588</td>\n      <td>3.0</td>\n      <td>855195077</td>\n    </tr>\n    <tr>\n      <th>3551</th>\n      <td>20</td>\n      <td>588</td>\n      <td>3.5</td>\n      <td>1238729785</td>\n    </tr>\n    <tr>\n      <th>3816</th>\n      <td>22</td>\n      <td>588</td>\n      <td>2.0</td>\n      <td>1131662084</td>\n    </tr>\n    <tr>\n      <th>4072</th>\n      <td>23</td>\n      <td>588</td>\n      <td>4.0</td>\n      <td>1166728178</td>\n    </tr>\n    <tr>\n      <th>4745</th>\n      <td>24</td>\n      <td>588</td>\n      <td>3.0</td>\n      <td>849282506</td>\n    </tr>\n    <tr>\n      <th>5161</th>\n      <td>30</td>\n      <td>588</td>\n      <td>5.0</td>\n      <td>945276393</td>\n    </tr>\n    <tr>\n      <th>6171</th>\n      <td>32</td>\n      <td>588</td>\n      <td>3.0</td>\n      <td>834828085</td>\n    </tr>\n    <tr>\n      <th>6611</th>\n      <td>36</td>\n      <td>588</td>\n      <td>3.0</td>\n      <td>847056547</td>\n    </tr>\n    <tr>\n      <th>6669</th>\n      <td>38</td>\n      <td>588</td>\n      <td>4.0</td>\n      <td>1389806512</td>\n    </tr>\n    <tr>\n      <th>6819</th>\n      <td>39</td>\n      <td>588</td>\n      <td>3.0</td>\n      <td>832523045</td>\n    </tr>\n    <tr>\n      <th>7084</th>\n      <td>42</td>\n      <td>588</td>\n      <td>4.0</td>\n      <td>1473258320</td>\n    </tr>\n    <tr>\n      <th>7158</th>\n      <td>43</td>\n      <td>588</td>\n      <td>3.0</td>\n      <td>974768798</td>\n    </tr>\n    <tr>\n      <th>7371</th>\n      <td>47</td>\n      <td>588</td>\n      <td>4.0</td>\n      <td>832228859</td>\n    </tr>\n    <tr>\n      <th>9211</th>\n      <td>61</td>\n      <td>588</td>\n      <td>3.0</td>\n      <td>1216050688</td>\n    </tr>\n    <tr>\n      <th>10338</th>\n      <td>73</td>\n      <td>588</td>\n      <td>5.0</td>\n      <td>1303464853</td>\n    </tr>\n    <tr>\n      <th>12087</th>\n      <td>77</td>\n      <td>588</td>\n      <td>3.5</td>\n      <td>1163082479</td>\n    </tr>\n    <tr>\n      <th>12384</th>\n      <td>78</td>\n      <td>588</td>\n      <td>3.5</td>\n      <td>1274050785</td>\n    </tr>\n    <tr>\n      <th>12628</th>\n      <td>79</td>\n      <td>588</td>\n      <td>2.5</td>\n      <td>1182994717</td>\n    </tr>\n    <tr>\n      <th>12902</th>\n      <td>82</td>\n      <td>588</td>\n      <td>4.0</td>\n      <td>835973398</td>\n    </tr>\n    <tr>\n      <th>13277</th>\n      <td>85</td>\n      <td>588</td>\n      <td>3.0</td>\n      <td>837506797</td>\n    </tr>\n    <tr>\n      <th>13435</th>\n      <td>86</td>\n      <td>588</td>\n      <td>3.0</td>\n      <td>848159093</td>\n    </tr>\n    <tr>\n      <th>13568</th>\n      <td>88</td>\n      <td>588</td>\n      <td>3.0</td>\n      <td>1239757679</td>\n    </tr>\n    <tr>\n      <th>13783</th>\n      <td>89</td>\n      <td>588</td>\n      <td>4.5</td>\n      <td>1257620522</td>\n    </tr>\n    <tr>\n      <th>13900</th>\n      <td>91</td>\n      <td>588</td>\n      <td>4.5</td>\n      <td>1448798326</td>\n    </tr>\n    <tr>\n      <th>14143</th>\n      <td>92</td>\n      <td>588</td>\n      <td>3.0</td>\n      <td>848525554</td>\n    </tr>\n    <tr>\n      <th>14183</th>\n      <td>93</td>\n      <td>588</td>\n      <td>3.0</td>\n      <td>1304991715</td>\n    </tr>\n    <tr>\n      <th>14899</th>\n      <td>97</td>\n      <td>588</td>\n      <td>0.5</td>\n      <td>1460342660</td>\n    </tr>\n    <tr>\n      <th>15114</th>\n      <td>99</td>\n      <td>588</td>\n      <td>3.0</td>\n      <td>938586006</td>\n    </tr>\n    <tr>\n      <th>16829</th>\n      <td>108</td>\n      <td>588</td>\n      <td>5.0</td>\n      <td>843301948</td>\n    </tr>\n    <tr>\n      <th>16961</th>\n      <td>110</td>\n      <td>588</td>\n      <td>4.0</td>\n      <td>840100386</td>\n    </tr>\n    <tr>\n      <th>17034</th>\n      <td>111</td>\n      <td>588</td>\n      <td>2.5</td>\n      <td>1097429297</td>\n    </tr>\n    <tr>\n      <th>17386</th>\n      <td>114</td>\n      <td>588</td>\n      <td>5.0</td>\n      <td>838365897</td>\n    </tr>\n    <tr>\n      <th>17777</th>\n      <td>119</td>\n      <td>588</td>\n      <td>4.0</td>\n      <td>913048006</td>\n    </tr>\n    <tr>\n      <th>18550</th>\n      <td>121</td>\n      <td>588</td>\n      <td>4.0</td>\n      <td>833058390</td>\n    </tr>\n    <tr>\n      <th>18594</th>\n      <td>122</td>\n      <td>588</td>\n      <td>3.0</td>\n      <td>832772977</td>\n    </tr>\n    <tr>\n      <th>18982</th>\n      <td>126</td>\n      <td>588</td>\n      <td>5.0</td>\n      <td>833286421</td>\n    </tr>\n    <tr>\n      <th>19071</th>\n      <td>128</td>\n      <td>588</td>\n      <td>5.0</td>\n      <td>1049690334</td>\n    </tr>\n    <tr>\n      <th>19418</th>\n      <td>130</td>\n      <td>588</td>\n      <td>4.0</td>\n      <td>1138998871</td>\n    </tr>\n    <tr>\n      <th>20102</th>\n      <td>134</td>\n      <td>588</td>\n      <td>3.0</td>\n      <td>1361245676</td>\n    </tr>\n    <tr>\n      <th>20393</th>\n      <td>136</td>\n      <td>588</td>\n      <td>4.5</td>\n      <td>1405977300</td>\n    </tr>\n    <tr>\n      <th>20448</th>\n      <td>137</td>\n      <td>588</td>\n      <td>4.0</td>\n      <td>946412403</td>\n    </tr>\n    <tr>\n      <th>20916</th>\n      <td>144</td>\n      <td>588</td>\n      <td>3.0</td>\n      <td>837455203</td>\n    </tr>\n    <tr>\n      <th>20952</th>\n      <td>145</td>\n      <td>588</td>\n      <td>4.0</td>\n      <td>845421597</td>\n    </tr>\n    <tr>\n      <th>20977</th>\n      <td>146</td>\n      <td>588</td>\n      <td>5.0</td>\n      <td>1256071447</td>\n    </tr>\n    <tr>\n      <th>21084</th>\n      <td>148</td>\n      <td>588</td>\n      <td>4.0</td>\n      <td>1059604244</td>\n    </tr>\n    <tr>\n      <th>21499</th>\n      <td>150</td>\n      <td>588</td>\n      <td>3.5</td>\n      <td>1113907403</td>\n    </tr>\n    <tr>\n      <th>21904</th>\n      <td>151</td>\n      <td>588</td>\n      <td>3.0</td>\n      <td>847296624</td>\n    </tr>\n    <tr>\n      <th>22977</th>\n      <td>161</td>\n      <td>588</td>\n      <td>3.0</td>\n      <td>837629381</td>\n    </tr>\n    <tr>\n      <th>23031</th>\n      <td>163</td>\n      <td>588</td>\n      <td>2.5</td>\n      <td>1390767042</td>\n    </tr>\n    <tr>\n      <th>23254</th>\n      <td>165</td>\n      <td>588</td>\n      <td>4.0</td>\n      <td>1111480626</td>\n    </tr>\n    <tr>\n      <th>24068</th>\n      <td>172</td>\n      <td>588</td>\n      <td>3.0</td>\n      <td>843290496</td>\n    </tr>\n    <tr>\n      <th>24149</th>\n      <td>175</td>\n      <td>588</td>\n      <td>3.0</td>\n      <td>1052884328</td>\n    </tr>\n    <tr>\n      <th>24274</th>\n      <td>176</td>\n      <td>588</td>\n      <td>3.5</td>\n      <td>1341001015</td>\n    </tr>\n    <tr>\n      <th>24590</th>\n      <td>177</td>\n      <td>588</td>\n      <td>4.0</td>\n      <td>907516093</td>\n    </tr>\n    <tr>\n      <th>25169</th>\n      <td>184</td>\n      <td>588</td>\n      <td>4.0</td>\n      <td>833524782</td>\n    </tr>\n    <tr>\n      <th>25203</th>\n      <td>185</td>\n      <td>588</td>\n      <td>4.0</td>\n      <td>1003523305</td>\n    </tr>\n    <tr>\n      <th>25460</th>\n      <td>187</td>\n      <td>588</td>\n      <td>4.5</td>\n      <td>1228072659</td>\n    </tr>\n    <tr>\n      <th>25813</th>\n      <td>188</td>\n      <td>588</td>\n      <td>4.0</td>\n      <td>841063510</td>\n    </tr>\n    <tr>\n      <th>26105</th>\n      <td>191</td>\n      <td>588</td>\n      <td>2.0</td>\n      <td>839925540</td>\n    </tr>\n    <tr>\n      <th>26157</th>\n      <td>192</td>\n      <td>588</td>\n      <td>4.0</td>\n      <td>843633649</td>\n    </tr>\n    <tr>\n      <th>27445</th>\n      <td>200</td>\n      <td>588</td>\n      <td>1.5</td>\n      <td>1438020304</td>\n    </tr>\n    <tr>\n      <th>28348</th>\n      <td>211</td>\n      <td>588</td>\n      <td>4.0</td>\n      <td>1460810847</td>\n    </tr>\n    <tr>\n      <th>28479</th>\n      <td>212</td>\n      <td>588</td>\n      <td>3.0</td>\n      <td>1218407218</td>\n    </tr>\n    <tr>\n      <th>29335</th>\n      <td>213</td>\n      <td>588</td>\n      <td>3.0</td>\n      <td>1462640637</td>\n    </tr>\n    <tr>\n      <th>30201</th>\n      <td>214</td>\n      <td>588</td>\n      <td>4.0</td>\n      <td>978469223</td>\n    </tr>\n    <tr>\n      <th>30703</th>\n      <td>219</td>\n      <td>588</td>\n      <td>5.0</td>\n      <td>974474523</td>\n    </tr>\n    <tr>\n      <th>30849</th>\n      <td>220</td>\n      <td>588</td>\n      <td>3.0</td>\n      <td>970515737</td>\n    </tr>\n    <tr>\n      <th>31321</th>\n      <td>224</td>\n      <td>588</td>\n      <td>5.0</td>\n      <td>828214011</td>\n    </tr>\n    <tr>\n      <th>31351</th>\n      <td>225</td>\n      <td>588</td>\n      <td>5.0</td>\n      <td>845565714</td>\n    </tr>\n    <tr>\n      <th>31725</th>\n      <td>232</td>\n      <td>588</td>\n      <td>5.0</td>\n      <td>955088673</td>\n    </tr>\n    <tr>\n      <th>32505</th>\n      <td>235</td>\n      <td>588</td>\n      <td>4.5</td>\n      <td>1112684754</td>\n    </tr>\n    <tr>\n      <th>32644</th>\n      <td>236</td>\n      <td>588</td>\n      <td>3.5</td>\n      <td>1109969735</td>\n    </tr>\n    <tr>\n      <th>32868</th>\n      <td>237</td>\n      <td>588</td>\n      <td>3.5</td>\n      <td>1102009646</td>\n    </tr>\n    <tr>\n      <th>33045</th>\n      <td>239</td>\n      <td>588</td>\n      <td>5.0</td>\n      <td>991858143</td>\n    </tr>\n    <tr>\n      <th>33311</th>\n      <td>240</td>\n      <td>588</td>\n      <td>4.0</td>\n      <td>1098943189</td>\n    </tr>\n    <tr>\n      <th>34008</th>\n      <td>243</td>\n      <td>588</td>\n      <td>4.0</td>\n      <td>1094223540</td>\n    </tr>\n    <tr>\n      <th>34362</th>\n      <td>245</td>\n      <td>588</td>\n      <td>1.0</td>\n      <td>1011317535</td>\n    </tr>\n    <tr>\n      <th>34569</th>\n      <td>247</td>\n      <td>588</td>\n      <td>3.0</td>\n      <td>953361586</td>\n    </tr>\n    <tr>\n      <th>35528</th>\n      <td>254</td>\n      <td>588</td>\n      <td>4.0</td>\n      <td>845157211</td>\n    </tr>\n    <tr>\n      <th>36021</th>\n      <td>262</td>\n      <td>588</td>\n      <td>2.0</td>\n      <td>1433900952</td>\n    </tr>\n    <tr>\n      <th>37022</th>\n      <td>266</td>\n      <td>588</td>\n      <td>3.0</td>\n      <td>840452154</td>\n    </tr>\n    <tr>\n      <th>37133</th>\n      <td>268</td>\n      <td>588</td>\n      <td>4.5</td>\n      <td>1314894108</td>\n    </tr>\n    <tr>\n      <th>37733</th>\n      <td>271</td>\n      <td>588</td>\n      <td>3.5</td>\n      <td>1107785059</td>\n    </tr>\n    <tr>\n      <th>38349</th>\n      <td>279</td>\n      <td>588</td>\n      <td>4.0</td>\n      <td>838231181</td>\n    </tr>\n    <tr>\n      <th>38919</th>\n      <td>285</td>\n      <td>588</td>\n      <td>4.0</td>\n      <td>965542795</td>\n    </tr>\n    <tr>\n      <th>39255</th>\n      <td>286</td>\n      <td>588</td>\n      <td>3.0</td>\n      <td>979179233</td>\n    </tr>\n    <tr>\n      <th>39303</th>\n      <td>287</td>\n      <td>588</td>\n      <td>5.0</td>\n      <td>1469163114</td>\n    </tr>\n    <tr>\n      <th>39612</th>\n      <td>288</td>\n      <td>588</td>\n      <td>3.0</td>\n      <td>845862154</td>\n    </tr>\n    <tr>\n      <th>39856</th>\n      <td>292</td>\n      <td>588</td>\n      <td>4.0</td>\n      <td>1140049852</td>\n    </tr>\n    <tr>\n      <th>40249</th>\n      <td>294</td>\n      <td>588</td>\n      <td>5.0</td>\n      <td>1047071788</td>\n    </tr>\n    <tr>\n      <th>41142</th>\n      <td>295</td>\n      <td>588</td>\n      <td>4.5</td>\n      <td>1100129540</td>\n    </tr>\n    <tr>\n      <th>41337</th>\n      <td>296</td>\n      <td>588</td>\n      <td>5.0</td>\n      <td>1298166310</td>\n    </tr>\n    <tr>\n      <th>41942</th>\n      <td>300</td>\n      <td>588</td>\n      <td>2.0</td>\n      <td>1108049512</td>\n    </tr>\n    <tr>\n      <th>42027</th>\n      <td>302</td>\n      <td>588</td>\n      <td>4.0</td>\n      <td>843720570</td>\n    </tr>\n    <tr>\n      <th>43494</th>\n      <td>311</td>\n      <td>588</td>\n      <td>3.0</td>\n      <td>898008136</td>\n    </tr>\n    <tr>\n      <th>44438</th>\n      <td>312</td>\n      <td>588</td>\n      <td>3.0</td>\n      <td>959933777</td>\n    </tr>\n    <tr>\n      <th>44674</th>\n      <td>313</td>\n      <td>588</td>\n      <td>4.5</td>\n      <td>1101033165</td>\n    </tr>\n    <tr>\n      <th>45181</th>\n      <td>317</td>\n      <td>588</td>\n      <td>3.0</td>\n      <td>847633433</td>\n    </tr>\n    <tr>\n      <th>45484</th>\n      <td>324</td>\n      <td>588</td>\n      <td>4.0</td>\n      <td>1451524258</td>\n    </tr>\n    <tr>\n      <th>45743</th>\n      <td>328</td>\n      <td>588</td>\n      <td>3.5</td>\n      <td>1148000624</td>\n    </tr>\n    <tr>\n      <th>46072</th>\n      <td>333</td>\n      <td>588</td>\n      <td>3.5</td>\n      <td>1441198986</td>\n    </tr>\n    <tr>\n      <th>46306</th>\n      <td>338</td>\n      <td>588</td>\n      <td>3.0</td>\n      <td>841656121</td>\n    </tr>\n    <tr>\n      <th>46798</th>\n      <td>344</td>\n      <td>588</td>\n      <td>5.0</td>\n      <td>850726335</td>\n    </tr>\n    <tr>\n      <th>46923</th>\n      <td>345</td>\n      <td>588</td>\n      <td>4.0</td>\n      <td>1106949184</td>\n    </tr>\n    <tr>\n      <th>47875</th>\n      <td>353</td>\n      <td>588</td>\n      <td>3.0</td>\n      <td>1112268776</td>\n    </tr>\n    <tr>\n      <th>48382</th>\n      <td>354</td>\n      <td>588</td>\n      <td>2.0</td>\n      <td>846062277</td>\n    </tr>\n    <tr>\n      <th>48434</th>\n      <td>355</td>\n      <td>588</td>\n      <td>3.0</td>\n      <td>1130105608</td>\n    </tr>\n    <tr>\n      <th>48746</th>\n      <td>357</td>\n      <td>588</td>\n      <td>5.0</td>\n      <td>832768573</td>\n    </tr>\n    <tr>\n      <th>48855</th>\n      <td>358</td>\n      <td>588</td>\n      <td>5.0</td>\n      <td>957480336</td>\n    </tr>\n    <tr>\n      <th>49662</th>\n      <td>363</td>\n      <td>588</td>\n      <td>4.0</td>\n      <td>942344755</td>\n    </tr>\n    <tr>\n      <th>50265</th>\n      <td>369</td>\n      <td>588</td>\n      <td>4.0</td>\n      <td>847465393</td>\n    </tr>\n    <tr>\n      <th>50836</th>\n      <td>375</td>\n      <td>588</td>\n      <td>1.0</td>\n      <td>845491845</td>\n    </tr>\n    <tr>\n      <th>51203</th>\n      <td>380</td>\n      <td>588</td>\n      <td>4.0</td>\n      <td>994729345</td>\n    </tr>\n    <tr>\n      <th>52228</th>\n      <td>381</td>\n      <td>588</td>\n      <td>5.0</td>\n      <td>1018683706</td>\n    </tr>\n    <tr>\n      <th>52345</th>\n      <td>382</td>\n      <td>588</td>\n      <td>3.0</td>\n      <td>1371777878</td>\n    </tr>\n    <tr>\n      <th>54517</th>\n      <td>389</td>\n      <td>588</td>\n      <td>4.0</td>\n      <td>829492315</td>\n    </tr>\n    <tr>\n      <th>55205</th>\n      <td>396</td>\n      <td>588</td>\n      <td>2.0</td>\n      <td>843049252</td>\n    </tr>\n    <tr>\n      <th>55360</th>\n      <td>399</td>\n      <td>588</td>\n      <td>3.0</td>\n      <td>841562156</td>\n    </tr>\n    <tr>\n      <th>55411</th>\n      <td>400</td>\n      <td>588</td>\n      <td>4.0</td>\n      <td>840205085</td>\n    </tr>\n    <tr>\n      <th>55505</th>\n      <td>402</td>\n      <td>588</td>\n      <td>4.0</td>\n      <td>1462947059</td>\n    </tr>\n    <tr>\n      <th>56725</th>\n      <td>408</td>\n      <td>588</td>\n      <td>3.0</td>\n      <td>933111453</td>\n    </tr>\n    <tr>\n      <th>57036</th>\n      <td>412</td>\n      <td>588</td>\n      <td>4.0</td>\n      <td>993088492</td>\n    </tr>\n    <tr>\n      <th>57352</th>\n      <td>415</td>\n      <td>588</td>\n      <td>3.0</td>\n      <td>848984732</td>\n    </tr>\n    <tr>\n      <th>57477</th>\n      <td>417</td>\n      <td>588</td>\n      <td>0.5</td>\n      <td>1112587463</td>\n    </tr>\n    <tr>\n      <th>57962</th>\n      <td>421</td>\n      <td>588</td>\n      <td>3.0</td>\n      <td>835170004</td>\n    </tr>\n    <tr>\n      <th>58078</th>\n      <td>423</td>\n      <td>588</td>\n      <td>1.5</td>\n      <td>1353700416</td>\n    </tr>\n    <tr>\n      <th>59056</th>\n      <td>428</td>\n      <td>588</td>\n      <td>4.0</td>\n      <td>1304136386</td>\n    </tr>\n    <tr>\n      <th>59275</th>\n      <td>430</td>\n      <td>588</td>\n      <td>4.5</td>\n      <td>1172908207</td>\n    </tr>\n    <tr>\n      <th>60351</th>\n      <td>437</td>\n      <td>588</td>\n      <td>4.0</td>\n      <td>831691414</td>\n    </tr>\n    <tr>\n      <th>60400</th>\n      <td>439</td>\n      <td>588</td>\n      <td>3.0</td>\n      <td>1041115006</td>\n    </tr>\n    <tr>\n      <th>60673</th>\n      <td>440</td>\n      <td>588</td>\n      <td>3.0</td>\n      <td>835336972</td>\n    </tr>\n    <tr>\n      <th>60842</th>\n      <td>442</td>\n      <td>588</td>\n      <td>4.5</td>\n      <td>1227967485</td>\n    </tr>\n    <tr>\n      <th>61210</th>\n      <td>447</td>\n      <td>588</td>\n      <td>3.0</td>\n      <td>832492610</td>\n    </tr>\n    <tr>\n      <th>61255</th>\n      <td>449</td>\n      <td>588</td>\n      <td>5.0</td>\n      <td>836907384</td>\n    </tr>\n    <tr>\n      <th>64205</th>\n      <td>461</td>\n      <td>588</td>\n      <td>4.0</td>\n      <td>1091048437</td>\n    </tr>\n    <tr>\n      <th>64876</th>\n      <td>463</td>\n      <td>588</td>\n      <td>4.0</td>\n      <td>1049913411</td>\n    </tr>\n    <tr>\n      <th>65334</th>\n      <td>464</td>\n      <td>588</td>\n      <td>5.0</td>\n      <td>829912557</td>\n    </tr>\n    <tr>\n      <th>65408</th>\n      <td>466</td>\n      <td>588</td>\n      <td>4.0</td>\n      <td>944978924</td>\n    </tr>\n    <tr>\n      <th>65763</th>\n      <td>468</td>\n      <td>588</td>\n      <td>2.5</td>\n      <td>1296190323</td>\n    </tr>\n    <tr>\n      <th>67056</th>\n      <td>471</td>\n      <td>588</td>\n      <td>3.5</td>\n      <td>1239657561</td>\n    </tr>\n    <tr>\n      <th>67340</th>\n      <td>472</td>\n      <td>588</td>\n      <td>3.0</td>\n      <td>939004597</td>\n    </tr>\n    <tr>\n      <th>68213</th>\n      <td>475</td>\n      <td>588</td>\n      <td>3.5</td>\n      <td>1446908542</td>\n    </tr>\n    <tr>\n      <th>69131</th>\n      <td>480</td>\n      <td>588</td>\n      <td>3.5</td>\n      <td>1272668468</td>\n    </tr>\n    <tr>\n      <th>69980</th>\n      <td>483</td>\n      <td>588</td>\n      <td>2.5</td>\n      <td>1465387504</td>\n    </tr>\n    <tr>\n      <th>70136</th>\n      <td>486</td>\n      <td>588</td>\n      <td>4.0</td>\n      <td>1464121049</td>\n    </tr>\n    <tr>\n      <th>70404</th>\n      <td>487</td>\n      <td>588</td>\n      <td>4.0</td>\n      <td>832836250</td>\n    </tr>\n    <tr>\n      <th>70535</th>\n      <td>491</td>\n      <td>588</td>\n      <td>3.0</td>\n      <td>940797129</td>\n    </tr>\n    <tr>\n      <th>70976</th>\n      <td>496</td>\n      <td>588</td>\n      <td>4.0</td>\n      <td>834059779</td>\n    </tr>\n    <tr>\n      <th>71101</th>\n      <td>498</td>\n      <td>588</td>\n      <td>4.5</td>\n      <td>1166906824</td>\n    </tr>\n    <tr>\n      <th>71178</th>\n      <td>500</td>\n      <td>588</td>\n      <td>3.0</td>\n      <td>1228920888</td>\n    </tr>\n    <tr>\n      <th>72426</th>\n      <td>509</td>\n      <td>588</td>\n      <td>3.5</td>\n      <td>1093299695</td>\n    </tr>\n    <tr>\n      <th>73621</th>\n      <td>514</td>\n      <td>588</td>\n      <td>4.0</td>\n      <td>853894895</td>\n    </tr>\n    <tr>\n      <th>73979</th>\n      <td>516</td>\n      <td>588</td>\n      <td>3.0</td>\n      <td>844687044</td>\n    </tr>\n    <tr>\n      <th>74046</th>\n      <td>517</td>\n      <td>588</td>\n      <td>5.0</td>\n      <td>846449875</td>\n    </tr>\n    <tr>\n      <th>74196</th>\n      <td>518</td>\n      <td>588</td>\n      <td>4.0</td>\n      <td>945362206</td>\n    </tr>\n    <tr>\n      <th>74942</th>\n      <td>520</td>\n      <td>588</td>\n      <td>4.0</td>\n      <td>1142028522</td>\n    </tr>\n    <tr>\n      <th>75396</th>\n      <td>523</td>\n      <td>588</td>\n      <td>4.0</td>\n      <td>1202234753</td>\n    </tr>\n    <tr>\n      <th>76042</th>\n      <td>529</td>\n      <td>588</td>\n      <td>3.0</td>\n      <td>1357247314</td>\n    </tr>\n    <tr>\n      <th>76613</th>\n      <td>530</td>\n      <td>588</td>\n      <td>5.0</td>\n      <td>880081184</td>\n    </tr>\n    <tr>\n      <th>76685</th>\n      <td>531</td>\n      <td>588</td>\n      <td>4.0</td>\n      <td>1240402258</td>\n    </tr>\n    <tr>\n      <th>77125</th>\n      <td>534</td>\n      <td>588</td>\n      <td>5.0</td>\n      <td>973376883</td>\n    </tr>\n    <tr>\n      <th>77375</th>\n      <td>535</td>\n      <td>588</td>\n      <td>3.0</td>\n      <td>838630364</td>\n    </tr>\n    <tr>\n      <th>77488</th>\n      <td>536</td>\n      <td>588</td>\n      <td>5.0</td>\n      <td>829471719</td>\n    </tr>\n    <tr>\n      <th>77820</th>\n      <td>538</td>\n      <td>588</td>\n      <td>4.0</td>\n      <td>831835577</td>\n    </tr>\n    <tr>\n      <th>80932</th>\n      <td>548</td>\n      <td>588</td>\n      <td>3.0</td>\n      <td>857407562</td>\n    </tr>\n    <tr>\n      <th>81012</th>\n      <td>550</td>\n      <td>588</td>\n      <td>4.0</td>\n      <td>943373505</td>\n    </tr>\n    <tr>\n      <th>81230</th>\n      <td>552</td>\n      <td>588</td>\n      <td>3.0</td>\n      <td>843322530</td>\n    </tr>\n    <tr>\n      <th>81611</th>\n      <td>557</td>\n      <td>588</td>\n      <td>2.5</td>\n      <td>1285961987</td>\n    </tr>\n    <tr>\n      <th>81913</th>\n      <td>559</td>\n      <td>588</td>\n      <td>5.0</td>\n      <td>903144600</td>\n    </tr>\n    <tr>\n      <th>82160</th>\n      <td>561</td>\n      <td>588</td>\n      <td>3.5</td>\n      <td>1172696432</td>\n    </tr>\n    <tr>\n      <th>83168</th>\n      <td>564</td>\n      <td>588</td>\n      <td>4.0</td>\n      <td>974713412</td>\n    </tr>\n    <tr>\n      <th>84804</th>\n      <td>568</td>\n      <td>588</td>\n      <td>4.0</td>\n      <td>835002219</td>\n    </tr>\n    <tr>\n      <th>85629</th>\n      <td>575</td>\n      <td>588</td>\n      <td>4.0</td>\n      <td>1012594819</td>\n    </tr>\n    <tr>\n      <th>86203</th>\n      <td>577</td>\n      <td>588</td>\n      <td>4.0</td>\n      <td>1111475203</td>\n    </tr>\n    <tr>\n      <th>86588</th>\n      <td>580</td>\n      <td>588</td>\n      <td>2.5</td>\n      <td>1164328485</td>\n    </tr>\n    <tr>\n      <th>87471</th>\n      <td>582</td>\n      <td>588</td>\n      <td>4.5</td>\n      <td>1122169670</td>\n    </tr>\n    <tr>\n      <th>88760</th>\n      <td>589</td>\n      <td>588</td>\n      <td>4.0</td>\n      <td>836109522</td>\n    </tr>\n    <tr>\n      <th>88848</th>\n      <td>590</td>\n      <td>588</td>\n      <td>3.0</td>\n      <td>848677375</td>\n    </tr>\n    <tr>\n      <th>88903</th>\n      <td>592</td>\n      <td>588</td>\n      <td>4.0</td>\n      <td>995420443</td>\n    </tr>\n    <tr>\n      <th>89196</th>\n      <td>595</td>\n      <td>588</td>\n      <td>3.0</td>\n      <td>965230182</td>\n    </tr>\n    <tr>\n      <th>89836</th>\n      <td>597</td>\n      <td>588</td>\n      <td>5.0</td>\n      <td>940708456</td>\n    </tr>\n    <tr>\n      <th>90041</th>\n      <td>598</td>\n      <td>588</td>\n      <td>4.0</td>\n      <td>1008571159</td>\n    </tr>\n    <tr>\n      <th>90520</th>\n      <td>600</td>\n      <td>588</td>\n      <td>5.0</td>\n      <td>1431956328</td>\n    </tr>\n    <tr>\n      <th>90701</th>\n      <td>602</td>\n      <td>588</td>\n      <td>5.0</td>\n      <td>842356034</td>\n    </tr>\n    <tr>\n      <th>90767</th>\n      <td>603</td>\n      <td>588</td>\n      <td>5.0</td>\n      <td>868355630</td>\n    </tr>\n    <tr>\n      <th>90925</th>\n      <td>605</td>\n      <td>588</td>\n      <td>4.0</td>\n      <td>980174631</td>\n    </tr>\n    <tr>\n      <th>91445</th>\n      <td>607</td>\n      <td>588</td>\n      <td>4.0</td>\n      <td>1113319707</td>\n    </tr>\n    <tr>\n      <th>92308</th>\n      <td>611</td>\n      <td>588</td>\n      <td>5.0</td>\n      <td>1471524718</td>\n    </tr>\n    <tr>\n      <th>93001</th>\n      <td>617</td>\n      <td>588</td>\n      <td>3.0</td>\n      <td>944893703</td>\n    </tr>\n    <tr>\n      <th>93129</th>\n      <td>619</td>\n      <td>588</td>\n      <td>5.0</td>\n      <td>831921795</td>\n    </tr>\n    <tr>\n      <th>93446</th>\n      <td>623</td>\n      <td>588</td>\n      <td>4.0</td>\n      <td>1225258419</td>\n    </tr>\n    <tr>\n      <th>95793</th>\n      <td>629</td>\n      <td>588</td>\n      <td>3.0</td>\n      <td>841414250</td>\n    </tr>\n    <tr>\n      <th>95921</th>\n      <td>633</td>\n      <td>588</td>\n      <td>3.0</td>\n      <td>848518247</td>\n    </tr>\n    <tr>\n      <th>96094</th>\n      <td>639</td>\n      <td>588</td>\n      <td>3.0</td>\n      <td>833991650</td>\n    </tr>\n    <tr>\n      <th>96246</th>\n      <td>641</td>\n      <td>588</td>\n      <td>4.0</td>\n      <td>834636246</td>\n    </tr>\n    <tr>\n      <th>96441</th>\n      <td>646</td>\n      <td>588</td>\n      <td>5.0</td>\n      <td>953449561</td>\n    </tr>\n    <tr>\n      <th>96759</th>\n      <td>648</td>\n      <td>588</td>\n      <td>2.0</td>\n      <td>1138477792</td>\n    </tr>\n    <tr>\n      <th>97074</th>\n      <td>649</td>\n      <td>588</td>\n      <td>3.0</td>\n      <td>834424696</td>\n    </tr>\n    <tr>\n      <th>97158</th>\n      <td>652</td>\n      <td>588</td>\n      <td>4.0</td>\n      <td>1439489918</td>\n    </tr>\n    <tr>\n      <th>97414</th>\n      <td>653</td>\n      <td>588</td>\n      <td>5.0</td>\n      <td>948160926</td>\n    </tr>\n    <tr>\n      <th>97546</th>\n      <td>654</td>\n      <td>588</td>\n      <td>4.5</td>\n      <td>1145390414</td>\n    </tr>\n    <tr>\n      <th>98090</th>\n      <td>655</td>\n      <td>588</td>\n      <td>4.5</td>\n      <td>1470073101</td>\n    </tr>\n    <tr>\n      <th>98184</th>\n      <td>656</td>\n      <td>588</td>\n      <td>5.0</td>\n      <td>986242465</td>\n    </tr>\n    <tr>\n      <th>98348</th>\n      <td>658</td>\n      <td>588</td>\n      <td>5.0</td>\n      <td>941489662</td>\n    </tr>\n    <tr>\n      <th>98499</th>\n      <td>659</td>\n      <td>588</td>\n      <td>3.0</td>\n      <td>834598907</td>\n    </tr>\n    <tr>\n      <th>98710</th>\n      <td>662</td>\n      <td>588</td>\n      <td>4.0</td>\n      <td>839022166</td>\n    </tr>\n    <tr>\n      <th>99332</th>\n      <td>665</td>\n      <td>588</td>\n      <td>4.0</td>\n      <td>992909069</td>\n    </tr>\n    <tr>\n      <th>99726</th>\n      <td>666</td>\n      <td>588</td>\n      <td>3.0</td>\n      <td>838920837</td>\n    </tr>\n    <tr>\n      <th>99902</th>\n      <td>671</td>\n      <td>588</td>\n      <td>4.0</td>\n      <td>1065149478</td>\n    </tr>\n  </tbody>\n</table>\n</div>"
     },
     "metadata": {},
     "execution_count": 80
    }
   ],
   "source": [
    "# pd.set_option('display.max_rows', None) # Display full dataframe in console\n",
    "# ratings[ratings['movieId'].isin(duplicate_id)]\n",
    "ratings[ratings['movieId'].isin([114240, 588])]"
   ]
  },
  {
   "cell_type": "code",
   "execution_count": 72,
   "metadata": {},
   "outputs": [],
   "source": [
    "duplicate_id = duplicates['movieId'].unique()"
   ]
  },
  {
   "cell_type": "code",
   "execution_count": null,
   "metadata": {},
   "outputs": [],
   "source": []
  }
 ]
}